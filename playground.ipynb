{
 "cells": [
  {
   "cell_type": "code",
   "execution_count": 1,
   "metadata": {},
   "outputs": [],
   "source": [
    "import pandas as pd\n",
    "import sys\n",
    "\n",
    "sys.path.append('./src')"
   ]
  },
  {
   "cell_type": "code",
   "execution_count": 2,
   "metadata": {},
   "outputs": [
    {
     "name": "stdout",
     "output_type": "stream",
     "text": "total 27024\n-rw-r--r--  1 harutaka  staff   1.1M Dec 29 01:05 assessments_test.ftr\n-rw-r--r--  1 harutaka  staff   7.0K Dec 29 13:50 assessments_test.ipynb\n-rw-r--r--  1 harutaka  staff    10M Dec 29 01:05 assessments_train.ftr\n-rw-r--r--  1 harutaka  staff   7.0K Dec 29 13:50 assessments_train.ipynb\n"
    }
   ],
   "source": [
    "%ls -lh data/features/assessments"
   ]
  },
  {
   "cell_type": "code",
   "execution_count": 3,
   "metadata": {},
   "outputs": [],
   "source": [
    "from utils.io import read_from_clean, read_features"
   ]
  },
  {
   "cell_type": "code",
   "execution_count": 4,
   "metadata": {},
   "outputs": [
    {
     "name": "stdout",
     "output_type": "stream",
     "text": "Reading data/clean/train.ftr\n"
    }
   ],
   "source": [
    "train = read_from_clean('train.ftr')"
   ]
  },
  {
   "cell_type": "code",
   "execution_count": 5,
   "metadata": {},
   "outputs": [
    {
     "data": {
      "text/html": "<div>\n<style scoped>\n    .dataframe tbody tr th:only-of-type {\n        vertical-align: middle;\n    }\n\n    .dataframe tbody tr th {\n        vertical-align: top;\n    }\n\n    .dataframe thead th {\n        text-align: right;\n    }\n</style>\n<table border=\"1\" class=\"dataframe\">\n  <thead>\n    <tr style=\"text-align: right;\">\n      <th></th>\n      <th>event_id</th>\n      <th>game_session</th>\n      <th>timestamp</th>\n      <th>event_data</th>\n      <th>installation_id</th>\n      <th>event_count</th>\n      <th>event_code</th>\n      <th>game_time</th>\n      <th>title</th>\n      <th>type</th>\n      <th>world</th>\n    </tr>\n  </thead>\n  <tbody>\n    <tr>\n      <th>0</th>\n      <td>27253bdc</td>\n      <td>34ba1a28d02ba8ba</td>\n      <td>2019-08-06T04:57:18.904Z</td>\n      <td>{\"event_code\": 2000, \"event_count\": 1}</td>\n      <td>0006a69f</td>\n      <td>1</td>\n      <td>2000</td>\n      <td>0</td>\n      <td>Welcome to Lost Lagoon!</td>\n      <td>Clip</td>\n      <td>NONE</td>\n    </tr>\n    <tr>\n      <th>1</th>\n      <td>27253bdc</td>\n      <td>4b57c9a59474a1b9</td>\n      <td>2019-08-06T04:57:45.301Z</td>\n      <td>{\"event_code\": 2000, \"event_count\": 1}</td>\n      <td>0006a69f</td>\n      <td>1</td>\n      <td>2000</td>\n      <td>0</td>\n      <td>Magma Peak - Level 1</td>\n      <td>Clip</td>\n      <td>MAGMAPEAK</td>\n    </tr>\n    <tr>\n      <th>2</th>\n      <td>77261ab5</td>\n      <td>2b9d5af79bcdb79f</td>\n      <td>2019-08-06T04:58:14.538Z</td>\n      <td>{\"version\":\"1.0\",\"event_count\":1,\"game_time\":0...</td>\n      <td>0006a69f</td>\n      <td>1</td>\n      <td>2000</td>\n      <td>0</td>\n      <td>Sandcastle Builder (Activity)</td>\n      <td>Activity</td>\n      <td>MAGMAPEAK</td>\n    </tr>\n    <tr>\n      <th>3</th>\n      <td>b2dba42b</td>\n      <td>2b9d5af79bcdb79f</td>\n      <td>2019-08-06T04:58:14.615Z</td>\n      <td>{\"description\":\"Let's build a sandcastle! Firs...</td>\n      <td>0006a69f</td>\n      <td>2</td>\n      <td>3010</td>\n      <td>29</td>\n      <td>Sandcastle Builder (Activity)</td>\n      <td>Activity</td>\n      <td>MAGMAPEAK</td>\n    </tr>\n    <tr>\n      <th>4</th>\n      <td>1325467d</td>\n      <td>2b9d5af79bcdb79f</td>\n      <td>2019-08-06T04:58:16.680Z</td>\n      <td>{\"coordinates\":{\"x\":273,\"y\":650,\"stage_width\":...</td>\n      <td>0006a69f</td>\n      <td>3</td>\n      <td>4070</td>\n      <td>2137</td>\n      <td>Sandcastle Builder (Activity)</td>\n      <td>Activity</td>\n      <td>MAGMAPEAK</td>\n    </tr>\n  </tbody>\n</table>\n</div>",
      "text/plain": "   event_id      game_session                 timestamp  \\\n0  27253bdc  34ba1a28d02ba8ba  2019-08-06T04:57:18.904Z   \n1  27253bdc  4b57c9a59474a1b9  2019-08-06T04:57:45.301Z   \n2  77261ab5  2b9d5af79bcdb79f  2019-08-06T04:58:14.538Z   \n3  b2dba42b  2b9d5af79bcdb79f  2019-08-06T04:58:14.615Z   \n4  1325467d  2b9d5af79bcdb79f  2019-08-06T04:58:16.680Z   \n\n                                          event_data installation_id  \\\n0             {\"event_code\": 2000, \"event_count\": 1}        0006a69f   \n1             {\"event_code\": 2000, \"event_count\": 1}        0006a69f   \n2  {\"version\":\"1.0\",\"event_count\":1,\"game_time\":0...        0006a69f   \n3  {\"description\":\"Let's build a sandcastle! Firs...        0006a69f   \n4  {\"coordinates\":{\"x\":273,\"y\":650,\"stage_width\":...        0006a69f   \n\n   event_count  event_code  game_time                          title  \\\n0            1        2000          0        Welcome to Lost Lagoon!   \n1            1        2000          0           Magma Peak - Level 1   \n2            1        2000          0  Sandcastle Builder (Activity)   \n3            2        3010         29  Sandcastle Builder (Activity)   \n4            3        4070       2137  Sandcastle Builder (Activity)   \n\n       type      world  \n0      Clip       NONE  \n1      Clip  MAGMAPEAK  \n2  Activity  MAGMAPEAK  \n3  Activity  MAGMAPEAK  \n4  Activity  MAGMAPEAK  "
     },
     "execution_count": 5,
     "metadata": {},
     "output_type": "execute_result"
    }
   ],
   "source": [
    "train.head()"
   ]
  },
  {
   "cell_type": "code",
   "execution_count": 20,
   "metadata": {},
   "outputs": [
    {
     "data": {
      "text/plain": "OneHotEncoder(categorical_features=None, categories=None, drop=None,\n              dtype=<class 'numpy.float64'>, handle_unknown='error',\n              n_values=None, sparse=True)"
     },
     "execution_count": 20,
     "metadata": {},
     "output_type": "execute_result"
    }
   ],
   "source": [
    "import numpy as np\n",
    "from sklearn.preprocessing import OneHotEncoder\n",
    "\n",
    "encoder = OneHotEncoder()\n",
    "encoder.fit(train[['type']])"
   ]
  },
  {
   "cell_type": "code",
   "execution_count": 18,
   "metadata": {},
   "outputs": [
    {
     "data": {
      "text/plain": "array([[nan, nan,  1., nan],\n       [nan, nan,  1., nan],\n       [ 1., nan, nan, nan],\n       ...,\n       [nan,  1., nan, nan],\n       [nan,  1., nan, nan],\n       [nan,  1., nan, nan]])"
     },
     "execution_count": 18,
     "metadata": {},
     "output_type": "execute_result"
    }
   ],
   "source": [
    "one_hot = encoder.transform(train[['type']]).toarray().astype(np.float64)\n",
    "one_hot[one_hot == 0] = np.nan\n",
    "one_hot\n"
   ]
  },
  {
   "cell_type": "code",
   "execution_count": 19,
   "metadata": {},
   "outputs": [
    {
     "data": {
      "text/plain": "array([[   nan,    nan,     0.,    nan],\n       [   nan,    nan,     0.,    nan],\n       [    0.,    nan,    nan,    nan],\n       ...,\n       [   nan, 67094.,    nan,    nan],\n       [   nan, 67847.,    nan,    nan],\n       [   nan, 71511.,    nan,    nan]])"
     },
     "execution_count": 19,
     "metadata": {},
     "output_type": "execute_result"
    }
   ],
   "source": [
    "one_hot * train[['game_time']].values"
   ]
  },
  {
   "cell_type": "code",
   "execution_count": 11,
   "metadata": {},
   "outputs": [
    {
     "name": "stdout",
     "output_type": "stream",
     "text": "Reading data/features/game_time_stats/game_time_stats_train.ftr\nReading data/features/game_time_stats/game_time_stats_test.ftr\n"
    },
    {
     "data": {
      "text/html": "<div>\n<style scoped>\n    .dataframe tbody tr th:only-of-type {\n        vertical-align: middle;\n    }\n\n    .dataframe tbody tr th {\n        vertical-align: top;\n    }\n\n    .dataframe thead th {\n        text-align: right;\n    }\n</style>\n<table border=\"1\" class=\"dataframe\">\n  <thead>\n    <tr style=\"text-align: right;\">\n      <th></th>\n      <th>installation_id</th>\n      <th>game_session</th>\n      <th>Activity_duration</th>\n      <th>Assessment_duration</th>\n      <th>Clip_duration</th>\n      <th>Game_duration</th>\n    </tr>\n  </thead>\n  <tbody>\n    <tr>\n      <th>200</th>\n      <td>00225f67</td>\n      <td>94ed6c195f84cc24</td>\n      <td>NaN</td>\n      <td>NaN</td>\n      <td>0.0</td>\n      <td>NaN</td>\n    </tr>\n    <tr>\n      <th>201</th>\n      <td>00225f67</td>\n      <td>36e19d45771e91b4</td>\n      <td>NaN</td>\n      <td>9120.0</td>\n      <td>NaN</td>\n      <td>NaN</td>\n    </tr>\n    <tr>\n      <th>202</th>\n      <td>00225f67</td>\n      <td>76e8cb3771d8d040</td>\n      <td>NaN</td>\n      <td>NaN</td>\n      <td>NaN</td>\n      <td>39375.0</td>\n    </tr>\n    <tr>\n      <th>203</th>\n      <td>00225f67</td>\n      <td>879d9e21b8bd8886</td>\n      <td>NaN</td>\n      <td>NaN</td>\n      <td>0.0</td>\n      <td>NaN</td>\n    </tr>\n    <tr>\n      <th>204</th>\n      <td>00225f67</td>\n      <td>0861b5e3302ab66e</td>\n      <td>NaN</td>\n      <td>NaN</td>\n      <td>0.0</td>\n      <td>NaN</td>\n    </tr>\n    <tr>\n      <th>205</th>\n      <td>00225f67</td>\n      <td>b2705e46e281e578</td>\n      <td>NaN</td>\n      <td>NaN</td>\n      <td>NaN</td>\n      <td>130717.0</td>\n    </tr>\n    <tr>\n      <th>206</th>\n      <td>00225f67</td>\n      <td>d3985d41d28d6e80</td>\n      <td>NaN</td>\n      <td>NaN</td>\n      <td>0.0</td>\n      <td>NaN</td>\n    </tr>\n    <tr>\n      <th>207</th>\n      <td>00225f67</td>\n      <td>1184d3e169326bc5</td>\n      <td>12178.0</td>\n      <td>NaN</td>\n      <td>NaN</td>\n      <td>NaN</td>\n    </tr>\n    <tr>\n      <th>208</th>\n      <td>00225f67</td>\n      <td>619b9c069cf790ca</td>\n      <td>NaN</td>\n      <td>26517.0</td>\n      <td>NaN</td>\n      <td>NaN</td>\n    </tr>\n    <tr>\n      <th>209</th>\n      <td>00225f67</td>\n      <td>230d5f0fdc9793be</td>\n      <td>NaN</td>\n      <td>NaN</td>\n      <td>0.0</td>\n      <td>NaN</td>\n    </tr>\n    <tr>\n      <th>210</th>\n      <td>00225f67</td>\n      <td>866157dd73ab1864</td>\n      <td>NaN</td>\n      <td>NaN</td>\n      <td>NaN</td>\n      <td>192166.0</td>\n    </tr>\n    <tr>\n      <th>211</th>\n      <td>00225f67</td>\n      <td>2cd30377a997efd6</td>\n      <td>NaN</td>\n      <td>NaN</td>\n      <td>0.0</td>\n      <td>NaN</td>\n    </tr>\n    <tr>\n      <th>212</th>\n      <td>00225f67</td>\n      <td>6ea72c1a264f2852</td>\n      <td>77797.0</td>\n      <td>NaN</td>\n      <td>NaN</td>\n      <td>NaN</td>\n    </tr>\n    <tr>\n      <th>213</th>\n      <td>00225f67</td>\n      <td>b178432ed834f847</td>\n      <td>NaN</td>\n      <td>NaN</td>\n      <td>0.0</td>\n      <td>NaN</td>\n    </tr>\n    <tr>\n      <th>214</th>\n      <td>00225f67</td>\n      <td>efb24bced5c91761</td>\n      <td>NaN</td>\n      <td>NaN</td>\n      <td>0.0</td>\n      <td>NaN</td>\n    </tr>\n    <tr>\n      <th>215</th>\n      <td>00225f67</td>\n      <td>627fcbfd9e2e1090</td>\n      <td>NaN</td>\n      <td>NaN</td>\n      <td>0.0</td>\n      <td>NaN</td>\n    </tr>\n    <tr>\n      <th>216</th>\n      <td>00279ac5</td>\n      <td>425e866a7b1844ff</td>\n      <td>NaN</td>\n      <td>NaN</td>\n      <td>0.0</td>\n      <td>NaN</td>\n    </tr>\n    <tr>\n      <th>217</th>\n      <td>00279ac5</td>\n      <td>7cc32beaaa62b23b</td>\n      <td>NaN</td>\n      <td>NaN</td>\n      <td>0.0</td>\n      <td>NaN</td>\n    </tr>\n    <tr>\n      <th>218</th>\n      <td>00279ac5</td>\n      <td>b88245b6754cb36b</td>\n      <td>67315.0</td>\n      <td>NaN</td>\n      <td>NaN</td>\n      <td>NaN</td>\n    </tr>\n    <tr>\n      <th>219</th>\n      <td>00279ac5</td>\n      <td>072a89143ffc75e2</td>\n      <td>NaN</td>\n      <td>NaN</td>\n      <td>NaN</td>\n      <td>109982.0</td>\n    </tr>\n    <tr>\n      <th>220</th>\n      <td>00279ac5</td>\n      <td>bac45a29b0458e58</td>\n      <td>NaN</td>\n      <td>NaN</td>\n      <td>NaN</td>\n      <td>99520.0</td>\n    </tr>\n    <tr>\n      <th>221</th>\n      <td>00279ac5</td>\n      <td>98a12ba7fb8c8661</td>\n      <td>NaN</td>\n      <td>NaN</td>\n      <td>0.0</td>\n      <td>NaN</td>\n    </tr>\n    <tr>\n      <th>222</th>\n      <td>00279ac5</td>\n      <td>ec932bb0eed268f4</td>\n      <td>NaN</td>\n      <td>NaN</td>\n      <td>NaN</td>\n      <td>335584.0</td>\n    </tr>\n    <tr>\n      <th>223</th>\n      <td>00279ac5</td>\n      <td>bf7ce6a19eb47738</td>\n      <td>NaN</td>\n      <td>NaN</td>\n      <td>0.0</td>\n      <td>NaN</td>\n    </tr>\n    <tr>\n      <th>224</th>\n      <td>00279ac5</td>\n      <td>dc4cc93f10d8fdbf</td>\n      <td>NaN</td>\n      <td>NaN</td>\n      <td>0.0</td>\n      <td>NaN</td>\n    </tr>\n    <tr>\n      <th>225</th>\n      <td>00279ac5</td>\n      <td>882c0a46df840ea3</td>\n      <td>NaN</td>\n      <td>NaN</td>\n      <td>0.0</td>\n      <td>NaN</td>\n    </tr>\n    <tr>\n      <th>226</th>\n      <td>00279ac5</td>\n      <td>2701117df94a37f6</td>\n      <td>NaN</td>\n      <td>NaN</td>\n      <td>0.0</td>\n      <td>NaN</td>\n    </tr>\n    <tr>\n      <th>227</th>\n      <td>00279ac5</td>\n      <td>0d6978c04476e566</td>\n      <td>177566.0</td>\n      <td>NaN</td>\n      <td>NaN</td>\n      <td>NaN</td>\n    </tr>\n    <tr>\n      <th>228</th>\n      <td>00279ac5</td>\n      <td>cf11ae74d2937254</td>\n      <td>377129.0</td>\n      <td>NaN</td>\n      <td>NaN</td>\n      <td>NaN</td>\n    </tr>\n    <tr>\n      <th>229</th>\n      <td>00279ac5</td>\n      <td>9fbe407b1f1fc194</td>\n      <td>NaN</td>\n      <td>NaN</td>\n      <td>NaN</td>\n      <td>396502.0</td>\n    </tr>\n    <tr>\n      <th>230</th>\n      <td>00279ac5</td>\n      <td>23be214c3d68b6bc</td>\n      <td>NaN</td>\n      <td>NaN</td>\n      <td>0.0</td>\n      <td>NaN</td>\n    </tr>\n    <tr>\n      <th>231</th>\n      <td>00279ac5</td>\n      <td>36d6247ee640d6e1</td>\n      <td>NaN</td>\n      <td>NaN</td>\n      <td>0.0</td>\n      <td>NaN</td>\n    </tr>\n    <tr>\n      <th>232</th>\n      <td>00279ac5</td>\n      <td>cd2858323514925e</td>\n      <td>NaN</td>\n      <td>NaN</td>\n      <td>0.0</td>\n      <td>NaN</td>\n    </tr>\n    <tr>\n      <th>233</th>\n      <td>00279ac5</td>\n      <td>ff9d001759200f59</td>\n      <td>NaN</td>\n      <td>NaN</td>\n      <td>0.0</td>\n      <td>NaN</td>\n    </tr>\n    <tr>\n      <th>234</th>\n      <td>00279ac5</td>\n      <td>2be25db4b526f937</td>\n      <td>109595.0</td>\n      <td>NaN</td>\n      <td>NaN</td>\n      <td>NaN</td>\n    </tr>\n    <tr>\n      <th>235</th>\n      <td>00279ac5</td>\n      <td>0260709552c286c5</td>\n      <td>NaN</td>\n      <td>NaN</td>\n      <td>0.0</td>\n      <td>NaN</td>\n    </tr>\n    <tr>\n      <th>236</th>\n      <td>00279ac5</td>\n      <td>3a39db329f4f0d3e</td>\n      <td>NaN</td>\n      <td>NaN</td>\n      <td>0.0</td>\n      <td>NaN</td>\n    </tr>\n    <tr>\n      <th>237</th>\n      <td>00279ac5</td>\n      <td>9812c643699eb318</td>\n      <td>124784.0</td>\n      <td>NaN</td>\n      <td>NaN</td>\n      <td>NaN</td>\n    </tr>\n    <tr>\n      <th>238</th>\n      <td>00279ac5</td>\n      <td>5581a291fa1eb7de</td>\n      <td>NaN</td>\n      <td>NaN</td>\n      <td>NaN</td>\n      <td>177913.0</td>\n    </tr>\n    <tr>\n      <th>239</th>\n      <td>00279ac5</td>\n      <td>20635c874478f8e7</td>\n      <td>NaN</td>\n      <td>NaN</td>\n      <td>0.0</td>\n      <td>NaN</td>\n    </tr>\n    <tr>\n      <th>240</th>\n      <td>00279ac5</td>\n      <td>7073b1c632c48f1c</td>\n      <td>NaN</td>\n      <td>NaN</td>\n      <td>NaN</td>\n      <td>122820.0</td>\n    </tr>\n    <tr>\n      <th>241</th>\n      <td>00279ac5</td>\n      <td>c71e9f7a334a0a05</td>\n      <td>139105.0</td>\n      <td>NaN</td>\n      <td>NaN</td>\n      <td>NaN</td>\n    </tr>\n    <tr>\n      <th>242</th>\n      <td>00279ac5</td>\n      <td>356cbc0beea48039</td>\n      <td>NaN</td>\n      <td>NaN</td>\n      <td>NaN</td>\n      <td>55544.0</td>\n    </tr>\n    <tr>\n      <th>243</th>\n      <td>00279ac5</td>\n      <td>1eb68e4497d5448a</td>\n      <td>NaN</td>\n      <td>NaN</td>\n      <td>0.0</td>\n      <td>NaN</td>\n    </tr>\n    <tr>\n      <th>244</th>\n      <td>00279ac5</td>\n      <td>16b8dec78c34df0d</td>\n      <td>149030.0</td>\n      <td>NaN</td>\n      <td>NaN</td>\n      <td>NaN</td>\n    </tr>\n    <tr>\n      <th>245</th>\n      <td>00279ac5</td>\n      <td>bd94f1a371aa41bf</td>\n      <td>NaN</td>\n      <td>NaN</td>\n      <td>0.0</td>\n      <td>NaN</td>\n    </tr>\n    <tr>\n      <th>246</th>\n      <td>00279ac5</td>\n      <td>a849342ebd23e504</td>\n      <td>146742.0</td>\n      <td>NaN</td>\n      <td>NaN</td>\n      <td>NaN</td>\n    </tr>\n    <tr>\n      <th>247</th>\n      <td>00279ac5</td>\n      <td>df2df55def649110</td>\n      <td>108433.0</td>\n      <td>NaN</td>\n      <td>NaN</td>\n      <td>NaN</td>\n    </tr>\n    <tr>\n      <th>248</th>\n      <td>00279ac5</td>\n      <td>652fcd20ed9b9ce1</td>\n      <td>NaN</td>\n      <td>NaN</td>\n      <td>0.0</td>\n      <td>NaN</td>\n    </tr>\n    <tr>\n      <th>249</th>\n      <td>00279ac5</td>\n      <td>9613bf18ec6da3e3</td>\n      <td>NaN</td>\n      <td>NaN</td>\n      <td>NaN</td>\n      <td>1312905.0</td>\n    </tr>\n  </tbody>\n</table>\n</div>",
      "text/plain": "    installation_id      game_session  Activity_duration  Assessment_duration  \\\n200        00225f67  94ed6c195f84cc24                NaN                  NaN   \n201        00225f67  36e19d45771e91b4                NaN               9120.0   \n202        00225f67  76e8cb3771d8d040                NaN                  NaN   \n203        00225f67  879d9e21b8bd8886                NaN                  NaN   \n204        00225f67  0861b5e3302ab66e                NaN                  NaN   \n205        00225f67  b2705e46e281e578                NaN                  NaN   \n206        00225f67  d3985d41d28d6e80                NaN                  NaN   \n207        00225f67  1184d3e169326bc5            12178.0                  NaN   \n208        00225f67  619b9c069cf790ca                NaN              26517.0   \n209        00225f67  230d5f0fdc9793be                NaN                  NaN   \n210        00225f67  866157dd73ab1864                NaN                  NaN   \n211        00225f67  2cd30377a997efd6                NaN                  NaN   \n212        00225f67  6ea72c1a264f2852            77797.0                  NaN   \n213        00225f67  b178432ed834f847                NaN                  NaN   \n214        00225f67  efb24bced5c91761                NaN                  NaN   \n215        00225f67  627fcbfd9e2e1090                NaN                  NaN   \n216        00279ac5  425e866a7b1844ff                NaN                  NaN   \n217        00279ac5  7cc32beaaa62b23b                NaN                  NaN   \n218        00279ac5  b88245b6754cb36b            67315.0                  NaN   \n219        00279ac5  072a89143ffc75e2                NaN                  NaN   \n220        00279ac5  bac45a29b0458e58                NaN                  NaN   \n221        00279ac5  98a12ba7fb8c8661                NaN                  NaN   \n222        00279ac5  ec932bb0eed268f4                NaN                  NaN   \n223        00279ac5  bf7ce6a19eb47738                NaN                  NaN   \n224        00279ac5  dc4cc93f10d8fdbf                NaN                  NaN   \n225        00279ac5  882c0a46df840ea3                NaN                  NaN   \n226        00279ac5  2701117df94a37f6                NaN                  NaN   \n227        00279ac5  0d6978c04476e566           177566.0                  NaN   \n228        00279ac5  cf11ae74d2937254           377129.0                  NaN   \n229        00279ac5  9fbe407b1f1fc194                NaN                  NaN   \n230        00279ac5  23be214c3d68b6bc                NaN                  NaN   \n231        00279ac5  36d6247ee640d6e1                NaN                  NaN   \n232        00279ac5  cd2858323514925e                NaN                  NaN   \n233        00279ac5  ff9d001759200f59                NaN                  NaN   \n234        00279ac5  2be25db4b526f937           109595.0                  NaN   \n235        00279ac5  0260709552c286c5                NaN                  NaN   \n236        00279ac5  3a39db329f4f0d3e                NaN                  NaN   \n237        00279ac5  9812c643699eb318           124784.0                  NaN   \n238        00279ac5  5581a291fa1eb7de                NaN                  NaN   \n239        00279ac5  20635c874478f8e7                NaN                  NaN   \n240        00279ac5  7073b1c632c48f1c                NaN                  NaN   \n241        00279ac5  c71e9f7a334a0a05           139105.0                  NaN   \n242        00279ac5  356cbc0beea48039                NaN                  NaN   \n243        00279ac5  1eb68e4497d5448a                NaN                  NaN   \n244        00279ac5  16b8dec78c34df0d           149030.0                  NaN   \n245        00279ac5  bd94f1a371aa41bf                NaN                  NaN   \n246        00279ac5  a849342ebd23e504           146742.0                  NaN   \n247        00279ac5  df2df55def649110           108433.0                  NaN   \n248        00279ac5  652fcd20ed9b9ce1                NaN                  NaN   \n249        00279ac5  9613bf18ec6da3e3                NaN                  NaN   \n\n     Clip_duration  Game_duration  \n200            0.0            NaN  \n201            NaN            NaN  \n202            NaN        39375.0  \n203            0.0            NaN  \n204            0.0            NaN  \n205            NaN       130717.0  \n206            0.0            NaN  \n207            NaN            NaN  \n208            NaN            NaN  \n209            0.0            NaN  \n210            NaN       192166.0  \n211            0.0            NaN  \n212            NaN            NaN  \n213            0.0            NaN  \n214            0.0            NaN  \n215            0.0            NaN  \n216            0.0            NaN  \n217            0.0            NaN  \n218            NaN            NaN  \n219            NaN       109982.0  \n220            NaN        99520.0  \n221            0.0            NaN  \n222            NaN       335584.0  \n223            0.0            NaN  \n224            0.0            NaN  \n225            0.0            NaN  \n226            0.0            NaN  \n227            NaN            NaN  \n228            NaN            NaN  \n229            NaN       396502.0  \n230            0.0            NaN  \n231            0.0            NaN  \n232            0.0            NaN  \n233            0.0            NaN  \n234            NaN            NaN  \n235            0.0            NaN  \n236            0.0            NaN  \n237            NaN            NaN  \n238            NaN       177913.0  \n239            0.0            NaN  \n240            NaN       122820.0  \n241            NaN            NaN  \n242            NaN        55544.0  \n243            0.0            NaN  \n244            NaN            NaN  \n245            0.0            NaN  \n246            NaN            NaN  \n247            NaN            NaN  \n248            0.0            NaN  \n249            NaN      1312905.0  "
     },
     "execution_count": 11,
     "metadata": {},
     "output_type": "execute_result"
    }
   ],
   "source": [
    "train, test = read_features('game_time_stats')\n",
    "train[200:250]"
   ]
  },
  {
   "cell_type": "code",
   "execution_count": 6,
   "metadata": {},
   "outputs": [
    {
     "data": {
      "text/plain": "installation_id             0\ngame_session                0\nActivity_duration      145326\nAssessment_duration    155375\nClip_duration           84760\nGame_duration          140940\ndtype: int64"
     },
     "execution_count": 6,
     "metadata": {},
     "output_type": "execute_result"
    }
   ],
   "source": [
    "train.isnull().sum()"
   ]
  },
  {
   "cell_type": "code",
   "execution_count": null,
   "metadata": {},
   "outputs": [],
   "source": []
  }
 ],
 "metadata": {
  "kernelspec": {
   "display_name": "Python [conda env:machine-learning] *",
   "language": "python",
   "name": "conda-env-machine-learning-py"
  },
  "language_info": {
   "codemirror_mode": {
    "name": "ipython",
    "version": 3
   },
   "file_extension": ".py",
   "mimetype": "text/x-python",
   "name": "python",
   "nbconvert_exporter": "python",
   "pygments_lexer": "ipython3",
   "version": "3.7.4"
  }
 },
 "nbformat": 4,
 "nbformat_minor": 2
}