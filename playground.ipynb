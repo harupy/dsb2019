{
 "cells": [
  {
   "cell_type": "code",
   "execution_count": 1,
   "metadata": {},
   "outputs": [],
   "source": [
    "import re\n",
    "import pandas as pd\n",
    "import numpy as np\n",
    "import sys\n",
    "\n",
    "sys.path.append('./src')"
   ]
  },
  {
   "cell_type": "code",
   "execution_count": 2,
   "metadata": {},
   "outputs": [
    {
     "name": "stdout",
     "output_type": "stream",
     "text": "ls: data/features/assessments: No such file or directory\n"
    }
   ],
   "source": [
    "%ls -lh data/features/assessments"
   ]
  },
  {
   "cell_type": "code",
   "execution_count": 7,
   "metadata": {},
   "outputs": [
    {
     "name": "stdout",
     "output_type": "stream",
     "text": "Reading data/clean/train.ftr\nReading data/clean/test.ftr\n"
    }
   ],
   "source": [
    "train = read_from_clean('train.ftr')\n",
    "test = read_from_clean('test.ftr')\n",
    ""
   ]
  },
  {
   "cell_type": "code",
   "execution_count": 3,
   "metadata": {},
   "outputs": [],
   "source": [
    "from utils.common import prefix_list\n",
    "from utils.io import read_from_clean, read_features\n",
    "from utils.encoding import build_one_hot_encoder, get_categories"
   ]
  },
  {
   "cell_type": "code",
   "execution_count": 9,
   "metadata": {},
   "outputs": [],
   "source": [
    "import re\n",
    "import numpy as np\n",
    "import pandas as pd\n",
    "\n",
    "from utils.common import remove_dir_ext, prefix_list\n",
    "from utils.io import read_from_clean, save_features\n",
    "from utils.dataframe import apply_funcs, concat_dfs\n",
    "from utils.encoding import build_one_hot_encoder, get_categories\n",
    "from features.funcs import (filter_assessment_attempt,\n",
    "                            assign_attempt_result,\n",
    "                            calc_attempt_stats,\n",
    "                            cum_by_user)\n",
    "\n",
    "\n",
    "\n",
    "\n",
    "\n",
    "\n",
    "encoder = build_one_hot_encoder(train, test, ['title'])\n",
    "funcs = [\n",
    "    filter_assessment_attempt,\n",
    "    assign_attempt_result,\n",
    "    lambda df: calc_attempt_stats(df, keep_title=True),\n",
    "]\n",
    "\n",
    "stats = apply_funcs(train, funcs)"
   ]
  },
  {
   "cell_type": "code",
   "execution_count": 10,
   "metadata": {},
   "outputs": [
    {
     "data": {
      "text/html": "<div>\n<style scoped>\n    .dataframe tbody tr th:only-of-type {\n        vertical-align: middle;\n    }\n\n    .dataframe tbody tr th {\n        vertical-align: top;\n    }\n\n    .dataframe thead th {\n        text-align: right;\n    }\n</style>\n<table border=\"1\" class=\"dataframe\">\n  <thead>\n    <tr style=\"text-align: right;\">\n      <th></th>\n      <th>installation_id</th>\n      <th>game_session</th>\n      <th>title</th>\n      <th>num_correct</th>\n      <th>num_incorrect</th>\n      <th>attempts</th>\n      <th>accuracy</th>\n      <th>accuracy_group</th>\n    </tr>\n  </thead>\n  <tbody>\n    <tr>\n      <td>0</td>\n      <td>0006a69f</td>\n      <td>901acc108f55a5a1</td>\n      <td>Mushroom Sorter (Assessment)</td>\n      <td>1</td>\n      <td>0</td>\n      <td>1</td>\n      <td>1.000000</td>\n      <td>3</td>\n    </tr>\n    <tr>\n      <td>1</td>\n      <td>0006a69f</td>\n      <td>77b8ee947eb84b4e</td>\n      <td>Bird Measurer (Assessment)</td>\n      <td>0</td>\n      <td>11</td>\n      <td>11</td>\n      <td>0.000000</td>\n      <td>0</td>\n    </tr>\n    <tr>\n      <td>2</td>\n      <td>0006a69f</td>\n      <td>6bdf9623adc94d89</td>\n      <td>Mushroom Sorter (Assessment)</td>\n      <td>1</td>\n      <td>0</td>\n      <td>1</td>\n      <td>1.000000</td>\n      <td>3</td>\n    </tr>\n    <tr>\n      <td>3</td>\n      <td>0006a69f</td>\n      <td>9501794defd84e4d</td>\n      <td>Mushroom Sorter (Assessment)</td>\n      <td>1</td>\n      <td>1</td>\n      <td>2</td>\n      <td>0.500000</td>\n      <td>2</td>\n    </tr>\n    <tr>\n      <td>4</td>\n      <td>0006a69f</td>\n      <td>a9ef3ecb3d1acc6a</td>\n      <td>Bird Measurer (Assessment)</td>\n      <td>1</td>\n      <td>0</td>\n      <td>1</td>\n      <td>1.000000</td>\n      <td>3</td>\n    </tr>\n    <tr>\n      <td>...</td>\n      <td>...</td>\n      <td>...</td>\n      <td>...</td>\n      <td>...</td>\n      <td>...</td>\n      <td>...</td>\n      <td>...</td>\n      <td>...</td>\n    </tr>\n    <tr>\n      <td>17685</td>\n      <td>ffc90c32</td>\n      <td>460e8bdc2822b340</td>\n      <td>Chest Sorter (Assessment)</td>\n      <td>1</td>\n      <td>0</td>\n      <td>1</td>\n      <td>1.000000</td>\n      <td>3</td>\n    </tr>\n    <tr>\n      <td>17686</td>\n      <td>ffd2871d</td>\n      <td>b05a02b52d5c1f4c</td>\n      <td>Cauldron Filler (Assessment)</td>\n      <td>1</td>\n      <td>0</td>\n      <td>1</td>\n      <td>1.000000</td>\n      <td>3</td>\n    </tr>\n    <tr>\n      <td>17687</td>\n      <td>ffeb0b1b</td>\n      <td>dadd1a4d8ac68ab0</td>\n      <td>Cauldron Filler (Assessment)</td>\n      <td>1</td>\n      <td>2</td>\n      <td>3</td>\n      <td>0.333333</td>\n      <td>1</td>\n    </tr>\n    <tr>\n      <td>17688</td>\n      <td>ffeb0b1b</td>\n      <td>a6885ab824fbc32c</td>\n      <td>Mushroom Sorter (Assessment)</td>\n      <td>0</td>\n      <td>1</td>\n      <td>1</td>\n      <td>0.000000</td>\n      <td>0</td>\n    </tr>\n    <tr>\n      <td>17689</td>\n      <td>ffeb0b1b</td>\n      <td>5448d652309a6324</td>\n      <td>Cauldron Filler (Assessment)</td>\n      <td>1</td>\n      <td>2</td>\n      <td>3</td>\n      <td>0.333333</td>\n      <td>1</td>\n    </tr>\n  </tbody>\n</table>\n<p>17690 rows × 8 columns</p>\n</div>",
      "text/plain": "      installation_id      game_session                         title  \\\n0            0006a69f  901acc108f55a5a1  Mushroom Sorter (Assessment)   \n1            0006a69f  77b8ee947eb84b4e    Bird Measurer (Assessment)   \n2            0006a69f  6bdf9623adc94d89  Mushroom Sorter (Assessment)   \n3            0006a69f  9501794defd84e4d  Mushroom Sorter (Assessment)   \n4            0006a69f  a9ef3ecb3d1acc6a    Bird Measurer (Assessment)   \n...               ...               ...                           ...   \n17685        ffc90c32  460e8bdc2822b340     Chest Sorter (Assessment)   \n17686        ffd2871d  b05a02b52d5c1f4c  Cauldron Filler (Assessment)   \n17687        ffeb0b1b  dadd1a4d8ac68ab0  Cauldron Filler (Assessment)   \n17688        ffeb0b1b  a6885ab824fbc32c  Mushroom Sorter (Assessment)   \n17689        ffeb0b1b  5448d652309a6324  Cauldron Filler (Assessment)   \n\n       num_correct  num_incorrect  attempts  accuracy  accuracy_group  \n0                1              0         1  1.000000               3  \n1                0             11        11  0.000000               0  \n2                1              0         1  1.000000               3  \n3                1              1         2  0.500000               2  \n4                1              0         1  1.000000               3  \n...            ...            ...       ...       ...             ...  \n17685            1              0         1  1.000000               3  \n17686            1              0         1  1.000000               3  \n17687            1              2         3  0.333333               1  \n17688            0              1         1  0.000000               0  \n17689            1              2         3  0.333333               1  \n\n[17690 rows x 8 columns]"
     },
     "execution_count": 10,
     "metadata": {},
     "output_type": "execute_result"
    }
   ],
   "source": [
    "stats"
   ]
  },
  {
   "cell_type": "code",
   "execution_count": 36,
   "metadata": {},
   "outputs": [
    {
     "data": {
      "text/html": "<div>\n<style scoped>\n    .dataframe tbody tr th:only-of-type {\n        vertical-align: middle;\n    }\n\n    .dataframe tbody tr th {\n        vertical-align: top;\n    }\n\n    .dataframe thead th {\n        text-align: right;\n    }\n</style>\n<table border=\"1\" class=\"dataframe\">\n  <thead>\n    <tr style=\"text-align: right;\">\n      <th></th>\n      <th>installation_id</th>\n      <th>game_session</th>\n      <th>title</th>\n      <th>num_correct</th>\n      <th>num_incorrect</th>\n      <th>attempts</th>\n      <th>accuracy</th>\n      <th>accuracy_group</th>\n      <th>acg_Bird_Measurer_Assessment</th>\n      <th>acg_Cart_Balancer_Assessment</th>\n      <th>acg_Cauldron_Filler_Assessment</th>\n      <th>acg_Chest_Sorter_Assessment</th>\n      <th>acg_Mushroom_Sorter_Assessment</th>\n      <th>best_acg</th>\n    </tr>\n  </thead>\n  <tbody>\n    <tr>\n      <td>0</td>\n      <td>0006a69f</td>\n      <td>901acc108f55a5a1</td>\n      <td>Mushroom Sorter (Assessment)</td>\n      <td>1</td>\n      <td>0</td>\n      <td>1</td>\n      <td>1.000000</td>\n      <td>3</td>\n      <td>NaN</td>\n      <td>NaN</td>\n      <td>NaN</td>\n      <td>NaN</td>\n      <td>NaN</td>\n      <td>NaN</td>\n    </tr>\n    <tr>\n      <td>1</td>\n      <td>0006a69f</td>\n      <td>77b8ee947eb84b4e</td>\n      <td>Bird Measurer (Assessment)</td>\n      <td>0</td>\n      <td>11</td>\n      <td>11</td>\n      <td>0.000000</td>\n      <td>0</td>\n      <td>0.0</td>\n      <td>0.0</td>\n      <td>0.0</td>\n      <td>0.0</td>\n      <td>3.0</td>\n      <td>0.0</td>\n    </tr>\n    <tr>\n      <td>2</td>\n      <td>0006a69f</td>\n      <td>6bdf9623adc94d89</td>\n      <td>Mushroom Sorter (Assessment)</td>\n      <td>1</td>\n      <td>0</td>\n      <td>1</td>\n      <td>1.000000</td>\n      <td>3</td>\n      <td>0.0</td>\n      <td>0.0</td>\n      <td>0.0</td>\n      <td>0.0</td>\n      <td>3.0</td>\n      <td>3.0</td>\n    </tr>\n    <tr>\n      <td>3</td>\n      <td>0006a69f</td>\n      <td>9501794defd84e4d</td>\n      <td>Mushroom Sorter (Assessment)</td>\n      <td>1</td>\n      <td>1</td>\n      <td>2</td>\n      <td>0.500000</td>\n      <td>2</td>\n      <td>0.0</td>\n      <td>0.0</td>\n      <td>0.0</td>\n      <td>0.0</td>\n      <td>3.0</td>\n      <td>3.0</td>\n    </tr>\n    <tr>\n      <td>4</td>\n      <td>0006a69f</td>\n      <td>a9ef3ecb3d1acc6a</td>\n      <td>Bird Measurer (Assessment)</td>\n      <td>1</td>\n      <td>0</td>\n      <td>1</td>\n      <td>1.000000</td>\n      <td>3</td>\n      <td>0.0</td>\n      <td>0.0</td>\n      <td>0.0</td>\n      <td>0.0</td>\n      <td>3.0</td>\n      <td>0.0</td>\n    </tr>\n    <tr>\n      <td>...</td>\n      <td>...</td>\n      <td>...</td>\n      <td>...</td>\n      <td>...</td>\n      <td>...</td>\n      <td>...</td>\n      <td>...</td>\n      <td>...</td>\n      <td>...</td>\n      <td>...</td>\n      <td>...</td>\n      <td>...</td>\n      <td>...</td>\n      <td>...</td>\n    </tr>\n    <tr>\n      <td>17685</td>\n      <td>ffc90c32</td>\n      <td>460e8bdc2822b340</td>\n      <td>Chest Sorter (Assessment)</td>\n      <td>1</td>\n      <td>0</td>\n      <td>1</td>\n      <td>1.000000</td>\n      <td>3</td>\n      <td>3.0</td>\n      <td>3.0</td>\n      <td>3.0</td>\n      <td>0.0</td>\n      <td>3.0</td>\n      <td>0.0</td>\n    </tr>\n    <tr>\n      <td>17686</td>\n      <td>ffd2871d</td>\n      <td>b05a02b52d5c1f4c</td>\n      <td>Cauldron Filler (Assessment)</td>\n      <td>1</td>\n      <td>0</td>\n      <td>1</td>\n      <td>1.000000</td>\n      <td>3</td>\n      <td>NaN</td>\n      <td>NaN</td>\n      <td>NaN</td>\n      <td>NaN</td>\n      <td>NaN</td>\n      <td>NaN</td>\n    </tr>\n    <tr>\n      <td>17687</td>\n      <td>ffeb0b1b</td>\n      <td>dadd1a4d8ac68ab0</td>\n      <td>Cauldron Filler (Assessment)</td>\n      <td>1</td>\n      <td>2</td>\n      <td>3</td>\n      <td>0.333333</td>\n      <td>1</td>\n      <td>NaN</td>\n      <td>NaN</td>\n      <td>NaN</td>\n      <td>NaN</td>\n      <td>NaN</td>\n      <td>NaN</td>\n    </tr>\n    <tr>\n      <td>17688</td>\n      <td>ffeb0b1b</td>\n      <td>a6885ab824fbc32c</td>\n      <td>Mushroom Sorter (Assessment)</td>\n      <td>0</td>\n      <td>1</td>\n      <td>1</td>\n      <td>0.000000</td>\n      <td>0</td>\n      <td>0.0</td>\n      <td>0.0</td>\n      <td>1.0</td>\n      <td>0.0</td>\n      <td>0.0</td>\n      <td>0.0</td>\n    </tr>\n    <tr>\n      <td>17689</td>\n      <td>ffeb0b1b</td>\n      <td>5448d652309a6324</td>\n      <td>Cauldron Filler (Assessment)</td>\n      <td>1</td>\n      <td>2</td>\n      <td>3</td>\n      <td>0.333333</td>\n      <td>1</td>\n      <td>0.0</td>\n      <td>0.0</td>\n      <td>1.0</td>\n      <td>0.0</td>\n      <td>0.0</td>\n      <td>1.0</td>\n    </tr>\n  </tbody>\n</table>\n<p>17690 rows × 14 columns</p>\n</div>",
      "text/plain": "      installation_id      game_session                         title  \\\n0            0006a69f  901acc108f55a5a1  Mushroom Sorter (Assessment)   \n1            0006a69f  77b8ee947eb84b4e    Bird Measurer (Assessment)   \n2            0006a69f  6bdf9623adc94d89  Mushroom Sorter (Assessment)   \n3            0006a69f  9501794defd84e4d  Mushroom Sorter (Assessment)   \n4            0006a69f  a9ef3ecb3d1acc6a    Bird Measurer (Assessment)   \n...               ...               ...                           ...   \n17685        ffc90c32  460e8bdc2822b340     Chest Sorter (Assessment)   \n17686        ffd2871d  b05a02b52d5c1f4c  Cauldron Filler (Assessment)   \n17687        ffeb0b1b  dadd1a4d8ac68ab0  Cauldron Filler (Assessment)   \n17688        ffeb0b1b  a6885ab824fbc32c  Mushroom Sorter (Assessment)   \n17689        ffeb0b1b  5448d652309a6324  Cauldron Filler (Assessment)   \n\n       num_correct  num_incorrect  attempts  accuracy  accuracy_group  \\\n0                1              0         1  1.000000               3   \n1                0             11        11  0.000000               0   \n2                1              0         1  1.000000               3   \n3                1              1         2  0.500000               2   \n4                1              0         1  1.000000               3   \n...            ...            ...       ...       ...             ...   \n17685            1              0         1  1.000000               3   \n17686            1              0         1  1.000000               3   \n17687            1              2         3  0.333333               1   \n17688            0              1         1  0.000000               0   \n17689            1              2         3  0.333333               1   \n\n       acg_Bird_Measurer_Assessment  acg_Cart_Balancer_Assessment  \\\n0                               NaN                           NaN   \n1                               0.0                           0.0   \n2                               0.0                           0.0   \n3                               0.0                           0.0   \n4                               0.0                           0.0   \n...                             ...                           ...   \n17685                           3.0                           3.0   \n17686                           NaN                           NaN   \n17687                           NaN                           NaN   \n17688                           0.0                           0.0   \n17689                           0.0                           0.0   \n\n       acg_Cauldron_Filler_Assessment  acg_Chest_Sorter_Assessment  \\\n0                                 NaN                          NaN   \n1                                 0.0                          0.0   \n2                                 0.0                          0.0   \n3                                 0.0                          0.0   \n4                                 0.0                          0.0   \n...                               ...                          ...   \n17685                             3.0                          0.0   \n17686                             NaN                          NaN   \n17687                             NaN                          NaN   \n17688                             1.0                          0.0   \n17689                             1.0                          0.0   \n\n       acg_Mushroom_Sorter_Assessment  best_acg  \n0                                 NaN       NaN  \n1                                 3.0       0.0  \n2                                 3.0       3.0  \n3                                 3.0       3.0  \n4                                 3.0       0.0  \n...                               ...       ...  \n17685                             3.0       0.0  \n17686                             NaN       NaN  \n17687                             NaN       NaN  \n17688                             0.0       0.0  \n17689                             0.0       1.0  \n\n[17690 rows x 14 columns]"
     },
     "execution_count": 36,
     "metadata": {},
     "output_type": "execute_result"
    }
   ],
   "source": [
    "\n",
    "def best_accuracy_so_far(df, encoder):\n",
    "    \"\"\"\n",
    "    Calculate product of assessment stats and one-hot encoded title vector\n",
    "\n",
    "    Input DataFrame:\n",
    "            num_correct\n",
    "    game_A            1\n",
    "    game_B            2\n",
    "\n",
    "    Output DataFrame:\n",
    "            game_A_num_correct  game_B_num_correct\n",
    "    game_A                   1                   0\n",
    "    game_B                   0                   2\n",
    "    \"\"\"\n",
    "    columns = get_categories(encoder)\n",
    "    columns = [re.sub(r'[^a-zA-Z\\d]+', '_', c).strip('_') for c in columns]\n",
    "    columns = prefix_list(columns, 'acg')\n",
    "\n",
    "    onehot = encoder.transform(df[['title']]).toarray().astype(np.int8)\n",
    "    expanded = pd.DataFrame(df[['accuracy_group']].values * onehot, columns=columns)\n",
    "    expanded = concat_dfs([df, expanded], axis=1)\n",
    "    def func(gdf):\n",
    "        return concat_dfs([gdf.drop(columns, axis=1), gdf[columns].cummax().shift(1)], axis=1)\n",
    "\n",
    "    expanded = expanded.groupby('installation_id', sort=False).apply(func)\n",
    "    return expanded.assign(best_acg=np.sum(expanded[columns].values * onehot, axis=1))\n",
    "\n",
    "\n",
    "encoder = build_one_hot_encoder(stats, stats, ['title'])\n",
    "\n",
    "best_accuracy_so_far(stats, encoder)"
   ]
  },
  {
   "cell_type": "code",
   "execution_count": null,
   "metadata": {},
   "outputs": [],
   "source": []
  }
 ],
 "metadata": {
  "kernelspec": {
   "display_name": "Python [conda env:machine-learning] *",
   "language": "python",
   "name": "conda-env-machine-learning-py"
  },
  "language_info": {
   "codemirror_mode": {
    "name": "ipython",
    "version": 3
   },
   "file_extension": ".py",
   "mimetype": "text/x-python",
   "name": "python",
   "nbconvert_exporter": "python",
   "pygments_lexer": "ipython3",
   "version": "3.7.4"
  }
 },
 "nbformat": 4,
 "nbformat_minor": 2
}