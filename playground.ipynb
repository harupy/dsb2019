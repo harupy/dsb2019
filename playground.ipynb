{
 "cells": [
  {
   "cell_type": "code",
   "execution_count": 4,
   "metadata": {},
   "outputs": [],
   "source": [
    "import re\n",
    "import pandas as pd\n",
    "import numpy as np\n",
    "import sys\n",
    "\n",
    "sys.path.append('./src')"
   ]
  },
  {
   "cell_type": "code",
   "execution_count": 5,
   "metadata": {},
   "outputs": [
    {
     "name": "stdout",
     "output_type": "stream",
     "text": "ls: data/features/assessments: No such file or directory\n"
    }
   ],
   "source": [
    "%ls -lh data/features/assessments"
   ]
  },
  {
   "cell_type": "code",
   "execution_count": 7,
   "metadata": {},
   "outputs": [
    {
     "name": "stdout",
     "output_type": "stream",
     "text": "Reading data/clean/train.ftr\nReading data/clean/test.ftr\n"
    }
   ],
   "source": [
    "from utils.io import read_from_clean\n",
    "\n",
    "train = read_from_clean('train.ftr')\n",
    "test = read_from_clean('test.ftr')\n"
   ]
  },
  {
   "cell_type": "code",
   "execution_count": 15,
   "metadata": {},
   "outputs": [],
   "source": [
    "from features.funcs import filter_assessment_attempt\n",
    "\n",
    "sess_train = filter_assessment_attempt(train).groupby(['installation_id', 'game_session']).last().reset_index()\n",
    "sess_test = filter_assessment_attempt(test).groupby(['installation_id', 'game_session']).last().reset_index()"
   ]
  },
  {
   "cell_type": "code",
   "execution_count": 16,
   "metadata": {},
   "outputs": [
    {
     "data": {
      "text/html": "<div>\n<style scoped>\n    .dataframe tbody tr th:only-of-type {\n        vertical-align: middle;\n    }\n\n    .dataframe tbody tr th {\n        vertical-align: top;\n    }\n\n    .dataframe thead th {\n        text-align: right;\n    }\n</style>\n<table border=\"1\" class=\"dataframe\">\n  <thead>\n    <tr style=\"text-align: right;\">\n      <th></th>\n      <th>installation_id</th>\n      <th>game_session</th>\n      <th>event_id</th>\n      <th>timestamp</th>\n      <th>event_data</th>\n      <th>event_count</th>\n      <th>event_code</th>\n      <th>game_time</th>\n      <th>title</th>\n      <th>type</th>\n      <th>world</th>\n    </tr>\n  </thead>\n  <tbody>\n    <tr>\n      <td>0</td>\n      <td>0006a69f</td>\n      <td>6bdf9623adc94d89</td>\n      <td>25fa8af4</td>\n      <td>2019-08-06T05:38:08.036Z</td>\n      <td>{\"correct\":true,\"stumps\":[1,2,4],\"event_count\"...</td>\n      <td>30</td>\n      <td>4100</td>\n      <td>18026</td>\n      <td>Mushroom Sorter (Assessment)</td>\n      <td>Assessment</td>\n      <td>TREETOPCITY</td>\n    </tr>\n    <tr>\n      <td>1</td>\n      <td>0006a69f</td>\n      <td>77b8ee947eb84b4e</td>\n      <td>17113b36</td>\n      <td>2019-08-06T05:36:49.155Z</td>\n      <td>{\"correct\":false,\"caterpillars\":[5,8,6],\"event...</td>\n      <td>85</td>\n      <td>4110</td>\n      <td>90032</td>\n      <td>Bird Measurer (Assessment)</td>\n      <td>Assessment</td>\n      <td>TREETOPCITY</td>\n    </tr>\n    <tr>\n      <td>2</td>\n      <td>0006a69f</td>\n      <td>8043825259dc7ddd</td>\n      <td>14de4c5d</td>\n      <td>2019-08-06T20:37:52.614Z</td>\n      <td>{\"distance\":4,\"target_distances\":[1,2,3],\"corr...</td>\n      <td>112</td>\n      <td>4100</td>\n      <td>135531</td>\n      <td>Air Show</td>\n      <td>Game</td>\n      <td>TREETOPCITY</td>\n    </tr>\n    <tr>\n      <td>3</td>\n      <td>0006a69f</td>\n      <td>80d34a30c2998653</td>\n      <td>14de4c5d</td>\n      <td>2019-08-06T05:26:01.055Z</td>\n      <td>{\"distance\":8,\"target_distances\":[5,6,7],\"corr...</td>\n      <td>177</td>\n      <td>4100</td>\n      <td>185103</td>\n      <td>Air Show</td>\n      <td>Game</td>\n      <td>TREETOPCITY</td>\n    </tr>\n    <tr>\n      <td>4</td>\n      <td>0006a69f</td>\n      <td>901acc108f55a5a1</td>\n      <td>25fa8af4</td>\n      <td>2019-08-06T05:22:32.357Z</td>\n      <td>{\"correct\":true,\"stumps\":[1,2,4],\"event_count\"...</td>\n      <td>44</td>\n      <td>4100</td>\n      <td>31011</td>\n      <td>Mushroom Sorter (Assessment)</td>\n      <td>Assessment</td>\n      <td>TREETOPCITY</td>\n    </tr>\n    <tr>\n      <td>...</td>\n      <td>...</td>\n      <td>...</td>\n      <td>...</td>\n      <td>...</td>\n      <td>...</td>\n      <td>...</td>\n      <td>...</td>\n      <td>...</td>\n      <td>...</td>\n      <td>...</td>\n      <td>...</td>\n    </tr>\n    <tr>\n      <td>21490</td>\n      <td>ffd2871d</td>\n      <td>3bce12c3ba5e63c9</td>\n      <td>a5e9da97</td>\n      <td>2019-08-07T01:20:58.943Z</td>\n      <td>{\"scale_weights\":6,\"target_weight\":3,\"table_we...</td>\n      <td>32</td>\n      <td>4100</td>\n      <td>43869</td>\n      <td>Pan Balance</td>\n      <td>Game</td>\n      <td>CRYSTALCAVES</td>\n    </tr>\n    <tr>\n      <td>21491</td>\n      <td>ffd2871d</td>\n      <td>b05a02b52d5c1f4c</td>\n      <td>392e14df</td>\n      <td>2019-08-07T01:07:15.368Z</td>\n      <td>{\"buckets\":[0,0,0],\"correct\":true,\"buckets_pla...</td>\n      <td>26</td>\n      <td>4100</td>\n      <td>37243</td>\n      <td>Cauldron Filler (Assessment)</td>\n      <td>Assessment</td>\n      <td>MAGMAPEAK</td>\n    </tr>\n    <tr>\n      <td>21492</td>\n      <td>ffeb0b1b</td>\n      <td>5448d652309a6324</td>\n      <td>392e14df</td>\n      <td>2019-09-22T02:07:12.627Z</td>\n      <td>{\"buckets\":[0,0,0],\"correct\":true,\"buckets_pla...</td>\n      <td>43</td>\n      <td>4100</td>\n      <td>52161</td>\n      <td>Cauldron Filler (Assessment)</td>\n      <td>Assessment</td>\n      <td>MAGMAPEAK</td>\n    </tr>\n    <tr>\n      <td>21493</td>\n      <td>ffeb0b1b</td>\n      <td>a6885ab824fbc32c</td>\n      <td>25fa8af4</td>\n      <td>2019-09-22T02:00:07.414Z</td>\n      <td>{\"correct\":false,\"stumps\":[0,0,0],\"event_count...</td>\n      <td>85</td>\n      <td>4100</td>\n      <td>107388</td>\n      <td>Mushroom Sorter (Assessment)</td>\n      <td>Assessment</td>\n      <td>TREETOPCITY</td>\n    </tr>\n    <tr>\n      <td>21494</td>\n      <td>ffeb0b1b</td>\n      <td>dadd1a4d8ac68ab0</td>\n      <td>392e14df</td>\n      <td>2019-09-09T15:36:03.763Z</td>\n      <td>{\"buckets\":[0,0,0],\"correct\":true,\"buckets_pla...</td>\n      <td>73</td>\n      <td>4100</td>\n      <td>82169</td>\n      <td>Cauldron Filler (Assessment)</td>\n      <td>Assessment</td>\n      <td>MAGMAPEAK</td>\n    </tr>\n  </tbody>\n</table>\n<p>21495 rows × 11 columns</p>\n</div>",
      "text/plain": "      installation_id      game_session  event_id                 timestamp  \\\n0            0006a69f  6bdf9623adc94d89  25fa8af4  2019-08-06T05:38:08.036Z   \n1            0006a69f  77b8ee947eb84b4e  17113b36  2019-08-06T05:36:49.155Z   \n2            0006a69f  8043825259dc7ddd  14de4c5d  2019-08-06T20:37:52.614Z   \n3            0006a69f  80d34a30c2998653  14de4c5d  2019-08-06T05:26:01.055Z   \n4            0006a69f  901acc108f55a5a1  25fa8af4  2019-08-06T05:22:32.357Z   \n...               ...               ...       ...                       ...   \n21490        ffd2871d  3bce12c3ba5e63c9  a5e9da97  2019-08-07T01:20:58.943Z   \n21491        ffd2871d  b05a02b52d5c1f4c  392e14df  2019-08-07T01:07:15.368Z   \n21492        ffeb0b1b  5448d652309a6324  392e14df  2019-09-22T02:07:12.627Z   \n21493        ffeb0b1b  a6885ab824fbc32c  25fa8af4  2019-09-22T02:00:07.414Z   \n21494        ffeb0b1b  dadd1a4d8ac68ab0  392e14df  2019-09-09T15:36:03.763Z   \n\n                                              event_data  event_count  \\\n0      {\"correct\":true,\"stumps\":[1,2,4],\"event_count\"...           30   \n1      {\"correct\":false,\"caterpillars\":[5,8,6],\"event...           85   \n2      {\"distance\":4,\"target_distances\":[1,2,3],\"corr...          112   \n3      {\"distance\":8,\"target_distances\":[5,6,7],\"corr...          177   \n4      {\"correct\":true,\"stumps\":[1,2,4],\"event_count\"...           44   \n...                                                  ...          ...   \n21490  {\"scale_weights\":6,\"target_weight\":3,\"table_we...           32   \n21491  {\"buckets\":[0,0,0],\"correct\":true,\"buckets_pla...           26   \n21492  {\"buckets\":[0,0,0],\"correct\":true,\"buckets_pla...           43   \n21493  {\"correct\":false,\"stumps\":[0,0,0],\"event_count...           85   \n21494  {\"buckets\":[0,0,0],\"correct\":true,\"buckets_pla...           73   \n\n       event_code  game_time                         title        type  \\\n0            4100      18026  Mushroom Sorter (Assessment)  Assessment   \n1            4110      90032    Bird Measurer (Assessment)  Assessment   \n2            4100     135531                      Air Show        Game   \n3            4100     185103                      Air Show        Game   \n4            4100      31011  Mushroom Sorter (Assessment)  Assessment   \n...           ...        ...                           ...         ...   \n21490        4100      43869                   Pan Balance        Game   \n21491        4100      37243  Cauldron Filler (Assessment)  Assessment   \n21492        4100      52161  Cauldron Filler (Assessment)  Assessment   \n21493        4100     107388  Mushroom Sorter (Assessment)  Assessment   \n21494        4100      82169  Cauldron Filler (Assessment)  Assessment   \n\n              world  \n0       TREETOPCITY  \n1       TREETOPCITY  \n2       TREETOPCITY  \n3       TREETOPCITY  \n4       TREETOPCITY  \n...             ...  \n21490  CRYSTALCAVES  \n21491     MAGMAPEAK  \n21492     MAGMAPEAK  \n21493   TREETOPCITY  \n21494     MAGMAPEAK  \n\n[21495 rows x 11 columns]"
     },
     "execution_count": 16,
     "metadata": {},
     "output_type": "execute_result"
    }
   ],
   "source": [
    "sess_train\n"
   ]
  },
  {
   "cell_type": "code",
   "execution_count": null,
   "metadata": {},
   "outputs": [],
   "source": []
  }
 ],
 "metadata": {
  "kernelspec": {
   "display_name": "Python 3.7.4 64-bit ('machine-learning': pyenv)",
   "language": "python",
   "name": "python37464bitmachinelearningpyenv02ee3f8c2d4648c7aa9c32ddaa9c9af0"
  },
  "language_info": {
   "codemirror_mode": {
    "name": "ipython",
    "version": 3
   },
   "file_extension": ".py",
   "mimetype": "text/x-python",
   "name": "python",
   "nbconvert_exporter": "python",
   "pygments_lexer": "ipython3",
   "version": "3.7.4-final"
  }
 },
 "nbformat": 4,
 "nbformat_minor": 2
}