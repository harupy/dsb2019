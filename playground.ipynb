{
 "cells": [
  {
   "cell_type": "code",
   "execution_count": 1,
   "metadata": {},
   "outputs": [],
   "source": [
    "import pandas as pd\n",
    "import sys\n",
    "\n",
    "sys.path.append('./src')"
   ]
  },
  {
   "cell_type": "code",
   "execution_count": 2,
   "metadata": {},
   "outputs": [
    {
     "name": "stdout",
     "output_type": "stream",
     "text": "ls: data/features/assessments: No such file or directory\n"
    }
   ],
   "source": [
    "%ls -lh data/features/assessments"
   ]
  },
  {
   "cell_type": "code",
   "execution_count": 3,
   "metadata": {},
   "outputs": [],
   "source": [
    "from utils.io import read_from_clean, read_features"
   ]
  },
  {
   "cell_type": "code",
   "execution_count": 4,
   "metadata": {},
   "outputs": [
    {
     "name": "stdout",
     "output_type": "stream",
     "text": "Reading data/clean/train.ftr\n"
    }
   ],
   "source": [
    "train = read_from_clean('train.ftr')"
   ]
  },
  {
   "cell_type": "code",
   "execution_count": 5,
   "metadata": {},
   "outputs": [
    {
     "data": {
      "text/html": "<div>\n<style scoped>\n    .dataframe tbody tr th:only-of-type {\n        vertical-align: middle;\n    }\n\n    .dataframe tbody tr th {\n        vertical-align: top;\n    }\n\n    .dataframe thead th {\n        text-align: right;\n    }\n</style>\n<table border=\"1\" class=\"dataframe\">\n  <thead>\n    <tr style=\"text-align: right;\">\n      <th></th>\n      <th>event_id</th>\n      <th>game_session</th>\n      <th>timestamp</th>\n      <th>event_data</th>\n      <th>installation_id</th>\n      <th>event_count</th>\n      <th>event_code</th>\n      <th>game_time</th>\n      <th>title</th>\n      <th>type</th>\n      <th>world</th>\n    </tr>\n  </thead>\n  <tbody>\n    <tr>\n      <td>0</td>\n      <td>27253bdc</td>\n      <td>34ba1a28d02ba8ba</td>\n      <td>2019-08-06T04:57:18.904Z</td>\n      <td>{\"event_code\": 2000, \"event_count\": 1}</td>\n      <td>0006a69f</td>\n      <td>1</td>\n      <td>2000</td>\n      <td>0</td>\n      <td>Welcome to Lost Lagoon!</td>\n      <td>Clip</td>\n      <td>NONE</td>\n    </tr>\n    <tr>\n      <td>1</td>\n      <td>27253bdc</td>\n      <td>4b57c9a59474a1b9</td>\n      <td>2019-08-06T04:57:45.301Z</td>\n      <td>{\"event_code\": 2000, \"event_count\": 1}</td>\n      <td>0006a69f</td>\n      <td>1</td>\n      <td>2000</td>\n      <td>0</td>\n      <td>Magma Peak - Level 1</td>\n      <td>Clip</td>\n      <td>MAGMAPEAK</td>\n    </tr>\n    <tr>\n      <td>2</td>\n      <td>77261ab5</td>\n      <td>2b9d5af79bcdb79f</td>\n      <td>2019-08-06T04:58:14.538Z</td>\n      <td>{\"version\":\"1.0\",\"event_count\":1,\"game_time\":0...</td>\n      <td>0006a69f</td>\n      <td>1</td>\n      <td>2000</td>\n      <td>0</td>\n      <td>Sandcastle Builder (Activity)</td>\n      <td>Activity</td>\n      <td>MAGMAPEAK</td>\n    </tr>\n    <tr>\n      <td>3</td>\n      <td>b2dba42b</td>\n      <td>2b9d5af79bcdb79f</td>\n      <td>2019-08-06T04:58:14.615Z</td>\n      <td>{\"description\":\"Let's build a sandcastle! Firs...</td>\n      <td>0006a69f</td>\n      <td>2</td>\n      <td>3010</td>\n      <td>29</td>\n      <td>Sandcastle Builder (Activity)</td>\n      <td>Activity</td>\n      <td>MAGMAPEAK</td>\n    </tr>\n    <tr>\n      <td>4</td>\n      <td>1325467d</td>\n      <td>2b9d5af79bcdb79f</td>\n      <td>2019-08-06T04:58:16.680Z</td>\n      <td>{\"coordinates\":{\"x\":273,\"y\":650,\"stage_width\":...</td>\n      <td>0006a69f</td>\n      <td>3</td>\n      <td>4070</td>\n      <td>2137</td>\n      <td>Sandcastle Builder (Activity)</td>\n      <td>Activity</td>\n      <td>MAGMAPEAK</td>\n    </tr>\n  </tbody>\n</table>\n</div>",
      "text/plain": "   event_id      game_session                 timestamp  \\\n0  27253bdc  34ba1a28d02ba8ba  2019-08-06T04:57:18.904Z   \n1  27253bdc  4b57c9a59474a1b9  2019-08-06T04:57:45.301Z   \n2  77261ab5  2b9d5af79bcdb79f  2019-08-06T04:58:14.538Z   \n3  b2dba42b  2b9d5af79bcdb79f  2019-08-06T04:58:14.615Z   \n4  1325467d  2b9d5af79bcdb79f  2019-08-06T04:58:16.680Z   \n\n                                          event_data installation_id  \\\n0             {\"event_code\": 2000, \"event_count\": 1}        0006a69f   \n1             {\"event_code\": 2000, \"event_count\": 1}        0006a69f   \n2  {\"version\":\"1.0\",\"event_count\":1,\"game_time\":0...        0006a69f   \n3  {\"description\":\"Let's build a sandcastle! Firs...        0006a69f   \n4  {\"coordinates\":{\"x\":273,\"y\":650,\"stage_width\":...        0006a69f   \n\n   event_count  event_code  game_time                          title  \\\n0            1        2000          0        Welcome to Lost Lagoon!   \n1            1        2000          0           Magma Peak - Level 1   \n2            1        2000          0  Sandcastle Builder (Activity)   \n3            2        3010         29  Sandcastle Builder (Activity)   \n4            3        4070       2137  Sandcastle Builder (Activity)   \n\n       type      world  \n0      Clip       NONE  \n1      Clip  MAGMAPEAK  \n2  Activity  MAGMAPEAK  \n3  Activity  MAGMAPEAK  \n4  Activity  MAGMAPEAK  "
     },
     "execution_count": 5,
     "metadata": {},
     "output_type": "execute_result"
    }
   ],
   "source": [
    "train.head()"
   ]
  },
  {
   "cell_type": "code",
   "execution_count": 9,
   "metadata": {},
   "outputs": [],
   "source": [
    "def extract_misses(df):\n",
    "    pattern = r'\"misses\":(\\d+)'\n",
    "    return df['event_data'].str.extract(pattern, expand=False).astype(float)"
   ]
  },
  {
   "cell_type": "code",
   "execution_count": 10,
   "metadata": {},
   "outputs": [
    {
     "data": {
      "text/html": "<div>\n<style scoped>\n    .dataframe tbody tr th:only-of-type {\n        vertical-align: middle;\n    }\n\n    .dataframe tbody tr th {\n        vertical-align: top;\n    }\n\n    .dataframe thead th {\n        text-align: right;\n    }\n</style>\n<table border=\"1\" class=\"dataframe\">\n  <thead>\n    <tr style=\"text-align: right;\">\n      <th></th>\n      <th>event_id</th>\n      <th>game_session</th>\n      <th>timestamp</th>\n      <th>event_data</th>\n      <th>installation_id</th>\n      <th>event_count</th>\n      <th>event_code</th>\n      <th>game_time</th>\n      <th>title</th>\n      <th>type</th>\n      <th>world</th>\n      <th>misses</th>\n    </tr>\n  </thead>\n  <tbody>\n    <tr>\n      <td>0</td>\n      <td>27253bdc</td>\n      <td>34ba1a28d02ba8ba</td>\n      <td>2019-08-06T04:57:18.904Z</td>\n      <td>{\"event_code\": 2000, \"event_count\": 1}</td>\n      <td>0006a69f</td>\n      <td>1</td>\n      <td>2000</td>\n      <td>0</td>\n      <td>Welcome to Lost Lagoon!</td>\n      <td>Clip</td>\n      <td>NONE</td>\n      <td>NaN</td>\n    </tr>\n    <tr>\n      <td>1</td>\n      <td>27253bdc</td>\n      <td>4b57c9a59474a1b9</td>\n      <td>2019-08-06T04:57:45.301Z</td>\n      <td>{\"event_code\": 2000, \"event_count\": 1}</td>\n      <td>0006a69f</td>\n      <td>1</td>\n      <td>2000</td>\n      <td>0</td>\n      <td>Magma Peak - Level 1</td>\n      <td>Clip</td>\n      <td>MAGMAPEAK</td>\n      <td>NaN</td>\n    </tr>\n    <tr>\n      <td>2</td>\n      <td>77261ab5</td>\n      <td>2b9d5af79bcdb79f</td>\n      <td>2019-08-06T04:58:14.538Z</td>\n      <td>{\"version\":\"1.0\",\"event_count\":1,\"game_time\":0...</td>\n      <td>0006a69f</td>\n      <td>1</td>\n      <td>2000</td>\n      <td>0</td>\n      <td>Sandcastle Builder (Activity)</td>\n      <td>Activity</td>\n      <td>MAGMAPEAK</td>\n      <td>NaN</td>\n    </tr>\n    <tr>\n      <td>3</td>\n      <td>b2dba42b</td>\n      <td>2b9d5af79bcdb79f</td>\n      <td>2019-08-06T04:58:14.615Z</td>\n      <td>{\"description\":\"Let's build a sandcastle! Firs...</td>\n      <td>0006a69f</td>\n      <td>2</td>\n      <td>3010</td>\n      <td>29</td>\n      <td>Sandcastle Builder (Activity)</td>\n      <td>Activity</td>\n      <td>MAGMAPEAK</td>\n      <td>NaN</td>\n    </tr>\n    <tr>\n      <td>4</td>\n      <td>1325467d</td>\n      <td>2b9d5af79bcdb79f</td>\n      <td>2019-08-06T04:58:16.680Z</td>\n      <td>{\"coordinates\":{\"x\":273,\"y\":650,\"stage_width\":...</td>\n      <td>0006a69f</td>\n      <td>3</td>\n      <td>4070</td>\n      <td>2137</td>\n      <td>Sandcastle Builder (Activity)</td>\n      <td>Activity</td>\n      <td>MAGMAPEAK</td>\n      <td>NaN</td>\n    </tr>\n    <tr>\n      <td>...</td>\n      <td>...</td>\n      <td>...</td>\n      <td>...</td>\n      <td>...</td>\n      <td>...</td>\n      <td>...</td>\n      <td>...</td>\n      <td>...</td>\n      <td>...</td>\n      <td>...</td>\n      <td>...</td>\n      <td>...</td>\n    </tr>\n    <tr>\n      <td>7734553</td>\n      <td>28520915</td>\n      <td>5448d652309a6324</td>\n      <td>2019-09-22T02:07:27.562Z</td>\n      <td>{\"misses\":1,\"prompt\":\"holds least\",\"mode\":\"sel...</td>\n      <td>ffeb0b1b</td>\n      <td>58</td>\n      <td>2030</td>\n      <td>67094</td>\n      <td>Cauldron Filler (Assessment)</td>\n      <td>Assessment</td>\n      <td>MAGMAPEAK</td>\n      <td>1.0</td>\n    </tr>\n    <tr>\n      <td>7734554</td>\n      <td>91561152</td>\n      <td>5448d652309a6324</td>\n      <td>2019-09-22T02:07:27.562Z</td>\n      <td>{\"bucket\":1,\"buckets_placed\":[3,1,2],\"target_b...</td>\n      <td>ffeb0b1b</td>\n      <td>57</td>\n      <td>4025</td>\n      <td>67094</td>\n      <td>Cauldron Filler (Assessment)</td>\n      <td>Assessment</td>\n      <td>MAGMAPEAK</td>\n      <td>NaN</td>\n    </tr>\n    <tr>\n      <td>7734555</td>\n      <td>d3268efa</td>\n      <td>5448d652309a6324</td>\n      <td>2019-09-22T02:07:27.566Z</td>\n      <td>{\"description\":\"Awesome.\",\"identifier\":\"Dot_Aw...</td>\n      <td>ffeb0b1b</td>\n      <td>59</td>\n      <td>3021</td>\n      <td>67094</td>\n      <td>Cauldron Filler (Assessment)</td>\n      <td>Assessment</td>\n      <td>MAGMAPEAK</td>\n      <td>NaN</td>\n    </tr>\n    <tr>\n      <td>7734556</td>\n      <td>b5053438</td>\n      <td>5448d652309a6324</td>\n      <td>2019-09-22T02:07:28.311Z</td>\n      <td>{\"description\":\"Awesome.\",\"identifier\":\"Dot_Aw...</td>\n      <td>ffeb0b1b</td>\n      <td>60</td>\n      <td>3121</td>\n      <td>67847</td>\n      <td>Cauldron Filler (Assessment)</td>\n      <td>Assessment</td>\n      <td>MAGMAPEAK</td>\n      <td>NaN</td>\n    </tr>\n    <tr>\n      <td>7734557</td>\n      <td>2b058fe3</td>\n      <td>5448d652309a6324</td>\n      <td>2019-09-22T02:07:31.963Z</td>\n      <td>{\"session_duration\":71511,\"event_count\":61,\"ga...</td>\n      <td>ffeb0b1b</td>\n      <td>61</td>\n      <td>2010</td>\n      <td>71511</td>\n      <td>Cauldron Filler (Assessment)</td>\n      <td>Assessment</td>\n      <td>MAGMAPEAK</td>\n      <td>NaN</td>\n    </tr>\n  </tbody>\n</table>\n<p>7734558 rows × 12 columns</p>\n</div>",
      "text/plain": "         event_id      game_session                 timestamp  \\\n0        27253bdc  34ba1a28d02ba8ba  2019-08-06T04:57:18.904Z   \n1        27253bdc  4b57c9a59474a1b9  2019-08-06T04:57:45.301Z   \n2        77261ab5  2b9d5af79bcdb79f  2019-08-06T04:58:14.538Z   \n3        b2dba42b  2b9d5af79bcdb79f  2019-08-06T04:58:14.615Z   \n4        1325467d  2b9d5af79bcdb79f  2019-08-06T04:58:16.680Z   \n...           ...               ...                       ...   \n7734553  28520915  5448d652309a6324  2019-09-22T02:07:27.562Z   \n7734554  91561152  5448d652309a6324  2019-09-22T02:07:27.562Z   \n7734555  d3268efa  5448d652309a6324  2019-09-22T02:07:27.566Z   \n7734556  b5053438  5448d652309a6324  2019-09-22T02:07:28.311Z   \n7734557  2b058fe3  5448d652309a6324  2019-09-22T02:07:31.963Z   \n\n                                                event_data installation_id  \\\n0                   {\"event_code\": 2000, \"event_count\": 1}        0006a69f   \n1                   {\"event_code\": 2000, \"event_count\": 1}        0006a69f   \n2        {\"version\":\"1.0\",\"event_count\":1,\"game_time\":0...        0006a69f   \n3        {\"description\":\"Let's build a sandcastle! Firs...        0006a69f   \n4        {\"coordinates\":{\"x\":273,\"y\":650,\"stage_width\":...        0006a69f   \n...                                                    ...             ...   \n7734553  {\"misses\":1,\"prompt\":\"holds least\",\"mode\":\"sel...        ffeb0b1b   \n7734554  {\"bucket\":1,\"buckets_placed\":[3,1,2],\"target_b...        ffeb0b1b   \n7734555  {\"description\":\"Awesome.\",\"identifier\":\"Dot_Aw...        ffeb0b1b   \n7734556  {\"description\":\"Awesome.\",\"identifier\":\"Dot_Aw...        ffeb0b1b   \n7734557  {\"session_duration\":71511,\"event_count\":61,\"ga...        ffeb0b1b   \n\n         event_count  event_code  game_time                          title  \\\n0                  1        2000          0        Welcome to Lost Lagoon!   \n1                  1        2000          0           Magma Peak - Level 1   \n2                  1        2000          0  Sandcastle Builder (Activity)   \n3                  2        3010         29  Sandcastle Builder (Activity)   \n4                  3        4070       2137  Sandcastle Builder (Activity)   \n...              ...         ...        ...                            ...   \n7734553           58        2030      67094   Cauldron Filler (Assessment)   \n7734554           57        4025      67094   Cauldron Filler (Assessment)   \n7734555           59        3021      67094   Cauldron Filler (Assessment)   \n7734556           60        3121      67847   Cauldron Filler (Assessment)   \n7734557           61        2010      71511   Cauldron Filler (Assessment)   \n\n               type      world  misses  \n0              Clip       NONE     NaN  \n1              Clip  MAGMAPEAK     NaN  \n2          Activity  MAGMAPEAK     NaN  \n3          Activity  MAGMAPEAK     NaN  \n4          Activity  MAGMAPEAK     NaN  \n...             ...        ...     ...  \n7734553  Assessment  MAGMAPEAK     1.0  \n7734554  Assessment  MAGMAPEAK     NaN  \n7734555  Assessment  MAGMAPEAK     NaN  \n7734556  Assessment  MAGMAPEAK     NaN  \n7734557  Assessment  MAGMAPEAK     NaN  \n\n[7734558 rows x 12 columns]"
     },
     "execution_count": 10,
     "metadata": {},
     "output_type": "execute_result"
    }
   ],
   "source": [
    "misses = train.assign(misses=extract_misses(train))\n",
    "misses"
   ]
  },
  {
   "cell_type": "code",
   "execution_count": 18,
   "metadata": {},
   "outputs": [
    {
     "data": {
      "text/html": "<div>\n<style scoped>\n    .dataframe tbody tr th:only-of-type {\n        vertical-align: middle;\n    }\n\n    .dataframe tbody tr th {\n        vertical-align: top;\n    }\n\n    .dataframe thead th {\n        text-align: right;\n    }\n</style>\n<table border=\"1\" class=\"dataframe\">\n  <thead>\n    <tr style=\"text-align: right;\">\n      <th></th>\n      <th>installation_id</th>\n      <th>game_session</th>\n      <th>misses</th>\n    </tr>\n  </thead>\n  <tbody>\n    <tr>\n      <td>0</td>\n      <td>0006a69f</td>\n      <td>34ba1a28d02ba8ba</td>\n      <td>NaN</td>\n    </tr>\n    <tr>\n      <td>1</td>\n      <td>0006a69f</td>\n      <td>4b57c9a59474a1b9</td>\n      <td>NaN</td>\n    </tr>\n    <tr>\n      <td>2</td>\n      <td>0006a69f</td>\n      <td>2b9d5af79bcdb79f</td>\n      <td>NaN</td>\n    </tr>\n    <tr>\n      <td>3</td>\n      <td>0006a69f</td>\n      <td>f4d29a878230c9a0</td>\n      <td>NaN</td>\n    </tr>\n    <tr>\n      <td>4</td>\n      <td>0006a69f</td>\n      <td>0336db4dee65ad4b</td>\n      <td>6.0</td>\n    </tr>\n    <tr>\n      <td>...</td>\n      <td>...</td>\n      <td>...</td>\n      <td>...</td>\n    </tr>\n    <tr>\n      <td>175462</td>\n      <td>ffeb0b1b</td>\n      <td>839481713a73fcde</td>\n      <td>NaN</td>\n    </tr>\n    <tr>\n      <td>175463</td>\n      <td>ffeb0b1b</td>\n      <td>a6885ab824fbc32c</td>\n      <td>NaN</td>\n    </tr>\n    <tr>\n      <td>175464</td>\n      <td>ffeb0b1b</td>\n      <td>b7c711baf474b5cb</td>\n      <td>NaN</td>\n    </tr>\n    <tr>\n      <td>175465</td>\n      <td>ffeb0b1b</td>\n      <td>e96910064986ea78</td>\n      <td>NaN</td>\n    </tr>\n    <tr>\n      <td>175466</td>\n      <td>ffeb0b1b</td>\n      <td>5448d652309a6324</td>\n      <td>3.0</td>\n    </tr>\n  </tbody>\n</table>\n<p>175467 rows × 3 columns</p>\n</div>",
      "text/plain": "       installation_id      game_session  misses\n0             0006a69f  34ba1a28d02ba8ba     NaN\n1             0006a69f  4b57c9a59474a1b9     NaN\n2             0006a69f  2b9d5af79bcdb79f     NaN\n3             0006a69f  f4d29a878230c9a0     NaN\n4             0006a69f  0336db4dee65ad4b     6.0\n...                ...               ...     ...\n175462        ffeb0b1b  839481713a73fcde     NaN\n175463        ffeb0b1b  a6885ab824fbc32c     NaN\n175464        ffeb0b1b  b7c711baf474b5cb     NaN\n175465        ffeb0b1b  e96910064986ea78     NaN\n175466        ffeb0b1b  5448d652309a6324     3.0\n\n[175467 rows x 3 columns]"
     },
     "execution_count": 18,
     "metadata": {},
     "output_type": "execute_result"
    }
   ],
   "source": [
    "import numpy as np\n",
    "\n",
    "aggs = {'misses': lambda s: np.nan if s.isnull().all() else s.sum()}\n",
    "by = ['installation_id', 'game_session']\n",
    "agged = misses.groupby(by, sort=False).agg(aggs).reset_index()\n",
    "agged"
   ]
  },
  {
   "cell_type": "code",
   "execution_count": 17,
   "metadata": {},
   "outputs": [
    {
     "data": {
      "text/plain": "True"
     },
     "execution_count": 17,
     "metadata": {},
     "output_type": "execute_result"
    }
   ],
   "source": []
  },
  {
   "cell_type": "code",
   "execution_count": null,
   "metadata": {},
   "outputs": [],
   "source": []
  }
 ],
 "metadata": {
  "kernelspec": {
   "display_name": "Python [conda env:machine-learning] *",
   "language": "python",
   "name": "conda-env-machine-learning-py"
  },
  "language_info": {
   "codemirror_mode": {
    "name": "ipython",
    "version": 3
   },
   "file_extension": ".py",
   "mimetype": "text/x-python",
   "name": "python",
   "nbconvert_exporter": "python",
   "pygments_lexer": "ipython3",
   "version": "3.7.4"
  }
 },
 "nbformat": 4,
 "nbformat_minor": 2
}