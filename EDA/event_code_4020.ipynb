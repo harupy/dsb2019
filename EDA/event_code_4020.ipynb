{
 "cells": [
  {
   "cell_type": "code",
   "execution_count": 16,
   "metadata": {},
   "outputs": [],
   "source": [
    "import os\n",
    "import pandas as pd\n",
    "import sys\n",
    "\n",
    "# add src to use utils\n",
    "sys.path.append('./src')\n",
    "\n",
    "from utils.io import read_from_clean, read_features\n",
    "\n",
    "pd.set_option('display.max_columns', None)\n",
    "pd.set_option('display.max_colwidth', 500)"
   ]
  },
  {
   "cell_type": "code",
   "execution_count": 8,
   "metadata": {},
   "outputs": [
    {
     "data": {
      "text/plain": "'/Users/harutaka/Desktop/dsb2019_v2'"
     },
     "execution_count": 8,
     "metadata": {},
     "output_type": "execute_result"
    }
   ],
   "source": [
    "os.getcwd()"
   ]
  },
  {
   "cell_type": "code",
   "execution_count": 9,
   "metadata": {},
   "outputs": [
    {
     "name": "stdout",
     "output_type": "stream",
     "text": "total 0\ndrwxr-xr-x   8 harutaka  staff   256B Dec 29 19:47 \u001b[34mclean\u001b[m\u001b[m/\ndrwxr-xr-x  15 harutaka  staff   480B Dec 30 11:30 \u001b[34mfeatures\u001b[m\u001b[m/\ndrwxr-xr-x  12 harutaka  staff   384B Dec 29 01:13 \u001b[34mraw\u001b[m\u001b[m/\n"
    }
   ],
   "source": [
    "%ls -lh data"
   ]
  },
  {
   "cell_type": "code",
   "execution_count": 10,
   "metadata": {},
   "outputs": [
    {
     "name": "stdout",
     "output_type": "stream",
     "text": "Reading data/clean/train.ftr\n"
    }
   ],
   "source": [
    "train = read_from_clean('train.ftr')"
   ]
  },
  {
   "cell_type": "code",
   "execution_count": 17,
   "metadata": {},
   "outputs": [
    {
     "data": {
      "text/html": "<div>\n<style scoped>\n    .dataframe tbody tr th:only-of-type {\n        vertical-align: middle;\n    }\n\n    .dataframe tbody tr th {\n        vertical-align: top;\n    }\n\n    .dataframe thead th {\n        text-align: right;\n    }\n</style>\n<table border=\"1\" class=\"dataframe\">\n  <thead>\n    <tr style=\"text-align: right;\">\n      <th></th>\n      <th>event_id</th>\n      <th>game_session</th>\n      <th>timestamp</th>\n      <th>event_data</th>\n      <th>installation_id</th>\n      <th>event_count</th>\n      <th>event_code</th>\n      <th>game_time</th>\n      <th>title</th>\n      <th>type</th>\n      <th>world</th>\n    </tr>\n  </thead>\n  <tbody>\n    <tr>\n      <th>0</th>\n      <td>27253bdc</td>\n      <td>34ba1a28d02ba8ba</td>\n      <td>2019-08-06T04:57:18.904Z</td>\n      <td>{\"event_code\": 2000, \"event_count\": 1}</td>\n      <td>0006a69f</td>\n      <td>1</td>\n      <td>2000</td>\n      <td>0</td>\n      <td>Welcome to Lost Lagoon!</td>\n      <td>Clip</td>\n      <td>NONE</td>\n    </tr>\n    <tr>\n      <th>1</th>\n      <td>27253bdc</td>\n      <td>4b57c9a59474a1b9</td>\n      <td>2019-08-06T04:57:45.301Z</td>\n      <td>{\"event_code\": 2000, \"event_count\": 1}</td>\n      <td>0006a69f</td>\n      <td>1</td>\n      <td>2000</td>\n      <td>0</td>\n      <td>Magma Peak - Level 1</td>\n      <td>Clip</td>\n      <td>MAGMAPEAK</td>\n    </tr>\n    <tr>\n      <th>2</th>\n      <td>77261ab5</td>\n      <td>2b9d5af79bcdb79f</td>\n      <td>2019-08-06T04:58:14.538Z</td>\n      <td>{\"version\":\"1.0\",\"event_count\":1,\"game_time\":0,\"event_code\":2000}</td>\n      <td>0006a69f</td>\n      <td>1</td>\n      <td>2000</td>\n      <td>0</td>\n      <td>Sandcastle Builder (Activity)</td>\n      <td>Activity</td>\n      <td>MAGMAPEAK</td>\n    </tr>\n    <tr>\n      <th>3</th>\n      <td>b2dba42b</td>\n      <td>2b9d5af79bcdb79f</td>\n      <td>2019-08-06T04:58:14.615Z</td>\n      <td>{\"description\":\"Let's build a sandcastle! First, fill up your mold with sand! You can use the shovel here. The mold gives the sand its shape!\",\"identifier\":\"Dot_LetsSandcastle,Dot_FillMold,Dot_MoldShape\",\"media_type\":\"audio\",\"total_duration\":6758,\"event_count\":2,\"game_time\":29,\"event_code\":3010}</td>\n      <td>0006a69f</td>\n      <td>2</td>\n      <td>3010</td>\n      <td>29</td>\n      <td>Sandcastle Builder (Activity)</td>\n      <td>Activity</td>\n      <td>MAGMAPEAK</td>\n    </tr>\n    <tr>\n      <th>4</th>\n      <td>1325467d</td>\n      <td>2b9d5af79bcdb79f</td>\n      <td>2019-08-06T04:58:16.680Z</td>\n      <td>{\"coordinates\":{\"x\":273,\"y\":650,\"stage_width\":1015,\"stage_height\":762},\"event_count\":3,\"game_time\":2137,\"event_code\":4070}</td>\n      <td>0006a69f</td>\n      <td>3</td>\n      <td>4070</td>\n      <td>2137</td>\n      <td>Sandcastle Builder (Activity)</td>\n      <td>Activity</td>\n      <td>MAGMAPEAK</td>\n    </tr>\n  </tbody>\n</table>\n</div>",
      "text/plain": "   event_id      game_session                 timestamp  \\\n0  27253bdc  34ba1a28d02ba8ba  2019-08-06T04:57:18.904Z   \n1  27253bdc  4b57c9a59474a1b9  2019-08-06T04:57:45.301Z   \n2  77261ab5  2b9d5af79bcdb79f  2019-08-06T04:58:14.538Z   \n3  b2dba42b  2b9d5af79bcdb79f  2019-08-06T04:58:14.615Z   \n4  1325467d  2b9d5af79bcdb79f  2019-08-06T04:58:16.680Z   \n\n                                                                                                                                                                                                                                                                                                 event_data  \\\n0                                                                                                                                                                                                                                                                    {\"event_code\": 2000, \"event_count\": 1}   \n1                                                                                                                                                                                                                                                                    {\"event_code\": 2000, \"event_count\": 1}   \n2                                                                                                                                                                                                                                         {\"version\":\"1.0\",\"event_count\":1,\"game_time\":0,\"event_code\":2000}   \n3  {\"description\":\"Let's build a sandcastle! First, fill up your mold with sand! You can use the shovel here. The mold gives the sand its shape!\",\"identifier\":\"Dot_LetsSandcastle,Dot_FillMold,Dot_MoldShape\",\"media_type\":\"audio\",\"total_duration\":6758,\"event_count\":2,\"game_time\":29,\"event_code\":3010}   \n4                                                                                                                                                                                {\"coordinates\":{\"x\":273,\"y\":650,\"stage_width\":1015,\"stage_height\":762},\"event_count\":3,\"game_time\":2137,\"event_code\":4070}   \n\n  installation_id  event_count  event_code  game_time  \\\n0        0006a69f            1        2000          0   \n1        0006a69f            1        2000          0   \n2        0006a69f            1        2000          0   \n3        0006a69f            2        3010         29   \n4        0006a69f            3        4070       2137   \n\n                           title      type      world  \n0        Welcome to Lost Lagoon!      Clip       NONE  \n1           Magma Peak - Level 1      Clip  MAGMAPEAK  \n2  Sandcastle Builder (Activity)  Activity  MAGMAPEAK  \n3  Sandcastle Builder (Activity)  Activity  MAGMAPEAK  \n4  Sandcastle Builder (Activity)  Activity  MAGMAPEAK  "
     },
     "execution_count": 17,
     "metadata": {},
     "output_type": "execute_result"
    }
   ],
   "source": [
    "train.head()"
   ]
  },
  {
   "cell_type": "code",
   "execution_count": 18,
   "metadata": {},
   "outputs": [
    {
     "data": {
      "text/html": "<div>\n<style scoped>\n    .dataframe tbody tr th:only-of-type {\n        vertical-align: middle;\n    }\n\n    .dataframe tbody tr th {\n        vertical-align: top;\n    }\n\n    .dataframe thead th {\n        text-align: right;\n    }\n</style>\n<table border=\"1\" class=\"dataframe\">\n  <thead>\n    <tr style=\"text-align: right;\">\n      <th></th>\n      <th>event_id</th>\n      <th>game_session</th>\n      <th>timestamp</th>\n      <th>event_data</th>\n      <th>installation_id</th>\n      <th>event_count</th>\n      <th>event_code</th>\n      <th>game_time</th>\n      <th>title</th>\n      <th>type</th>\n      <th>world</th>\n    </tr>\n  </thead>\n  <tbody>\n    <tr>\n      <th>22</th>\n      <td>84538528</td>\n      <td>2b9d5af79bcdb79f</td>\n      <td>2019-08-06T04:58:30.802Z</td>\n      <td>{\"size\":3,\"castles_placed\":[],\"duration\":1824,\"coordinates\":{\"x\":579,\"y\":287,\"stage_width\":1015,\"stage_height\":762},\"event_count\":21,\"game_time\":16262,\"event_code\":4020}</td>\n      <td>0006a69f</td>\n      <td>21</td>\n      <td>4020</td>\n      <td>16262</td>\n      <td>Sandcastle Builder (Activity)</td>\n      <td>Activity</td>\n      <td>MAGMAPEAK</td>\n    </tr>\n    <tr>\n      <th>32</th>\n      <td>84538528</td>\n      <td>2b9d5af79bcdb79f</td>\n      <td>2019-08-06T04:58:35.631Z</td>\n      <td>{\"size\":1,\"castles_placed\":[{\"size\":3,\"position\":{\"x\":584,\"y\":235,\"stage_width\":1015,\"stage_height\":762}}],\"duration\":1933,\"coordinates\":{\"x\":585,\"y\":293,\"stage_width\":1015,\"stage_height\":762},\"event_count\":31,\"game_time\":21096,\"event_code\":4020}</td>\n      <td>0006a69f</td>\n      <td>31</td>\n      <td>4020</td>\n      <td>21096</td>\n      <td>Sandcastle Builder (Activity)</td>\n      <td>Activity</td>\n      <td>MAGMAPEAK</td>\n    </tr>\n    <tr>\n      <th>47</th>\n      <td>84538528</td>\n      <td>2b9d5af79bcdb79f</td>\n      <td>2019-08-06T04:58:45.210Z</td>\n      <td>{\"size\":2,\"castles_placed\":[{\"size\":3,\"position\":{\"x\":584,\"y\":235,\"stage_width\":1015,\"stage_height\":762}},{\"size\":1,\"position\":{\"x\":590,\"y\":241,\"stage_width\":1015,\"stage_height\":762}}],\"duration\":1109,\"coordinates\":{\"x\":312,\"y\":244,\"stage_width\":1015,\"stage_height\":762},\"event_count\":46,\"game_time\":30672,\"event_code\":4020}</td>\n      <td>0006a69f</td>\n      <td>46</td>\n      <td>4020</td>\n      <td>30672</td>\n      <td>Sandcastle Builder (Activity)</td>\n      <td>Activity</td>\n      <td>MAGMAPEAK</td>\n    </tr>\n    <tr>\n      <th>64</th>\n      <td>84538528</td>\n      <td>2b9d5af79bcdb79f</td>\n      <td>2019-08-06T04:58:56.026Z</td>\n      <td>{\"size\":2,\"castles_placed\":[{\"size\":3,\"position\":{\"x\":584,\"y\":235,\"stage_width\":1015,\"stage_height\":762}},{\"size\":2,\"position\":{\"x\":315,\"y\":192,\"stage_width\":1015,\"stage_height\":762}},{\"size\":1,\"position\":{\"x\":590,\"y\":241,\"stage_width\":1015,\"stage_height\":762}}],\"duration\":1542,\"coordinates\":{\"x\":834,\"y\":239,\"stage_width\":1015,\"stage_height\":762},\"event_count\":63,\"game_time\":41489,\"event_code\":4020}</td>\n      <td>0006a69f</td>\n      <td>63</td>\n      <td>4020</td>\n      <td>41489</td>\n      <td>Sandcastle Builder (Activity)</td>\n      <td>Activity</td>\n      <td>MAGMAPEAK</td>\n    </tr>\n    <tr>\n      <th>73</th>\n      <td>84538528</td>\n      <td>2b9d5af79bcdb79f</td>\n      <td>2019-08-06T04:59:09.513Z</td>\n      <td>{\"size\":2,\"castles_placed\":[{\"size\":3,\"position\":{\"x\":584,\"y\":235,\"stage_width\":1015,\"stage_height\":762}},{\"size\":2,\"position\":{\"x\":842,\"y\":187,\"stage_width\":1015,\"stage_height\":762}},{\"size\":2,\"position\":{\"x\":315,\"y\":192,\"stage_width\":1015,\"stage_height\":762}},{\"size\":1,\"position\":{\"x\":590,\"y\":241,\"stage_width\":1015,\"stage_height\":762}}],\"duration\":2651,\"coordinates\":{\"x\":324,\"y\":206,\"stage_width\":1015,\"stage_height\":762},\"event_count\":72,\"game_time\":54973,\"event_code\":4020}</td>\n      <td>0006a69f</td>\n      <td>72</td>\n      <td>4020</td>\n      <td>54973</td>\n      <td>Sandcastle Builder (Activity)</td>\n      <td>Activity</td>\n      <td>MAGMAPEAK</td>\n    </tr>\n    <tr>\n      <th>...</th>\n      <td>...</td>\n      <td>...</td>\n      <td>...</td>\n      <td>...</td>\n      <td>...</td>\n      <td>...</td>\n      <td>...</td>\n      <td>...</td>\n      <td>...</td>\n      <td>...</td>\n      <td>...</td>\n    </tr>\n    <tr>\n      <th>7734519</th>\n      <td>30614231</td>\n      <td>5448d652309a6324</td>\n      <td>2019-09-22T02:06:49.816Z</td>\n      <td>{\"bucket\":3,\"destination\":\"left\",\"coordinates\":{\"x\":246,\"y\":356,\"stage_width\":1015,\"stage_height\":762},\"cauldron\":3,\"buckets\":[2,1,0],\"buckets_placed\":[3,0,0],\"correct\":true,\"source\":\"right\",\"duration\":1151,\"event_count\":23,\"game_time\":29359,\"event_code\":4020}</td>\n      <td>ffeb0b1b</td>\n      <td>23</td>\n      <td>4020</td>\n      <td>29359</td>\n      <td>Cauldron Filler (Assessment)</td>\n      <td>Assessment</td>\n      <td>MAGMAPEAK</td>\n    </tr>\n    <tr>\n      <th>7734521</th>\n      <td>30614231</td>\n      <td>5448d652309a6324</td>\n      <td>2019-09-22T02:06:52.448Z</td>\n      <td>{\"bucket\":2,\"destination\":\"middle\",\"coordinates\":{\"x\":496,\"y\":379,\"stage_width\":1015,\"stage_height\":762},\"cauldron\":1,\"buckets\":[0,1,0],\"buckets_placed\":[3,2,0],\"correct\":false,\"source\":\"resources\",\"duration\":1332,\"event_count\":25,\"game_time\":31991,\"event_code\":4020}</td>\n      <td>ffeb0b1b</td>\n      <td>25</td>\n      <td>4020</td>\n      <td>31991</td>\n      <td>Cauldron Filler (Assessment)</td>\n      <td>Assessment</td>\n      <td>MAGMAPEAK</td>\n    </tr>\n    <tr>\n      <th>7734523</th>\n      <td>30614231</td>\n      <td>5448d652309a6324</td>\n      <td>2019-09-22T02:06:55.315Z</td>\n      <td>{\"bucket\":1,\"destination\":\"right\",\"coordinates\":{\"x\":684,\"y\":372,\"stage_width\":1015,\"stage_height\":762},\"cauldron\":2,\"buckets\":[0,0,0],\"buckets_placed\":[3,2,1],\"correct\":false,\"source\":\"resources\",\"duration\":899,\"event_count\":27,\"game_time\":34858,\"event_code\":4020}</td>\n      <td>ffeb0b1b</td>\n      <td>27</td>\n      <td>4020</td>\n      <td>34858</td>\n      <td>Cauldron Filler (Assessment)</td>\n      <td>Assessment</td>\n      <td>MAGMAPEAK</td>\n    </tr>\n    <tr>\n      <th>7734535</th>\n      <td>30614231</td>\n      <td>5448d652309a6324</td>\n      <td>2019-09-22T02:07:07.650Z</td>\n      <td>{\"bucket\":1,\"destination\":\"middle\",\"coordinates\":{\"x\":505,\"y\":401,\"stage_width\":1015,\"stage_height\":762},\"cauldron\":1,\"buckets\":[2,0,0],\"buckets_placed\":[3,1,0],\"correct\":true,\"source\":\"resources\",\"duration\":1318,\"event_count\":39,\"game_time\":47195,\"event_code\":4020}</td>\n      <td>ffeb0b1b</td>\n      <td>39</td>\n      <td>4020</td>\n      <td>47195</td>\n      <td>Cauldron Filler (Assessment)</td>\n      <td>Assessment</td>\n      <td>MAGMAPEAK</td>\n    </tr>\n    <tr>\n      <th>7734537</th>\n      <td>30614231</td>\n      <td>5448d652309a6324</td>\n      <td>2019-09-22T02:07:09.882Z</td>\n      <td>{\"bucket\":2,\"destination\":\"right\",\"coordinates\":{\"x\":722,\"y\":332,\"stage_width\":1015,\"stage_height\":762},\"cauldron\":2,\"buckets\":[0,0,0],\"buckets_placed\":[3,1,2],\"correct\":true,\"source\":\"resources\",\"duration\":1061,\"event_count\":41,\"game_time\":49426,\"event_code\":4020}</td>\n      <td>ffeb0b1b</td>\n      <td>41</td>\n      <td>4020</td>\n      <td>49426</td>\n      <td>Cauldron Filler (Assessment)</td>\n      <td>Assessment</td>\n      <td>MAGMAPEAK</td>\n    </tr>\n  </tbody>\n</table>\n<p>861283 rows × 11 columns</p>\n</div>",
      "text/plain": "         event_id      game_session                 timestamp  \\\n22       84538528  2b9d5af79bcdb79f  2019-08-06T04:58:30.802Z   \n32       84538528  2b9d5af79bcdb79f  2019-08-06T04:58:35.631Z   \n47       84538528  2b9d5af79bcdb79f  2019-08-06T04:58:45.210Z   \n64       84538528  2b9d5af79bcdb79f  2019-08-06T04:58:56.026Z   \n73       84538528  2b9d5af79bcdb79f  2019-08-06T04:59:09.513Z   \n...           ...               ...                       ...   \n7734519  30614231  5448d652309a6324  2019-09-22T02:06:49.816Z   \n7734521  30614231  5448d652309a6324  2019-09-22T02:06:52.448Z   \n7734523  30614231  5448d652309a6324  2019-09-22T02:06:55.315Z   \n7734535  30614231  5448d652309a6324  2019-09-22T02:07:07.650Z   \n7734537  30614231  5448d652309a6324  2019-09-22T02:07:09.882Z   \n\n                                                                                                                                                                                                                                                                                                                                                                                                                                                                                               event_data  \\\n22                                                                                                                                                                                                                                                                                                                              {\"size\":3,\"castles_placed\":[],\"duration\":1824,\"coordinates\":{\"x\":579,\"y\":287,\"stage_width\":1015,\"stage_height\":762},\"event_count\":21,\"game_time\":16262,\"event_code\":4020}   \n32                                                                                                                                                                                                                                                 {\"size\":1,\"castles_placed\":[{\"size\":3,\"position\":{\"x\":584,\"y\":235,\"stage_width\":1015,\"stage_height\":762}}],\"duration\":1933,\"coordinates\":{\"x\":585,\"y\":293,\"stage_width\":1015,\"stage_height\":762},\"event_count\":31,\"game_time\":21096,\"event_code\":4020}   \n47                                                                                                                                                                   {\"size\":2,\"castles_placed\":[{\"size\":3,\"position\":{\"x\":584,\"y\":235,\"stage_width\":1015,\"stage_height\":762}},{\"size\":1,\"position\":{\"x\":590,\"y\":241,\"stage_width\":1015,\"stage_height\":762}}],\"duration\":1109,\"coordinates\":{\"x\":312,\"y\":244,\"stage_width\":1015,\"stage_height\":762},\"event_count\":46,\"game_time\":30672,\"event_code\":4020}   \n64                                                                                     {\"size\":2,\"castles_placed\":[{\"size\":3,\"position\":{\"x\":584,\"y\":235,\"stage_width\":1015,\"stage_height\":762}},{\"size\":2,\"position\":{\"x\":315,\"y\":192,\"stage_width\":1015,\"stage_height\":762}},{\"size\":1,\"position\":{\"x\":590,\"y\":241,\"stage_width\":1015,\"stage_height\":762}}],\"duration\":1542,\"coordinates\":{\"x\":834,\"y\":239,\"stage_width\":1015,\"stage_height\":762},\"event_count\":63,\"game_time\":41489,\"event_code\":4020}   \n73       {\"size\":2,\"castles_placed\":[{\"size\":3,\"position\":{\"x\":584,\"y\":235,\"stage_width\":1015,\"stage_height\":762}},{\"size\":2,\"position\":{\"x\":842,\"y\":187,\"stage_width\":1015,\"stage_height\":762}},{\"size\":2,\"position\":{\"x\":315,\"y\":192,\"stage_width\":1015,\"stage_height\":762}},{\"size\":1,\"position\":{\"x\":590,\"y\":241,\"stage_width\":1015,\"stage_height\":762}}],\"duration\":2651,\"coordinates\":{\"x\":324,\"y\":206,\"stage_width\":1015,\"stage_height\":762},\"event_count\":72,\"game_time\":54973,\"event_code\":4020}   \n...                                                                                                                                                                                                                                                                                                                                                                                                                                                                                                   ...   \n7734519                                                                                                                                                                                                                              {\"bucket\":3,\"destination\":\"left\",\"coordinates\":{\"x\":246,\"y\":356,\"stage_width\":1015,\"stage_height\":762},\"cauldron\":3,\"buckets\":[2,1,0],\"buckets_placed\":[3,0,0],\"correct\":true,\"source\":\"right\",\"duration\":1151,\"event_count\":23,\"game_time\":29359,\"event_code\":4020}   \n7734521                                                                                                                                                                                                                       {\"bucket\":2,\"destination\":\"middle\",\"coordinates\":{\"x\":496,\"y\":379,\"stage_width\":1015,\"stage_height\":762},\"cauldron\":1,\"buckets\":[0,1,0],\"buckets_placed\":[3,2,0],\"correct\":false,\"source\":\"resources\",\"duration\":1332,\"event_count\":25,\"game_time\":31991,\"event_code\":4020}   \n7734523                                                                                                                                                                                                                         {\"bucket\":1,\"destination\":\"right\",\"coordinates\":{\"x\":684,\"y\":372,\"stage_width\":1015,\"stage_height\":762},\"cauldron\":2,\"buckets\":[0,0,0],\"buckets_placed\":[3,2,1],\"correct\":false,\"source\":\"resources\",\"duration\":899,\"event_count\":27,\"game_time\":34858,\"event_code\":4020}   \n7734535                                                                                                                                                                                                                        {\"bucket\":1,\"destination\":\"middle\",\"coordinates\":{\"x\":505,\"y\":401,\"stage_width\":1015,\"stage_height\":762},\"cauldron\":1,\"buckets\":[2,0,0],\"buckets_placed\":[3,1,0],\"correct\":true,\"source\":\"resources\",\"duration\":1318,\"event_count\":39,\"game_time\":47195,\"event_code\":4020}   \n7734537                                                                                                                                                                                                                         {\"bucket\":2,\"destination\":\"right\",\"coordinates\":{\"x\":722,\"y\":332,\"stage_width\":1015,\"stage_height\":762},\"cauldron\":2,\"buckets\":[0,0,0],\"buckets_placed\":[3,1,2],\"correct\":true,\"source\":\"resources\",\"duration\":1061,\"event_count\":41,\"game_time\":49426,\"event_code\":4020}   \n\n        installation_id  event_count  event_code  game_time  \\\n22             0006a69f           21        4020      16262   \n32             0006a69f           31        4020      21096   \n47             0006a69f           46        4020      30672   \n64             0006a69f           63        4020      41489   \n73             0006a69f           72        4020      54973   \n...                 ...          ...         ...        ...   \n7734519        ffeb0b1b           23        4020      29359   \n7734521        ffeb0b1b           25        4020      31991   \n7734523        ffeb0b1b           27        4020      34858   \n7734535        ffeb0b1b           39        4020      47195   \n7734537        ffeb0b1b           41        4020      49426   \n\n                                 title        type      world  \n22       Sandcastle Builder (Activity)    Activity  MAGMAPEAK  \n32       Sandcastle Builder (Activity)    Activity  MAGMAPEAK  \n47       Sandcastle Builder (Activity)    Activity  MAGMAPEAK  \n64       Sandcastle Builder (Activity)    Activity  MAGMAPEAK  \n73       Sandcastle Builder (Activity)    Activity  MAGMAPEAK  \n...                                ...         ...        ...  \n7734519   Cauldron Filler (Assessment)  Assessment  MAGMAPEAK  \n7734521   Cauldron Filler (Assessment)  Assessment  MAGMAPEAK  \n7734523   Cauldron Filler (Assessment)  Assessment  MAGMAPEAK  \n7734535   Cauldron Filler (Assessment)  Assessment  MAGMAPEAK  \n7734537   Cauldron Filler (Assessment)  Assessment  MAGMAPEAK  \n\n[861283 rows x 11 columns]"
     },
     "execution_count": 18,
     "metadata": {},
     "output_type": "execute_result"
    }
   ],
   "source": [
    "train[train['event_code'] == 4020]"
   ]
  },
  {
   "cell_type": "code",
   "execution_count": null,
   "metadata": {},
   "outputs": [],
   "source": []
  }
 ],
 "metadata": {
  "kernelspec": {
   "display_name": "Python [conda env:machine-learning] *",
   "language": "python",
   "name": "conda-env-machine-learning-py"
  },
  "language_info": {
   "codemirror_mode": {
    "name": "ipython",
    "version": 3
   },
   "file_extension": ".py",
   "mimetype": "text/x-python",
   "name": "python",
   "nbconvert_exporter": "python",
   "pygments_lexer": "ipython3",
   "version": "3.7.4"
  }
 },
 "nbformat": 4,
 "nbformat_minor": 2
}