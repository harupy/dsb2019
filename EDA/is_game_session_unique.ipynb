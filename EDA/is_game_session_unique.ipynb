{
 "nbformat": 4,
 "nbformat_minor": 2,
 "metadata": {
  "language_info": {
   "name": "python",
   "codemirror_mode": {
    "name": "ipython",
    "version": 3
   },
   "version": "3.7.4"
  },
  "orig_nbformat": 2,
  "file_extension": ".py",
  "mimetype": "text/x-python",
  "name": "python",
  "npconvert_exporter": "python",
  "pygments_lexer": "ipython3",
  "version": 3
 },
 "cells": [
  {
   "cell_type": "code",
   "execution_count": 1,
   "metadata": {},
   "outputs": [],
   "source": [
    "import os\n",
    "import pandas as pd\n",
    "import sys\n",
    "\n",
    "# add src to use utils\n",
    "sys.path.append('./src')\n",
    "\n",
    "from utils.io import read_from_clean, read_features"
   ]
  },
  {
   "cell_type": "code",
   "execution_count": 2,
   "metadata": {},
   "outputs": [
    {
     "name": "stdout",
     "output_type": "stream",
     "text": "Reading data/clean/train.ftr\n"
    },
    {
     "data": {
      "text/html": "<div>\n<style scoped>\n    .dataframe tbody tr th:only-of-type {\n        vertical-align: middle;\n    }\n\n    .dataframe tbody tr th {\n        vertical-align: top;\n    }\n\n    .dataframe thead th {\n        text-align: right;\n    }\n</style>\n<table border=\"1\" class=\"dataframe\">\n  <thead>\n    <tr style=\"text-align: right;\">\n      <th></th>\n      <th>event_id</th>\n      <th>game_session</th>\n      <th>timestamp</th>\n      <th>event_data</th>\n      <th>installation_id</th>\n      <th>event_count</th>\n      <th>event_code</th>\n      <th>game_time</th>\n      <th>title</th>\n      <th>type</th>\n      <th>world</th>\n    </tr>\n  </thead>\n  <tbody>\n    <tr>\n      <td>0</td>\n      <td>27253bdc</td>\n      <td>34ba1a28d02ba8ba</td>\n      <td>2019-08-06T04:57:18.904Z</td>\n      <td>{\"event_code\": 2000, \"event_count\": 1}</td>\n      <td>0006a69f</td>\n      <td>1</td>\n      <td>2000</td>\n      <td>0</td>\n      <td>Welcome to Lost Lagoon!</td>\n      <td>Clip</td>\n      <td>NONE</td>\n    </tr>\n    <tr>\n      <td>1</td>\n      <td>27253bdc</td>\n      <td>4b57c9a59474a1b9</td>\n      <td>2019-08-06T04:57:45.301Z</td>\n      <td>{\"event_code\": 2000, \"event_count\": 1}</td>\n      <td>0006a69f</td>\n      <td>1</td>\n      <td>2000</td>\n      <td>0</td>\n      <td>Magma Peak - Level 1</td>\n      <td>Clip</td>\n      <td>MAGMAPEAK</td>\n    </tr>\n    <tr>\n      <td>2</td>\n      <td>77261ab5</td>\n      <td>2b9d5af79bcdb79f</td>\n      <td>2019-08-06T04:58:14.538Z</td>\n      <td>{\"version\":\"1.0\",\"event_count\":1,\"game_time\":0...</td>\n      <td>0006a69f</td>\n      <td>1</td>\n      <td>2000</td>\n      <td>0</td>\n      <td>Sandcastle Builder (Activity)</td>\n      <td>Activity</td>\n      <td>MAGMAPEAK</td>\n    </tr>\n    <tr>\n      <td>3</td>\n      <td>b2dba42b</td>\n      <td>2b9d5af79bcdb79f</td>\n      <td>2019-08-06T04:58:14.615Z</td>\n      <td>{\"description\":\"Let's build a sandcastle! Firs...</td>\n      <td>0006a69f</td>\n      <td>2</td>\n      <td>3010</td>\n      <td>29</td>\n      <td>Sandcastle Builder (Activity)</td>\n      <td>Activity</td>\n      <td>MAGMAPEAK</td>\n    </tr>\n    <tr>\n      <td>4</td>\n      <td>1325467d</td>\n      <td>2b9d5af79bcdb79f</td>\n      <td>2019-08-06T04:58:16.680Z</td>\n      <td>{\"coordinates\":{\"x\":273,\"y\":650,\"stage_width\":...</td>\n      <td>0006a69f</td>\n      <td>3</td>\n      <td>4070</td>\n      <td>2137</td>\n      <td>Sandcastle Builder (Activity)</td>\n      <td>Activity</td>\n      <td>MAGMAPEAK</td>\n    </tr>\n  </tbody>\n</table>\n</div>",
      "text/plain": "   event_id      game_session                 timestamp  \\\n0  27253bdc  34ba1a28d02ba8ba  2019-08-06T04:57:18.904Z   \n1  27253bdc  4b57c9a59474a1b9  2019-08-06T04:57:45.301Z   \n2  77261ab5  2b9d5af79bcdb79f  2019-08-06T04:58:14.538Z   \n3  b2dba42b  2b9d5af79bcdb79f  2019-08-06T04:58:14.615Z   \n4  1325467d  2b9d5af79bcdb79f  2019-08-06T04:58:16.680Z   \n\n                                          event_data installation_id  \\\n0             {\"event_code\": 2000, \"event_count\": 1}        0006a69f   \n1             {\"event_code\": 2000, \"event_count\": 1}        0006a69f   \n2  {\"version\":\"1.0\",\"event_count\":1,\"game_time\":0...        0006a69f   \n3  {\"description\":\"Let's build a sandcastle! Firs...        0006a69f   \n4  {\"coordinates\":{\"x\":273,\"y\":650,\"stage_width\":...        0006a69f   \n\n   event_count  event_code  game_time                          title  \\\n0            1        2000          0        Welcome to Lost Lagoon!   \n1            1        2000          0           Magma Peak - Level 1   \n2            1        2000          0  Sandcastle Builder (Activity)   \n3            2        3010         29  Sandcastle Builder (Activity)   \n4            3        4070       2137  Sandcastle Builder (Activity)   \n\n       type      world  \n0      Clip       NONE  \n1      Clip  MAGMAPEAK  \n2  Activity  MAGMAPEAK  \n3  Activity  MAGMAPEAK  \n4  Activity  MAGMAPEAK  "
     },
     "execution_count": 2,
     "metadata": {},
     "output_type": "execute_result"
    }
   ],
   "source": [
    "train = read_from_clean('train.ftr')\n",
    "train.head()"
   ]
  },
  {
   "cell_type": "code",
   "execution_count": 4,
   "metadata": {},
   "outputs": [
    {
     "data": {
      "text/plain": "False"
     },
     "execution_count": 4,
     "metadata": {},
     "output_type": "execute_result"
    }
   ],
   "source": [
    "train['game_session'].is_unique"
   ]
  },
  {
   "cell_type": "code",
   "execution_count": null,
   "metadata": {},
   "outputs": [],
   "source": []
  }
 ]
}