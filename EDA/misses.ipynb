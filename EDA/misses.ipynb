{
 "cells": [
  {
   "cell_type": "code",
   "execution_count": 1,
   "metadata": {},
   "outputs": [],
   "source": [
    "import os\n",
    "import pandas as pd\n",
    "import sys\n",
    "\n",
    "# add src to use utils\n",
    "sys.path.append('./src')\n",
    "\n",
    "from utils.io import read_from_clean, read_features"
   ]
  },
  {
   "cell_type": "code",
   "execution_count": 2,
   "metadata": {},
   "outputs": [
    {
     "data": {
      "text/plain": "'/Users/harutaka/Desktop/dsb2019'"
     },
     "execution_count": 2,
     "metadata": {},
     "output_type": "execute_result"
    }
   ],
   "source": [
    "os.getcwd()"
   ]
  },
  {
   "cell_type": "code",
   "execution_count": 3,
   "metadata": {},
   "outputs": [
    {
     "name": "stdout",
     "output_type": "stream",
     "text": "total 0\ndrwxr-xr-x  10 harutaka  staff   320B Jan  3 01:08 \u001b[34mclean\u001b[m\u001b[m/\ndrwxr-xr-x  12 harutaka  staff   384B Dec 29 01:13 \u001b[34mdata-science-bowl-2019\u001b[m\u001b[m/\ndrwxr-xr-x  23 harutaka  staff   736B Jan  3 21:51 \u001b[34mfeatures\u001b[m\u001b[m/\n"
    }
   ],
   "source": [
    "%ls -lh data"
   ]
  },
  {
   "cell_type": "code",
   "execution_count": 4,
   "metadata": {},
   "outputs": [
    {
     "name": "stdout",
     "output_type": "stream",
     "text": "Reading data/clean/train.ftr\n"
    }
   ],
   "source": [
    "train = read_from_clean('train.ftr')"
   ]
  },
  {
   "cell_type": "code",
   "execution_count": 5,
   "metadata": {},
   "outputs": [
    {
     "data": {
      "text/html": "<div>\n<style scoped>\n    .dataframe tbody tr th:only-of-type {\n        vertical-align: middle;\n    }\n\n    .dataframe tbody tr th {\n        vertical-align: top;\n    }\n\n    .dataframe thead th {\n        text-align: right;\n    }\n</style>\n<table border=\"1\" class=\"dataframe\">\n  <thead>\n    <tr style=\"text-align: right;\">\n      <th></th>\n      <th>event_id</th>\n      <th>game_session</th>\n      <th>timestamp</th>\n      <th>event_data</th>\n      <th>installation_id</th>\n      <th>event_count</th>\n      <th>event_code</th>\n      <th>game_time</th>\n      <th>title</th>\n      <th>type</th>\n      <th>world</th>\n    </tr>\n  </thead>\n  <tbody>\n    <tr>\n      <td>0</td>\n      <td>27253bdc</td>\n      <td>34ba1a28d02ba8ba</td>\n      <td>2019-08-06T04:57:18.904Z</td>\n      <td>{\"event_code\": 2000, \"event_count\": 1}</td>\n      <td>0006a69f</td>\n      <td>1</td>\n      <td>2000</td>\n      <td>0</td>\n      <td>Welcome to Lost Lagoon!</td>\n      <td>Clip</td>\n      <td>NONE</td>\n    </tr>\n    <tr>\n      <td>1</td>\n      <td>27253bdc</td>\n      <td>4b57c9a59474a1b9</td>\n      <td>2019-08-06T04:57:45.301Z</td>\n      <td>{\"event_code\": 2000, \"event_count\": 1}</td>\n      <td>0006a69f</td>\n      <td>1</td>\n      <td>2000</td>\n      <td>0</td>\n      <td>Magma Peak - Level 1</td>\n      <td>Clip</td>\n      <td>MAGMAPEAK</td>\n    </tr>\n    <tr>\n      <td>2</td>\n      <td>77261ab5</td>\n      <td>2b9d5af79bcdb79f</td>\n      <td>2019-08-06T04:58:14.538Z</td>\n      <td>{\"version\":\"1.0\",\"event_count\":1,\"game_time\":0...</td>\n      <td>0006a69f</td>\n      <td>1</td>\n      <td>2000</td>\n      <td>0</td>\n      <td>Sandcastle Builder (Activity)</td>\n      <td>Activity</td>\n      <td>MAGMAPEAK</td>\n    </tr>\n    <tr>\n      <td>3</td>\n      <td>b2dba42b</td>\n      <td>2b9d5af79bcdb79f</td>\n      <td>2019-08-06T04:58:14.615Z</td>\n      <td>{\"description\":\"Let's build a sandcastle! Firs...</td>\n      <td>0006a69f</td>\n      <td>2</td>\n      <td>3010</td>\n      <td>29</td>\n      <td>Sandcastle Builder (Activity)</td>\n      <td>Activity</td>\n      <td>MAGMAPEAK</td>\n    </tr>\n    <tr>\n      <td>4</td>\n      <td>1325467d</td>\n      <td>2b9d5af79bcdb79f</td>\n      <td>2019-08-06T04:58:16.680Z</td>\n      <td>{\"coordinates\":{\"x\":273,\"y\":650,\"stage_width\":...</td>\n      <td>0006a69f</td>\n      <td>3</td>\n      <td>4070</td>\n      <td>2137</td>\n      <td>Sandcastle Builder (Activity)</td>\n      <td>Activity</td>\n      <td>MAGMAPEAK</td>\n    </tr>\n  </tbody>\n</table>\n</div>",
      "text/plain": "   event_id      game_session                 timestamp  \\\n0  27253bdc  34ba1a28d02ba8ba  2019-08-06T04:57:18.904Z   \n1  27253bdc  4b57c9a59474a1b9  2019-08-06T04:57:45.301Z   \n2  77261ab5  2b9d5af79bcdb79f  2019-08-06T04:58:14.538Z   \n3  b2dba42b  2b9d5af79bcdb79f  2019-08-06T04:58:14.615Z   \n4  1325467d  2b9d5af79bcdb79f  2019-08-06T04:58:16.680Z   \n\n                                          event_data installation_id  \\\n0             {\"event_code\": 2000, \"event_count\": 1}        0006a69f   \n1             {\"event_code\": 2000, \"event_count\": 1}        0006a69f   \n2  {\"version\":\"1.0\",\"event_count\":1,\"game_time\":0...        0006a69f   \n3  {\"description\":\"Let's build a sandcastle! Firs...        0006a69f   \n4  {\"coordinates\":{\"x\":273,\"y\":650,\"stage_width\":...        0006a69f   \n\n   event_count  event_code  game_time                          title  \\\n0            1        2000          0        Welcome to Lost Lagoon!   \n1            1        2000          0           Magma Peak - Level 1   \n2            1        2000          0  Sandcastle Builder (Activity)   \n3            2        3010         29  Sandcastle Builder (Activity)   \n4            3        4070       2137  Sandcastle Builder (Activity)   \n\n       type      world  \n0      Clip       NONE  \n1      Clip  MAGMAPEAK  \n2  Activity  MAGMAPEAK  \n3  Activity  MAGMAPEAK  \n4  Activity  MAGMAPEAK  "
     },
     "execution_count": 5,
     "metadata": {},
     "output_type": "execute_result"
    }
   ],
   "source": [
    "train.head()"
   ]
  },
  {
   "cell_type": "code",
   "execution_count": 6,
   "metadata": {},
   "outputs": [
    {
     "data": {
      "text/html": "<div>\n<style scoped>\n    .dataframe tbody tr th:only-of-type {\n        vertical-align: middle;\n    }\n\n    .dataframe tbody tr th {\n        vertical-align: top;\n    }\n\n    .dataframe thead th {\n        text-align: right;\n    }\n</style>\n<table border=\"1\" class=\"dataframe\">\n  <thead>\n    <tr style=\"text-align: right;\">\n      <th></th>\n      <th>event_id</th>\n      <th>game_session</th>\n      <th>timestamp</th>\n      <th>event_data</th>\n      <th>installation_id</th>\n      <th>event_count</th>\n      <th>event_code</th>\n      <th>game_time</th>\n      <th>title</th>\n      <th>type</th>\n      <th>world</th>\n    </tr>\n  </thead>\n  <tbody>\n    <tr>\n      <td>114</td>\n      <td>08fd73f3</td>\n      <td>0336db4dee65ad4b</td>\n      <td>2019-08-06T05:01:26.464Z</td>\n      <td>{\"duration\":6117,\"round_target\":{\"size\":1,\"typ...</td>\n      <td>0006a69f</td>\n      <td>10</td>\n      <td>2030</td>\n      <td>13169</td>\n      <td>Scrub-A-Dub</td>\n      <td>Game</td>\n      <td>MAGMAPEAK</td>\n    </tr>\n    <tr>\n      <td>121</td>\n      <td>08fd73f3</td>\n      <td>0336db4dee65ad4b</td>\n      <td>2019-08-06T05:01:33.003Z</td>\n      <td>{\"duration\":6542,\"round_target\":{\"size\":4,\"typ...</td>\n      <td>0006a69f</td>\n      <td>17</td>\n      <td>2030</td>\n      <td>19711</td>\n      <td>Scrub-A-Dub</td>\n      <td>Game</td>\n      <td>MAGMAPEAK</td>\n    </tr>\n    <tr>\n      <td>122</td>\n      <td>37c53127</td>\n      <td>0336db4dee65ad4b</td>\n      <td>2019-08-06T05:01:33.003Z</td>\n      <td>{\"duration\":12659,\"misses\":0,\"level\":1,\"round\"...</td>\n      <td>0006a69f</td>\n      <td>18</td>\n      <td>2050</td>\n      <td>19711</td>\n      <td>Scrub-A-Dub</td>\n      <td>Game</td>\n      <td>MAGMAPEAK</td>\n    </tr>\n    <tr>\n      <td>131</td>\n      <td>08fd73f3</td>\n      <td>0336db4dee65ad4b</td>\n      <td>2019-08-06T05:01:39.690Z</td>\n      <td>{\"duration\":5067,\"round_target\":{\"size\":1,\"typ...</td>\n      <td>0006a69f</td>\n      <td>27</td>\n      <td>2030</td>\n      <td>26395</td>\n      <td>Scrub-A-Dub</td>\n      <td>Game</td>\n      <td>MAGMAPEAK</td>\n    </tr>\n    <tr>\n      <td>138</td>\n      <td>08fd73f3</td>\n      <td>0336db4dee65ad4b</td>\n      <td>2019-08-06T05:01:45.694Z</td>\n      <td>{\"duration\":6008,\"round_target\":{\"size\":4,\"typ...</td>\n      <td>0006a69f</td>\n      <td>34</td>\n      <td>2030</td>\n      <td>32403</td>\n      <td>Scrub-A-Dub</td>\n      <td>Game</td>\n      <td>MAGMAPEAK</td>\n    </tr>\n    <tr>\n      <td>...</td>\n      <td>...</td>\n      <td>...</td>\n      <td>...</td>\n      <td>...</td>\n      <td>...</td>\n      <td>...</td>\n      <td>...</td>\n      <td>...</td>\n      <td>...</td>\n      <td>...</td>\n      <td>...</td>\n    </tr>\n    <tr>\n      <td>7734246</td>\n      <td>56817e2b</td>\n      <td>4b70df3433ca04d1</td>\n      <td>2019-09-17T01:18:45.796Z</td>\n      <td>{\"duration\":12539,\"misses\":1,\"round\":3,\"event_...</td>\n      <td>ffeb0b1b</td>\n      <td>53</td>\n      <td>2030</td>\n      <td>92058</td>\n      <td>Chow Time</td>\n      <td>Game</td>\n      <td>CRYSTALCAVES</td>\n    </tr>\n    <tr>\n      <td>7734260</td>\n      <td>56817e2b</td>\n      <td>4b70df3433ca04d1</td>\n      <td>2019-09-17T01:19:25.711Z</td>\n      <td>{\"duration\":17560,\"misses\":0,\"round\":4,\"event_...</td>\n      <td>ffeb0b1b</td>\n      <td>67</td>\n      <td>2030</td>\n      <td>131979</td>\n      <td>Chow Time</td>\n      <td>Game</td>\n      <td>CRYSTALCAVES</td>\n    </tr>\n    <tr>\n      <td>7734269</td>\n      <td>56817e2b</td>\n      <td>4b70df3433ca04d1</td>\n      <td>2019-09-17T01:19:38.440Z</td>\n      <td>{\"duration\":7201,\"misses\":0,\"round\":5,\"event_c...</td>\n      <td>ffeb0b1b</td>\n      <td>76</td>\n      <td>2030</td>\n      <td>144697</td>\n      <td>Chow Time</td>\n      <td>Game</td>\n      <td>CRYSTALCAVES</td>\n    </tr>\n    <tr>\n      <td>7734539</td>\n      <td>28520915</td>\n      <td>5448d652309a6324</td>\n      <td>2019-09-22T02:07:12.627Z</td>\n      <td>{\"misses\":2,\"prompt\":\"N/A\",\"mode\":\"placing\",\"r...</td>\n      <td>ffeb0b1b</td>\n      <td>44</td>\n      <td>2030</td>\n      <td>52161</td>\n      <td>Cauldron Filler (Assessment)</td>\n      <td>Assessment</td>\n      <td>MAGMAPEAK</td>\n    </tr>\n    <tr>\n      <td>7734553</td>\n      <td>28520915</td>\n      <td>5448d652309a6324</td>\n      <td>2019-09-22T02:07:27.562Z</td>\n      <td>{\"misses\":1,\"prompt\":\"holds least\",\"mode\":\"sel...</td>\n      <td>ffeb0b1b</td>\n      <td>58</td>\n      <td>2030</td>\n      <td>67094</td>\n      <td>Cauldron Filler (Assessment)</td>\n      <td>Assessment</td>\n      <td>MAGMAPEAK</td>\n    </tr>\n  </tbody>\n</table>\n<p>185159 rows × 11 columns</p>\n</div>",
      "text/plain": "         event_id      game_session                 timestamp  \\\n114      08fd73f3  0336db4dee65ad4b  2019-08-06T05:01:26.464Z   \n121      08fd73f3  0336db4dee65ad4b  2019-08-06T05:01:33.003Z   \n122      37c53127  0336db4dee65ad4b  2019-08-06T05:01:33.003Z   \n131      08fd73f3  0336db4dee65ad4b  2019-08-06T05:01:39.690Z   \n138      08fd73f3  0336db4dee65ad4b  2019-08-06T05:01:45.694Z   \n...           ...               ...                       ...   \n7734246  56817e2b  4b70df3433ca04d1  2019-09-17T01:18:45.796Z   \n7734260  56817e2b  4b70df3433ca04d1  2019-09-17T01:19:25.711Z   \n7734269  56817e2b  4b70df3433ca04d1  2019-09-17T01:19:38.440Z   \n7734539  28520915  5448d652309a6324  2019-09-22T02:07:12.627Z   \n7734553  28520915  5448d652309a6324  2019-09-22T02:07:27.562Z   \n\n                                                event_data installation_id  \\\n114      {\"duration\":6117,\"round_target\":{\"size\":1,\"typ...        0006a69f   \n121      {\"duration\":6542,\"round_target\":{\"size\":4,\"typ...        0006a69f   \n122      {\"duration\":12659,\"misses\":0,\"level\":1,\"round\"...        0006a69f   \n131      {\"duration\":5067,\"round_target\":{\"size\":1,\"typ...        0006a69f   \n138      {\"duration\":6008,\"round_target\":{\"size\":4,\"typ...        0006a69f   \n...                                                    ...             ...   \n7734246  {\"duration\":12539,\"misses\":1,\"round\":3,\"event_...        ffeb0b1b   \n7734260  {\"duration\":17560,\"misses\":0,\"round\":4,\"event_...        ffeb0b1b   \n7734269  {\"duration\":7201,\"misses\":0,\"round\":5,\"event_c...        ffeb0b1b   \n7734539  {\"misses\":2,\"prompt\":\"N/A\",\"mode\":\"placing\",\"r...        ffeb0b1b   \n7734553  {\"misses\":1,\"prompt\":\"holds least\",\"mode\":\"sel...        ffeb0b1b   \n\n         event_count  event_code  game_time                         title  \\\n114               10        2030      13169                   Scrub-A-Dub   \n121               17        2030      19711                   Scrub-A-Dub   \n122               18        2050      19711                   Scrub-A-Dub   \n131               27        2030      26395                   Scrub-A-Dub   \n138               34        2030      32403                   Scrub-A-Dub   \n...              ...         ...        ...                           ...   \n7734246           53        2030      92058                     Chow Time   \n7734260           67        2030     131979                     Chow Time   \n7734269           76        2030     144697                     Chow Time   \n7734539           44        2030      52161  Cauldron Filler (Assessment)   \n7734553           58        2030      67094  Cauldron Filler (Assessment)   \n\n               type         world  \n114            Game     MAGMAPEAK  \n121            Game     MAGMAPEAK  \n122            Game     MAGMAPEAK  \n131            Game     MAGMAPEAK  \n138            Game     MAGMAPEAK  \n...             ...           ...  \n7734246        Game  CRYSTALCAVES  \n7734260        Game  CRYSTALCAVES  \n7734269        Game  CRYSTALCAVES  \n7734539  Assessment     MAGMAPEAK  \n7734553  Assessment     MAGMAPEAK  \n\n[185159 rows x 11 columns]"
     },
     "execution_count": 6,
     "metadata": {},
     "output_type": "execute_result"
    }
   ],
   "source": [
    "train[train['event_data'].str.contains('misses')]"
   ]
  },
  {
   "cell_type": "code",
   "execution_count": 1,
   "metadata": {},
   "outputs": [
    {
     "ename": "NameError",
     "evalue": "name 'train' is not defined",
     "output_type": "error",
     "traceback": [
      "\u001b[0;31m---------------------------------------------------------------------------\u001b[0m",
      "\u001b[0;31mNameError\u001b[0m                                 Traceback (most recent call last)",
      "\u001b[0;32m<ipython-input-1-09b9e2065024>\u001b[0m in \u001b[0;36m<module>\u001b[0;34m\u001b[0m\n\u001b[0;32m----> 1\u001b[0;31m \u001b[0mtrain\u001b[0m\u001b[0;34m.\u001b[0m\u001b[0mgroupby\u001b[0m\u001b[0;34m(\u001b[0m\u001b[0;34m'game_session'\u001b[0m\u001b[0;34m,\u001b[0m \u001b[0msort\u001b[0m\u001b[0;34m=\u001b[0m\u001b[0;32mFalse\u001b[0m\u001b[0;34m)\u001b[0m\u001b[0;34m.\u001b[0m\u001b[0mlast\u001b[0m\u001b[0;34m(\u001b[0m\u001b[0;34m)\u001b[0m\u001b[0;34m.\u001b[0m\u001b[0mreset_index\u001b[0m\u001b[0;34m(\u001b[0m\u001b[0;34m)\u001b[0m\u001b[0;34m.\u001b[0m\u001b[0mhead\u001b[0m\u001b[0;34m(\u001b[0m\u001b[0;36m50\u001b[0m\u001b[0;34m)\u001b[0m\u001b[0;34m\u001b[0m\u001b[0;34m\u001b[0m\u001b[0m\n\u001b[0m",
      "\u001b[0;31mNameError\u001b[0m: name 'train' is not defined"
     ]
    }
   ],
   "source": []
  },
  {
   "cell_type": "code",
   "execution_count": null,
   "metadata": {},
   "outputs": [],
   "source": []
  }
 ],
 "metadata": {
  "kernelspec": {
   "display_name": "Python [conda env:machine-learning] *",
   "language": "python",
   "name": "conda-env-machine-learning-py"
  },
  "language_info": {
   "codemirror_mode": {
    "name": "ipython",
    "version": 3
   },
   "file_extension": ".py",
   "mimetype": "text/x-python",
   "name": "python",
   "nbconvert_exporter": "python",
   "pygments_lexer": "ipython3",
   "version": "3.7.4"
  }
 },
 "nbformat": 4,
 "nbformat_minor": 2
}