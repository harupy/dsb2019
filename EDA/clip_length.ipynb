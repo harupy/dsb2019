{
 "cells": [
  {
   "cell_type": "code",
   "execution_count": 1,
   "metadata": {},
   "outputs": [],
   "source": [
    "import os\n",
    "import pandas as pd\n",
    "import sys\n",
    "\n",
    "# add src to use utils\n",
    "os.chdir('..')\n",
    "sys.path.append(os.path.abspath('./src'))\n",
    "\n",
    "from utils.io import read_from_clean, read_features"
   ]
  },
  {
   "cell_type": "code",
   "execution_count": 2,
   "metadata": {},
   "outputs": [
    {
     "data": {
      "text/plain": "'/Users/harutaka/Desktop/dsb2019'"
     },
     "execution_count": 2,
     "metadata": {},
     "output_type": "execute_result"
    }
   ],
   "source": [
    "os.getcwd()"
   ]
  },
  {
   "cell_type": "code",
   "execution_count": 3,
   "metadata": {},
   "outputs": [
    {
     "name": "stdout",
     "output_type": "stream",
     "text": "total 0\ndrwxr-xr-x  13 harutaka  staff   416B Jan  4 17:21 \u001b[34mclean\u001b[m\u001b[m/\ndrwxr-xr-x  12 harutaka  staff   384B Dec 29 01:13 \u001b[34mdata-science-bowl-2019\u001b[m\u001b[m/\ndrwxr-xr-x  25 harutaka  staff   800B Jan 12 22:14 \u001b[34mfeatures\u001b[m\u001b[m/\n"
    }
   ],
   "source": [
    "%ls -lh data"
   ]
  },
  {
   "cell_type": "code",
   "execution_count": 4,
   "metadata": {},
   "outputs": [
    {
     "name": "stdout",
     "output_type": "stream",
     "text": "Reading data/clean/train.ftr\n"
    }
   ],
   "source": [
    "train = read_from_clean('train.ftr')"
   ]
  },
  {
   "cell_type": "code",
   "execution_count": 5,
   "metadata": {},
   "outputs": [
    {
     "data": {
      "text/html": "<div>\n<style scoped>\n    .dataframe tbody tr th:only-of-type {\n        vertical-align: middle;\n    }\n\n    .dataframe tbody tr th {\n        vertical-align: top;\n    }\n\n    .dataframe thead th {\n        text-align: right;\n    }\n</style>\n<table border=\"1\" class=\"dataframe\">\n  <thead>\n    <tr style=\"text-align: right;\">\n      <th></th>\n      <th>event_id</th>\n      <th>game_session</th>\n      <th>timestamp</th>\n      <th>event_data</th>\n      <th>installation_id</th>\n      <th>event_count</th>\n      <th>event_code</th>\n      <th>game_time</th>\n      <th>title</th>\n      <th>type</th>\n      <th>world</th>\n    </tr>\n  </thead>\n  <tbody>\n    <tr>\n      <td>0</td>\n      <td>27253bdc</td>\n      <td>34ba1a28d02ba8ba</td>\n      <td>2019-08-06T04:57:18.904Z</td>\n      <td>{\"event_code\": 2000, \"event_count\": 1}</td>\n      <td>0006a69f</td>\n      <td>1</td>\n      <td>2000</td>\n      <td>0</td>\n      <td>Welcome to Lost Lagoon!</td>\n      <td>Clip</td>\n      <td>NONE</td>\n    </tr>\n    <tr>\n      <td>1</td>\n      <td>27253bdc</td>\n      <td>4b57c9a59474a1b9</td>\n      <td>2019-08-06T04:57:45.301Z</td>\n      <td>{\"event_code\": 2000, \"event_count\": 1}</td>\n      <td>0006a69f</td>\n      <td>1</td>\n      <td>2000</td>\n      <td>0</td>\n      <td>Magma Peak - Level 1</td>\n      <td>Clip</td>\n      <td>MAGMAPEAK</td>\n    </tr>\n    <tr>\n      <td>2</td>\n      <td>77261ab5</td>\n      <td>2b9d5af79bcdb79f</td>\n      <td>2019-08-06T04:58:14.538Z</td>\n      <td>{\"version\":\"1.0\",\"event_count\":1,\"game_time\":0...</td>\n      <td>0006a69f</td>\n      <td>1</td>\n      <td>2000</td>\n      <td>0</td>\n      <td>Sandcastle Builder (Activity)</td>\n      <td>Activity</td>\n      <td>MAGMAPEAK</td>\n    </tr>\n    <tr>\n      <td>3</td>\n      <td>b2dba42b</td>\n      <td>2b9d5af79bcdb79f</td>\n      <td>2019-08-06T04:58:14.615Z</td>\n      <td>{\"description\":\"Let's build a sandcastle! Firs...</td>\n      <td>0006a69f</td>\n      <td>2</td>\n      <td>3010</td>\n      <td>29</td>\n      <td>Sandcastle Builder (Activity)</td>\n      <td>Activity</td>\n      <td>MAGMAPEAK</td>\n    </tr>\n    <tr>\n      <td>4</td>\n      <td>1325467d</td>\n      <td>2b9d5af79bcdb79f</td>\n      <td>2019-08-06T04:58:16.680Z</td>\n      <td>{\"coordinates\":{\"x\":273,\"y\":650,\"stage_width\":...</td>\n      <td>0006a69f</td>\n      <td>3</td>\n      <td>4070</td>\n      <td>2137</td>\n      <td>Sandcastle Builder (Activity)</td>\n      <td>Activity</td>\n      <td>MAGMAPEAK</td>\n    </tr>\n  </tbody>\n</table>\n</div>",
      "text/plain": "   event_id      game_session                 timestamp  \\\n0  27253bdc  34ba1a28d02ba8ba  2019-08-06T04:57:18.904Z   \n1  27253bdc  4b57c9a59474a1b9  2019-08-06T04:57:45.301Z   \n2  77261ab5  2b9d5af79bcdb79f  2019-08-06T04:58:14.538Z   \n3  b2dba42b  2b9d5af79bcdb79f  2019-08-06T04:58:14.615Z   \n4  1325467d  2b9d5af79bcdb79f  2019-08-06T04:58:16.680Z   \n\n                                          event_data installation_id  \\\n0             {\"event_code\": 2000, \"event_count\": 1}        0006a69f   \n1             {\"event_code\": 2000, \"event_count\": 1}        0006a69f   \n2  {\"version\":\"1.0\",\"event_count\":1,\"game_time\":0...        0006a69f   \n3  {\"description\":\"Let's build a sandcastle! Firs...        0006a69f   \n4  {\"coordinates\":{\"x\":273,\"y\":650,\"stage_width\":...        0006a69f   \n\n   event_count  event_code  game_time                          title  \\\n0            1        2000          0        Welcome to Lost Lagoon!   \n1            1        2000          0           Magma Peak - Level 1   \n2            1        2000          0  Sandcastle Builder (Activity)   \n3            2        3010         29  Sandcastle Builder (Activity)   \n4            3        4070       2137  Sandcastle Builder (Activity)   \n\n       type      world  \n0      Clip       NONE  \n1      Clip  MAGMAPEAK  \n2  Activity  MAGMAPEAK  \n3  Activity  MAGMAPEAK  \n4  Activity  MAGMAPEAK  "
     },
     "execution_count": 5,
     "metadata": {},
     "output_type": "execute_result"
    }
   ],
   "source": [
    "train.head()"
   ]
  },
  {
   "cell_type": "code",
   "execution_count": 8,
   "metadata": {},
   "outputs": [
    {
     "data": {
      "text/html": "<div>\n<style scoped>\n    .dataframe tbody tr th:only-of-type {\n        vertical-align: middle;\n    }\n\n    .dataframe tbody tr th {\n        vertical-align: top;\n    }\n\n    .dataframe thead th {\n        text-align: right;\n    }\n</style>\n<table border=\"1\" class=\"dataframe\">\n  <thead>\n    <tr style=\"text-align: right;\">\n      <th></th>\n      <th>event_id</th>\n      <th>game_session</th>\n      <th>timestamp</th>\n      <th>event_data</th>\n      <th>installation_id</th>\n      <th>event_count</th>\n      <th>event_code</th>\n      <th>game_time</th>\n      <th>title</th>\n      <th>type</th>\n      <th>world</th>\n    </tr>\n  </thead>\n  <tbody>\n    <tr>\n      <td>0</td>\n      <td>27253bdc</td>\n      <td>34ba1a28d02ba8ba</td>\n      <td>2019-08-06 04:57:18.904000+00:00</td>\n      <td>{\"event_code\": 2000, \"event_count\": 1}</td>\n      <td>0006a69f</td>\n      <td>1</td>\n      <td>2000</td>\n      <td>0</td>\n      <td>Welcome to Lost Lagoon!</td>\n      <td>Clip</td>\n      <td>NONE</td>\n    </tr>\n    <tr>\n      <td>1</td>\n      <td>27253bdc</td>\n      <td>4b57c9a59474a1b9</td>\n      <td>2019-08-06 04:57:45.301000+00:00</td>\n      <td>{\"event_code\": 2000, \"event_count\": 1}</td>\n      <td>0006a69f</td>\n      <td>1</td>\n      <td>2000</td>\n      <td>0</td>\n      <td>Magma Peak - Level 1</td>\n      <td>Clip</td>\n      <td>MAGMAPEAK</td>\n    </tr>\n    <tr>\n      <td>2</td>\n      <td>77261ab5</td>\n      <td>2b9d5af79bcdb79f</td>\n      <td>2019-08-06 04:58:14.538000+00:00</td>\n      <td>{\"version\":\"1.0\",\"event_count\":1,\"game_time\":0...</td>\n      <td>0006a69f</td>\n      <td>1</td>\n      <td>2000</td>\n      <td>0</td>\n      <td>Sandcastle Builder (Activity)</td>\n      <td>Activity</td>\n      <td>MAGMAPEAK</td>\n    </tr>\n    <tr>\n      <td>3</td>\n      <td>b2dba42b</td>\n      <td>2b9d5af79bcdb79f</td>\n      <td>2019-08-06 04:58:14.615000+00:00</td>\n      <td>{\"description\":\"Let's build a sandcastle! Firs...</td>\n      <td>0006a69f</td>\n      <td>2</td>\n      <td>3010</td>\n      <td>29</td>\n      <td>Sandcastle Builder (Activity)</td>\n      <td>Activity</td>\n      <td>MAGMAPEAK</td>\n    </tr>\n    <tr>\n      <td>4</td>\n      <td>1325467d</td>\n      <td>2b9d5af79bcdb79f</td>\n      <td>2019-08-06 04:58:16.680000+00:00</td>\n      <td>{\"coordinates\":{\"x\":273,\"y\":650,\"stage_width\":...</td>\n      <td>0006a69f</td>\n      <td>3</td>\n      <td>4070</td>\n      <td>2137</td>\n      <td>Sandcastle Builder (Activity)</td>\n      <td>Activity</td>\n      <td>MAGMAPEAK</td>\n    </tr>\n    <tr>\n      <td>...</td>\n      <td>...</td>\n      <td>...</td>\n      <td>...</td>\n      <td>...</td>\n      <td>...</td>\n      <td>...</td>\n      <td>...</td>\n      <td>...</td>\n      <td>...</td>\n      <td>...</td>\n      <td>...</td>\n    </tr>\n    <tr>\n      <td>7734553</td>\n      <td>28520915</td>\n      <td>5448d652309a6324</td>\n      <td>2019-09-22 02:07:27.562000+00:00</td>\n      <td>{\"misses\":1,\"prompt\":\"holds least\",\"mode\":\"sel...</td>\n      <td>ffeb0b1b</td>\n      <td>58</td>\n      <td>2030</td>\n      <td>67094</td>\n      <td>Cauldron Filler (Assessment)</td>\n      <td>Assessment</td>\n      <td>MAGMAPEAK</td>\n    </tr>\n    <tr>\n      <td>7734554</td>\n      <td>91561152</td>\n      <td>5448d652309a6324</td>\n      <td>2019-09-22 02:07:27.562000+00:00</td>\n      <td>{\"bucket\":1,\"buckets_placed\":[3,1,2],\"target_b...</td>\n      <td>ffeb0b1b</td>\n      <td>57</td>\n      <td>4025</td>\n      <td>67094</td>\n      <td>Cauldron Filler (Assessment)</td>\n      <td>Assessment</td>\n      <td>MAGMAPEAK</td>\n    </tr>\n    <tr>\n      <td>7734555</td>\n      <td>d3268efa</td>\n      <td>5448d652309a6324</td>\n      <td>2019-09-22 02:07:27.566000+00:00</td>\n      <td>{\"description\":\"Awesome.\",\"identifier\":\"Dot_Aw...</td>\n      <td>ffeb0b1b</td>\n      <td>59</td>\n      <td>3021</td>\n      <td>67094</td>\n      <td>Cauldron Filler (Assessment)</td>\n      <td>Assessment</td>\n      <td>MAGMAPEAK</td>\n    </tr>\n    <tr>\n      <td>7734556</td>\n      <td>b5053438</td>\n      <td>5448d652309a6324</td>\n      <td>2019-09-22 02:07:28.311000+00:00</td>\n      <td>{\"description\":\"Awesome.\",\"identifier\":\"Dot_Aw...</td>\n      <td>ffeb0b1b</td>\n      <td>60</td>\n      <td>3121</td>\n      <td>67847</td>\n      <td>Cauldron Filler (Assessment)</td>\n      <td>Assessment</td>\n      <td>MAGMAPEAK</td>\n    </tr>\n    <tr>\n      <td>7734557</td>\n      <td>2b058fe3</td>\n      <td>5448d652309a6324</td>\n      <td>2019-09-22 02:07:31.963000+00:00</td>\n      <td>{\"session_duration\":71511,\"event_count\":61,\"ga...</td>\n      <td>ffeb0b1b</td>\n      <td>61</td>\n      <td>2010</td>\n      <td>71511</td>\n      <td>Cauldron Filler (Assessment)</td>\n      <td>Assessment</td>\n      <td>MAGMAPEAK</td>\n    </tr>\n  </tbody>\n</table>\n<p>7734558 rows × 11 columns</p>\n</div>",
      "text/plain": "         event_id      game_session                        timestamp  \\\n0        27253bdc  34ba1a28d02ba8ba 2019-08-06 04:57:18.904000+00:00   \n1        27253bdc  4b57c9a59474a1b9 2019-08-06 04:57:45.301000+00:00   \n2        77261ab5  2b9d5af79bcdb79f 2019-08-06 04:58:14.538000+00:00   \n3        b2dba42b  2b9d5af79bcdb79f 2019-08-06 04:58:14.615000+00:00   \n4        1325467d  2b9d5af79bcdb79f 2019-08-06 04:58:16.680000+00:00   \n...           ...               ...                              ...   \n7734553  28520915  5448d652309a6324 2019-09-22 02:07:27.562000+00:00   \n7734554  91561152  5448d652309a6324 2019-09-22 02:07:27.562000+00:00   \n7734555  d3268efa  5448d652309a6324 2019-09-22 02:07:27.566000+00:00   \n7734556  b5053438  5448d652309a6324 2019-09-22 02:07:28.311000+00:00   \n7734557  2b058fe3  5448d652309a6324 2019-09-22 02:07:31.963000+00:00   \n\n                                                event_data installation_id  \\\n0                   {\"event_code\": 2000, \"event_count\": 1}        0006a69f   \n1                   {\"event_code\": 2000, \"event_count\": 1}        0006a69f   \n2        {\"version\":\"1.0\",\"event_count\":1,\"game_time\":0...        0006a69f   \n3        {\"description\":\"Let's build a sandcastle! Firs...        0006a69f   \n4        {\"coordinates\":{\"x\":273,\"y\":650,\"stage_width\":...        0006a69f   \n...                                                    ...             ...   \n7734553  {\"misses\":1,\"prompt\":\"holds least\",\"mode\":\"sel...        ffeb0b1b   \n7734554  {\"bucket\":1,\"buckets_placed\":[3,1,2],\"target_b...        ffeb0b1b   \n7734555  {\"description\":\"Awesome.\",\"identifier\":\"Dot_Aw...        ffeb0b1b   \n7734556  {\"description\":\"Awesome.\",\"identifier\":\"Dot_Aw...        ffeb0b1b   \n7734557  {\"session_duration\":71511,\"event_count\":61,\"ga...        ffeb0b1b   \n\n         event_count  event_code  game_time                          title  \\\n0                  1        2000          0        Welcome to Lost Lagoon!   \n1                  1        2000          0           Magma Peak - Level 1   \n2                  1        2000          0  Sandcastle Builder (Activity)   \n3                  2        3010         29  Sandcastle Builder (Activity)   \n4                  3        4070       2137  Sandcastle Builder (Activity)   \n...              ...         ...        ...                            ...   \n7734553           58        2030      67094   Cauldron Filler (Assessment)   \n7734554           57        4025      67094   Cauldron Filler (Assessment)   \n7734555           59        3021      67094   Cauldron Filler (Assessment)   \n7734556           60        3121      67847   Cauldron Filler (Assessment)   \n7734557           61        2010      71511   Cauldron Filler (Assessment)   \n\n               type      world  \n0              Clip       NONE  \n1              Clip  MAGMAPEAK  \n2          Activity  MAGMAPEAK  \n3          Activity  MAGMAPEAK  \n4          Activity  MAGMAPEAK  \n...             ...        ...  \n7734553  Assessment  MAGMAPEAK  \n7734554  Assessment  MAGMAPEAK  \n7734555  Assessment  MAGMAPEAK  \n7734556  Assessment  MAGMAPEAK  \n7734557  Assessment  MAGMAPEAK  \n\n[7734558 rows x 11 columns]"
     },
     "execution_count": 8,
     "metadata": {},
     "output_type": "execute_result"
    }
   ],
   "source": [
    "train['timestamp'] = pd.to_datetime(train['timestamp'])\n",
    "train"
   ]
  },
  {
   "cell_type": "code",
   "execution_count": 23,
   "metadata": {},
   "outputs": [
    {
     "data": {
      "text/html": "<div>\n<style scoped>\n    .dataframe tbody tr th:only-of-type {\n        vertical-align: middle;\n    }\n\n    .dataframe tbody tr th {\n        vertical-align: top;\n    }\n\n    .dataframe thead th {\n        text-align: right;\n    }\n</style>\n<table border=\"1\" class=\"dataframe\">\n  <thead>\n    <tr style=\"text-align: right;\">\n      <th></th>\n      <th>event_id</th>\n      <th>game_session</th>\n      <th>timestamp</th>\n      <th>event_data</th>\n      <th>installation_id</th>\n      <th>event_count</th>\n      <th>event_code</th>\n      <th>game_time</th>\n      <th>title</th>\n      <th>type</th>\n      <th>world</th>\n      <th>seconds_diff</th>\n    </tr>\n  </thead>\n  <tbody>\n    <tr>\n      <td>0</td>\n      <td>27253bdc</td>\n      <td>34ba1a28d02ba8ba</td>\n      <td>2019-08-06 04:57:18.904000+00:00</td>\n      <td>{\"event_code\": 2000, \"event_count\": 1}</td>\n      <td>0006a69f</td>\n      <td>1</td>\n      <td>2000</td>\n      <td>0</td>\n      <td>Welcome to Lost Lagoon!</td>\n      <td>Clip</td>\n      <td>NONE</td>\n      <td>-27.0</td>\n    </tr>\n    <tr>\n      <td>1</td>\n      <td>27253bdc</td>\n      <td>4b57c9a59474a1b9</td>\n      <td>2019-08-06 04:57:45.301000+00:00</td>\n      <td>{\"event_code\": 2000, \"event_count\": 1}</td>\n      <td>0006a69f</td>\n      <td>1</td>\n      <td>2000</td>\n      <td>0</td>\n      <td>Magma Peak - Level 1</td>\n      <td>Clip</td>\n      <td>MAGMAPEAK</td>\n      <td>31.0</td>\n    </tr>\n    <tr>\n      <td>2</td>\n      <td>77261ab5</td>\n      <td>2b9d5af79bcdb79f</td>\n      <td>2019-08-06 04:58:14.538000+00:00</td>\n      <td>{\"version\":\"1.0\",\"event_count\":1,\"game_time\":0...</td>\n      <td>0006a69f</td>\n      <td>1</td>\n      <td>2000</td>\n      <td>0</td>\n      <td>Sandcastle Builder (Activity)</td>\n      <td>Activity</td>\n      <td>MAGMAPEAK</td>\n      <td>0.0</td>\n    </tr>\n    <tr>\n      <td>3</td>\n      <td>b2dba42b</td>\n      <td>2b9d5af79bcdb79f</td>\n      <td>2019-08-06 04:58:14.615000+00:00</td>\n      <td>{\"description\":\"Let's build a sandcastle! Firs...</td>\n      <td>0006a69f</td>\n      <td>2</td>\n      <td>3010</td>\n      <td>29</td>\n      <td>Sandcastle Builder (Activity)</td>\n      <td>Activity</td>\n      <td>MAGMAPEAK</td>\n      <td>-2.0</td>\n    </tr>\n    <tr>\n      <td>4</td>\n      <td>1325467d</td>\n      <td>2b9d5af79bcdb79f</td>\n      <td>2019-08-06 04:58:16.680000+00:00</td>\n      <td>{\"coordinates\":{\"x\":273,\"y\":650,\"stage_width\":...</td>\n      <td>0006a69f</td>\n      <td>3</td>\n      <td>4070</td>\n      <td>2137</td>\n      <td>Sandcastle Builder (Activity)</td>\n      <td>Activity</td>\n      <td>MAGMAPEAK</td>\n      <td>-2.0</td>\n    </tr>\n    <tr>\n      <td>...</td>\n      <td>...</td>\n      <td>...</td>\n      <td>...</td>\n      <td>...</td>\n      <td>...</td>\n      <td>...</td>\n      <td>...</td>\n      <td>...</td>\n      <td>...</td>\n      <td>...</td>\n      <td>...</td>\n      <td>...</td>\n    </tr>\n    <tr>\n      <td>7734553</td>\n      <td>28520915</td>\n      <td>5448d652309a6324</td>\n      <td>2019-09-22 02:07:27.562000+00:00</td>\n      <td>{\"misses\":1,\"prompt\":\"holds least\",\"mode\":\"sel...</td>\n      <td>ffeb0b1b</td>\n      <td>58</td>\n      <td>2030</td>\n      <td>67094</td>\n      <td>Cauldron Filler (Assessment)</td>\n      <td>Assessment</td>\n      <td>MAGMAPEAK</td>\n      <td>0.0</td>\n    </tr>\n    <tr>\n      <td>7734554</td>\n      <td>91561152</td>\n      <td>5448d652309a6324</td>\n      <td>2019-09-22 02:07:27.562000+00:00</td>\n      <td>{\"bucket\":1,\"buckets_placed\":[3,1,2],\"target_b...</td>\n      <td>ffeb0b1b</td>\n      <td>57</td>\n      <td>4025</td>\n      <td>67094</td>\n      <td>Cauldron Filler (Assessment)</td>\n      <td>Assessment</td>\n      <td>MAGMAPEAK</td>\n      <td>0.0</td>\n    </tr>\n    <tr>\n      <td>7734555</td>\n      <td>d3268efa</td>\n      <td>5448d652309a6324</td>\n      <td>2019-09-22 02:07:27.566000+00:00</td>\n      <td>{\"description\":\"Awesome.\",\"identifier\":\"Dot_Aw...</td>\n      <td>ffeb0b1b</td>\n      <td>59</td>\n      <td>3021</td>\n      <td>67094</td>\n      <td>Cauldron Filler (Assessment)</td>\n      <td>Assessment</td>\n      <td>MAGMAPEAK</td>\n      <td>-1.0</td>\n    </tr>\n    <tr>\n      <td>7734556</td>\n      <td>b5053438</td>\n      <td>5448d652309a6324</td>\n      <td>2019-09-22 02:07:28.311000+00:00</td>\n      <td>{\"description\":\"Awesome.\",\"identifier\":\"Dot_Aw...</td>\n      <td>ffeb0b1b</td>\n      <td>60</td>\n      <td>3121</td>\n      <td>67847</td>\n      <td>Cauldron Filler (Assessment)</td>\n      <td>Assessment</td>\n      <td>MAGMAPEAK</td>\n      <td>-3.0</td>\n    </tr>\n    <tr>\n      <td>7734557</td>\n      <td>2b058fe3</td>\n      <td>5448d652309a6324</td>\n      <td>2019-09-22 02:07:31.963000+00:00</td>\n      <td>{\"session_duration\":71511,\"event_count\":61,\"ga...</td>\n      <td>ffeb0b1b</td>\n      <td>61</td>\n      <td>2010</td>\n      <td>71511</td>\n      <td>Cauldron Filler (Assessment)</td>\n      <td>Assessment</td>\n      <td>MAGMAPEAK</td>\n      <td>NaN</td>\n    </tr>\n  </tbody>\n</table>\n<p>7734558 rows × 12 columns</p>\n</div>",
      "text/plain": "         event_id      game_session                        timestamp  \\\n0        27253bdc  34ba1a28d02ba8ba 2019-08-06 04:57:18.904000+00:00   \n1        27253bdc  4b57c9a59474a1b9 2019-08-06 04:57:45.301000+00:00   \n2        77261ab5  2b9d5af79bcdb79f 2019-08-06 04:58:14.538000+00:00   \n3        b2dba42b  2b9d5af79bcdb79f 2019-08-06 04:58:14.615000+00:00   \n4        1325467d  2b9d5af79bcdb79f 2019-08-06 04:58:16.680000+00:00   \n...           ...               ...                              ...   \n7734553  28520915  5448d652309a6324 2019-09-22 02:07:27.562000+00:00   \n7734554  91561152  5448d652309a6324 2019-09-22 02:07:27.562000+00:00   \n7734555  d3268efa  5448d652309a6324 2019-09-22 02:07:27.566000+00:00   \n7734556  b5053438  5448d652309a6324 2019-09-22 02:07:28.311000+00:00   \n7734557  2b058fe3  5448d652309a6324 2019-09-22 02:07:31.963000+00:00   \n\n                                                event_data installation_id  \\\n0                   {\"event_code\": 2000, \"event_count\": 1}        0006a69f   \n1                   {\"event_code\": 2000, \"event_count\": 1}        0006a69f   \n2        {\"version\":\"1.0\",\"event_count\":1,\"game_time\":0...        0006a69f   \n3        {\"description\":\"Let's build a sandcastle! Firs...        0006a69f   \n4        {\"coordinates\":{\"x\":273,\"y\":650,\"stage_width\":...        0006a69f   \n...                                                    ...             ...   \n7734553  {\"misses\":1,\"prompt\":\"holds least\",\"mode\":\"sel...        ffeb0b1b   \n7734554  {\"bucket\":1,\"buckets_placed\":[3,1,2],\"target_b...        ffeb0b1b   \n7734555  {\"description\":\"Awesome.\",\"identifier\":\"Dot_Aw...        ffeb0b1b   \n7734556  {\"description\":\"Awesome.\",\"identifier\":\"Dot_Aw...        ffeb0b1b   \n7734557  {\"session_duration\":71511,\"event_count\":61,\"ga...        ffeb0b1b   \n\n         event_count  event_code  game_time                          title  \\\n0                  1        2000          0        Welcome to Lost Lagoon!   \n1                  1        2000          0           Magma Peak - Level 1   \n2                  1        2000          0  Sandcastle Builder (Activity)   \n3                  2        3010         29  Sandcastle Builder (Activity)   \n4                  3        4070       2137  Sandcastle Builder (Activity)   \n...              ...         ...        ...                            ...   \n7734553           58        2030      67094   Cauldron Filler (Assessment)   \n7734554           57        4025      67094   Cauldron Filler (Assessment)   \n7734555           59        3021      67094   Cauldron Filler (Assessment)   \n7734556           60        3121      67847   Cauldron Filler (Assessment)   \n7734557           61        2010      71511   Cauldron Filler (Assessment)   \n\n               type      world  seconds_diff  \n0              Clip       NONE         -27.0  \n1              Clip  MAGMAPEAK          31.0  \n2          Activity  MAGMAPEAK           0.0  \n3          Activity  MAGMAPEAK          -2.0  \n4          Activity  MAGMAPEAK          -2.0  \n...             ...        ...           ...  \n7734553  Assessment  MAGMAPEAK           0.0  \n7734554  Assessment  MAGMAPEAK           0.0  \n7734555  Assessment  MAGMAPEAK          -1.0  \n7734556  Assessment  MAGMAPEAK          -3.0  \n7734557  Assessment  MAGMAPEAK           NaN  \n\n[7734558 rows x 12 columns]"
     },
     "execution_count": 23,
     "metadata": {},
     "output_type": "execute_result"
    }
   ],
   "source": [
    "train['seconds_diff'] = (train['timestamp'].dt.second - train['timestamp'].dt.second.shift(-1))\n",
    "train"
   ]
  },
  {
   "cell_type": "code",
   "execution_count": 24,
   "metadata": {},
   "outputs": [
    {
     "data": {
      "text/html": "<div>\n<style scoped>\n    .dataframe tbody tr th:only-of-type {\n        vertical-align: middle;\n    }\n\n    .dataframe tbody tr th {\n        vertical-align: top;\n    }\n\n    .dataframe thead th {\n        text-align: right;\n    }\n</style>\n<table border=\"1\" class=\"dataframe\">\n  <thead>\n    <tr style=\"text-align: right;\">\n      <th></th>\n      <th>event_id</th>\n      <th>game_session</th>\n      <th>timestamp</th>\n      <th>event_data</th>\n      <th>installation_id</th>\n      <th>event_count</th>\n      <th>event_code</th>\n      <th>game_time</th>\n      <th>title</th>\n      <th>type</th>\n      <th>world</th>\n      <th>seconds_diff</th>\n    </tr>\n  </thead>\n  <tbody>\n    <tr>\n      <td>0</td>\n      <td>27253bdc</td>\n      <td>34ba1a28d02ba8ba</td>\n      <td>2019-08-06 04:57:18.904000+00:00</td>\n      <td>{\"event_code\": 2000, \"event_count\": 1}</td>\n      <td>0006a69f</td>\n      <td>1</td>\n      <td>2000</td>\n      <td>0</td>\n      <td>Welcome to Lost Lagoon!</td>\n      <td>Clip</td>\n      <td>NONE</td>\n      <td>-27.0</td>\n    </tr>\n    <tr>\n      <td>1</td>\n      <td>27253bdc</td>\n      <td>4b57c9a59474a1b9</td>\n      <td>2019-08-06 04:57:45.301000+00:00</td>\n      <td>{\"event_code\": 2000, \"event_count\": 1}</td>\n      <td>0006a69f</td>\n      <td>1</td>\n      <td>2000</td>\n      <td>0</td>\n      <td>Magma Peak - Level 1</td>\n      <td>Clip</td>\n      <td>MAGMAPEAK</td>\n      <td>31.0</td>\n    </tr>\n    <tr>\n      <td>104</td>\n      <td>27253bdc</td>\n      <td>f4d29a878230c9a0</td>\n      <td>2019-08-06 05:00:02.038000+00:00</td>\n      <td>{\"event_code\": 2000, \"event_count\": 1}</td>\n      <td>0006a69f</td>\n      <td>1</td>\n      <td>2000</td>\n      <td>0</td>\n      <td>Slop Problem</td>\n      <td>Clip</td>\n      <td>MAGMAPEAK</td>\n      <td>-11.0</td>\n    </tr>\n    <tr>\n      <td>236</td>\n      <td>27253bdc</td>\n      <td>4d566eabbefd780d</td>\n      <td>2019-08-06 05:07:03.331000+00:00</td>\n      <td>{\"event_code\": 2000, \"event_count\": 1}</td>\n      <td>0006a69f</td>\n      <td>1</td>\n      <td>2000</td>\n      <td>0</td>\n      <td>Welcome to Lost Lagoon!</td>\n      <td>Clip</td>\n      <td>NONE</td>\n      <td>-30.0</td>\n    </tr>\n    <tr>\n      <td>237</td>\n      <td>27253bdc</td>\n      <td>d3ffed2d2d77597d</td>\n      <td>2019-08-06 05:07:33.207000+00:00</td>\n      <td>{\"event_code\": 2000, \"event_count\": 1}</td>\n      <td>0006a69f</td>\n      <td>1</td>\n      <td>2000</td>\n      <td>0</td>\n      <td>Tree Top City - Level 1</td>\n      <td>Clip</td>\n      <td>TREETOPCITY</td>\n      <td>-25.0</td>\n    </tr>\n    <tr>\n      <td>...</td>\n      <td>...</td>\n      <td>...</td>\n      <td>...</td>\n      <td>...</td>\n      <td>...</td>\n      <td>...</td>\n      <td>...</td>\n      <td>...</td>\n      <td>...</td>\n      <td>...</td>\n      <td>...</td>\n      <td>...</td>\n    </tr>\n    <tr>\n      <td>7734319</td>\n      <td>27253bdc</td>\n      <td>ac7461216d0618a0</td>\n      <td>2019-09-21 18:32:05.266000+00:00</td>\n      <td>{\"event_code\": 2000, \"event_count\": 1}</td>\n      <td>ffeb0b1b</td>\n      <td>1</td>\n      <td>2000</td>\n      <td>0</td>\n      <td>Ordering Spheres</td>\n      <td>Clip</td>\n      <td>TREETOPCITY</td>\n      <td>0.0</td>\n    </tr>\n    <tr>\n      <td>7734320</td>\n      <td>27253bdc</td>\n      <td>779bfb2b7a47920a</td>\n      <td>2019-09-22 01:55:05.007000+00:00</td>\n      <td>{\"event_code\": 2000, \"event_count\": 1}</td>\n      <td>ffeb0b1b</td>\n      <td>1</td>\n      <td>2000</td>\n      <td>0</td>\n      <td>Ordering Spheres</td>\n      <td>Clip</td>\n      <td>TREETOPCITY</td>\n      <td>-32.0</td>\n    </tr>\n    <tr>\n      <td>7734321</td>\n      <td>27253bdc</td>\n      <td>fafc3deda44d80dc</td>\n      <td>2019-09-22 01:55:37.209000+00:00</td>\n      <td>{\"event_code\": 2000, \"event_count\": 1}</td>\n      <td>ffeb0b1b</td>\n      <td>1</td>\n      <td>2000</td>\n      <td>0</td>\n      <td>Ordering Spheres</td>\n      <td>Clip</td>\n      <td>TREETOPCITY</td>\n      <td>22.0</td>\n    </tr>\n    <tr>\n      <td>7734322</td>\n      <td>27253bdc</td>\n      <td>839481713a73fcde</td>\n      <td>2019-09-22 01:56:15.371000+00:00</td>\n      <td>{\"event_code\": 2000, \"event_count\": 1}</td>\n      <td>ffeb0b1b</td>\n      <td>1</td>\n      <td>2000</td>\n      <td>0</td>\n      <td>Ordering Spheres</td>\n      <td>Clip</td>\n      <td>TREETOPCITY</td>\n      <td>-5.0</td>\n    </tr>\n    <tr>\n      <td>7734420</td>\n      <td>27253bdc</td>\n      <td>b7c711baf474b5cb</td>\n      <td>2019-09-22 02:01:07.806000+00:00</td>\n      <td>{\"event_code\": 2000, \"event_count\": 1}</td>\n      <td>ffeb0b1b</td>\n      <td>1</td>\n      <td>2000</td>\n      <td>0</td>\n      <td>Magma Peak - Level 1</td>\n      <td>Clip</td>\n      <td>MAGMAPEAK</td>\n      <td>-34.0</td>\n    </tr>\n  </tbody>\n</table>\n<p>90707 rows × 12 columns</p>\n</div>",
      "text/plain": "         event_id      game_session                        timestamp  \\\n0        27253bdc  34ba1a28d02ba8ba 2019-08-06 04:57:18.904000+00:00   \n1        27253bdc  4b57c9a59474a1b9 2019-08-06 04:57:45.301000+00:00   \n104      27253bdc  f4d29a878230c9a0 2019-08-06 05:00:02.038000+00:00   \n236      27253bdc  4d566eabbefd780d 2019-08-06 05:07:03.331000+00:00   \n237      27253bdc  d3ffed2d2d77597d 2019-08-06 05:07:33.207000+00:00   \n...           ...               ...                              ...   \n7734319  27253bdc  ac7461216d0618a0 2019-09-21 18:32:05.266000+00:00   \n7734320  27253bdc  779bfb2b7a47920a 2019-09-22 01:55:05.007000+00:00   \n7734321  27253bdc  fafc3deda44d80dc 2019-09-22 01:55:37.209000+00:00   \n7734322  27253bdc  839481713a73fcde 2019-09-22 01:56:15.371000+00:00   \n7734420  27253bdc  b7c711baf474b5cb 2019-09-22 02:01:07.806000+00:00   \n\n                                     event_data installation_id  event_count  \\\n0        {\"event_code\": 2000, \"event_count\": 1}        0006a69f            1   \n1        {\"event_code\": 2000, \"event_count\": 1}        0006a69f            1   \n104      {\"event_code\": 2000, \"event_count\": 1}        0006a69f            1   \n236      {\"event_code\": 2000, \"event_count\": 1}        0006a69f            1   \n237      {\"event_code\": 2000, \"event_count\": 1}        0006a69f            1   \n...                                         ...             ...          ...   \n7734319  {\"event_code\": 2000, \"event_count\": 1}        ffeb0b1b            1   \n7734320  {\"event_code\": 2000, \"event_count\": 1}        ffeb0b1b            1   \n7734321  {\"event_code\": 2000, \"event_count\": 1}        ffeb0b1b            1   \n7734322  {\"event_code\": 2000, \"event_count\": 1}        ffeb0b1b            1   \n7734420  {\"event_code\": 2000, \"event_count\": 1}        ffeb0b1b            1   \n\n         event_code  game_time                    title  type        world  \\\n0              2000          0  Welcome to Lost Lagoon!  Clip         NONE   \n1              2000          0     Magma Peak - Level 1  Clip    MAGMAPEAK   \n104            2000          0             Slop Problem  Clip    MAGMAPEAK   \n236            2000          0  Welcome to Lost Lagoon!  Clip         NONE   \n237            2000          0  Tree Top City - Level 1  Clip  TREETOPCITY   \n...             ...        ...                      ...   ...          ...   \n7734319        2000          0         Ordering Spheres  Clip  TREETOPCITY   \n7734320        2000          0         Ordering Spheres  Clip  TREETOPCITY   \n7734321        2000          0         Ordering Spheres  Clip  TREETOPCITY   \n7734322        2000          0         Ordering Spheres  Clip  TREETOPCITY   \n7734420        2000          0     Magma Peak - Level 1  Clip    MAGMAPEAK   \n\n         seconds_diff  \n0               -27.0  \n1                31.0  \n104             -11.0  \n236             -30.0  \n237             -25.0  \n...               ...  \n7734319           0.0  \n7734320         -32.0  \n7734321          22.0  \n7734322          -5.0  \n7734420         -34.0  \n\n[90707 rows x 12 columns]"
     },
     "execution_count": 24,
     "metadata": {},
     "output_type": "execute_result"
    }
   ],
   "source": [
    "clip = train[train['type'] == 'Clip']\n",
    "clip"
   ]
  },
  {
   "cell_type": "code",
   "execution_count": 25,
   "metadata": {},
   "outputs": [
    {
     "data": {
      "text/html": "<div>\n<style scoped>\n    .dataframe tbody tr th:only-of-type {\n        vertical-align: middle;\n    }\n\n    .dataframe tbody tr th {\n        vertical-align: top;\n    }\n\n    .dataframe thead th {\n        text-align: right;\n    }\n</style>\n<table border=\"1\" class=\"dataframe\">\n  <thead>\n    <tr style=\"text-align: right;\">\n      <th></th>\n      <th>seconds_diff</th>\n    </tr>\n    <tr>\n      <th>title</th>\n      <th></th>\n    </tr>\n  </thead>\n  <tbody>\n    <tr>\n      <td>12 Monkeys</td>\n      <td>0.430943</td>\n    </tr>\n    <tr>\n      <td>Balancing Act</td>\n      <td>0.227206</td>\n    </tr>\n    <tr>\n      <td>Costume Box</td>\n      <td>0.499139</td>\n    </tr>\n    <tr>\n      <td>Crystal Caves - Level 1</td>\n      <td>0.290586</td>\n    </tr>\n    <tr>\n      <td>Crystal Caves - Level 2</td>\n      <td>0.248451</td>\n    </tr>\n    <tr>\n      <td>Crystal Caves - Level 3</td>\n      <td>0.074037</td>\n    </tr>\n    <tr>\n      <td>Heavy, Heavier, Heaviest</td>\n      <td>0.120080</td>\n    </tr>\n    <tr>\n      <td>Honey Cake</td>\n      <td>-0.156797</td>\n    </tr>\n    <tr>\n      <td>Lifting Heavy Things</td>\n      <td>0.398888</td>\n    </tr>\n    <tr>\n      <td>Magma Peak - Level 1</td>\n      <td>0.115526</td>\n    </tr>\n    <tr>\n      <td>Magma Peak - Level 2</td>\n      <td>-0.405360</td>\n    </tr>\n    <tr>\n      <td>Ordering Spheres</td>\n      <td>0.391932</td>\n    </tr>\n    <tr>\n      <td>Pirate's Tale</td>\n      <td>0.356199</td>\n    </tr>\n    <tr>\n      <td>Rulers</td>\n      <td>0.112797</td>\n    </tr>\n    <tr>\n      <td>Slop Problem</td>\n      <td>0.283546</td>\n    </tr>\n    <tr>\n      <td>Treasure Map</td>\n      <td>-0.558315</td>\n    </tr>\n    <tr>\n      <td>Tree Top City - Level 1</td>\n      <td>-0.288429</td>\n    </tr>\n    <tr>\n      <td>Tree Top City - Level 2</td>\n      <td>-0.031319</td>\n    </tr>\n    <tr>\n      <td>Tree Top City - Level 3</td>\n      <td>0.498135</td>\n    </tr>\n    <tr>\n      <td>Welcome to Lost Lagoon!</td>\n      <td>-0.195157</td>\n    </tr>\n  </tbody>\n</table>\n</div>",
      "text/plain": "                          seconds_diff\ntitle                                 \n12 Monkeys                    0.430943\nBalancing Act                 0.227206\nCostume Box                   0.499139\nCrystal Caves - Level 1       0.290586\nCrystal Caves - Level 2       0.248451\nCrystal Caves - Level 3       0.074037\nHeavy, Heavier, Heaviest      0.120080\nHoney Cake                   -0.156797\nLifting Heavy Things          0.398888\nMagma Peak - Level 1          0.115526\nMagma Peak - Level 2         -0.405360\nOrdering Spheres              0.391932\nPirate's Tale                 0.356199\nRulers                        0.112797\nSlop Problem                  0.283546\nTreasure Map                 -0.558315\nTree Top City - Level 1      -0.288429\nTree Top City - Level 2      -0.031319\nTree Top City - Level 3       0.498135\nWelcome to Lost Lagoon!      -0.195157"
     },
     "execution_count": 25,
     "metadata": {},
     "output_type": "execute_result"
    }
   ],
   "source": [
    "clip.groupby('title').agg({'seconds_diff': 'mean'})"
   ]
  },
  {
   "cell_type": "code",
   "execution_count": null,
   "metadata": {},
   "outputs": [],
   "source": []
  }
 ],
 "metadata": {
  "kernelspec": {
   "display_name": "Python 3.7.4 64-bit ('machine-learning': conda)",
   "language": "python",
   "name": "python37464bitmachinelearningconda3834288e34cb44709a571332c2599501"
  },
  "language_info": {
   "codemirror_mode": {
    "name": "ipython",
    "version": 3
   },
   "file_extension": ".py",
   "mimetype": "text/x-python",
   "name": "python",
   "nbconvert_exporter": "python",
   "pygments_lexer": "ipython3",
   "version": "3.7.4-final"
  }
 },
 "nbformat": 4,
 "nbformat_minor": 2
}