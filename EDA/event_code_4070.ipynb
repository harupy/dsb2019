{
 "cells": [
  {
   "cell_type": "code",
   "execution_count": 1,
   "metadata": {},
   "outputs": [],
   "source": [
    "import os\n",
    "import pandas as pd\n",
    "import sys\n",
    "\n",
    "# add src to use utils\n",
    "sys.path.append('./src')\n",
    "\n",
    "from utils.io import read_from_clean, read_features\n",
    "\n",
    "pd.set_option('display.max_columns', None)\n",
    "pd.set_option('display.max_colwidth', 500)"
   ]
  },
  {
   "cell_type": "code",
   "execution_count": 2,
   "metadata": {},
   "outputs": [
    {
     "data": {
      "text/plain": "'/Users/harutaka/Desktop/dsb2019'"
     },
     "execution_count": 2,
     "metadata": {},
     "output_type": "execute_result"
    }
   ],
   "source": [
    "os.getcwd()"
   ]
  },
  {
   "cell_type": "code",
   "execution_count": 3,
   "metadata": {},
   "outputs": [
    {
     "name": "stdout",
     "output_type": "stream",
     "text": "total 0\ndrwxr-xr-x  13 harutaka  staff   416B Jan  4 17:21 \u001b[34mclean\u001b[m\u001b[m/\ndrwxr-xr-x  12 harutaka  staff   384B Dec 29 01:13 \u001b[34mdata-science-bowl-2019\u001b[m\u001b[m/\ndrwxr-xr-x  23 harutaka  staff   736B Jan  5 21:38 \u001b[34mfeatures\u001b[m\u001b[m/\n"
    }
   ],
   "source": [
    "%ls -lh data"
   ]
  },
  {
   "cell_type": "code",
   "execution_count": 4,
   "metadata": {},
   "outputs": [
    {
     "name": "stdout",
     "output_type": "stream",
     "text": "Reading data/clean/train.ftr\n"
    }
   ],
   "source": [
    "train = read_from_clean('train.ftr')"
   ]
  },
  {
   "cell_type": "code",
   "execution_count": 5,
   "metadata": {},
   "outputs": [
    {
     "data": {
      "text/html": "<div>\n<style scoped>\n    .dataframe tbody tr th:only-of-type {\n        vertical-align: middle;\n    }\n\n    .dataframe tbody tr th {\n        vertical-align: top;\n    }\n\n    .dataframe thead th {\n        text-align: right;\n    }\n</style>\n<table border=\"1\" class=\"dataframe\">\n  <thead>\n    <tr style=\"text-align: right;\">\n      <th></th>\n      <th>event_id</th>\n      <th>game_session</th>\n      <th>timestamp</th>\n      <th>event_data</th>\n      <th>installation_id</th>\n      <th>event_count</th>\n      <th>event_code</th>\n      <th>game_time</th>\n      <th>title</th>\n      <th>type</th>\n      <th>world</th>\n    </tr>\n  </thead>\n  <tbody>\n    <tr>\n      <td>0</td>\n      <td>27253bdc</td>\n      <td>34ba1a28d02ba8ba</td>\n      <td>2019-08-06T04:57:18.904Z</td>\n      <td>{\"event_code\": 2000, \"event_count\": 1}</td>\n      <td>0006a69f</td>\n      <td>1</td>\n      <td>2000</td>\n      <td>0</td>\n      <td>Welcome to Lost Lagoon!</td>\n      <td>Clip</td>\n      <td>NONE</td>\n    </tr>\n    <tr>\n      <td>1</td>\n      <td>27253bdc</td>\n      <td>4b57c9a59474a1b9</td>\n      <td>2019-08-06T04:57:45.301Z</td>\n      <td>{\"event_code\": 2000, \"event_count\": 1}</td>\n      <td>0006a69f</td>\n      <td>1</td>\n      <td>2000</td>\n      <td>0</td>\n      <td>Magma Peak - Level 1</td>\n      <td>Clip</td>\n      <td>MAGMAPEAK</td>\n    </tr>\n    <tr>\n      <td>2</td>\n      <td>77261ab5</td>\n      <td>2b9d5af79bcdb79f</td>\n      <td>2019-08-06T04:58:14.538Z</td>\n      <td>{\"version\":\"1.0\",\"event_count\":1,\"game_time\":0,\"event_code\":2000}</td>\n      <td>0006a69f</td>\n      <td>1</td>\n      <td>2000</td>\n      <td>0</td>\n      <td>Sandcastle Builder (Activity)</td>\n      <td>Activity</td>\n      <td>MAGMAPEAK</td>\n    </tr>\n    <tr>\n      <td>3</td>\n      <td>b2dba42b</td>\n      <td>2b9d5af79bcdb79f</td>\n      <td>2019-08-06T04:58:14.615Z</td>\n      <td>{\"description\":\"Let's build a sandcastle! First, fill up your mold with sand! You can use the shovel here. The mold gives the sand its shape!\",\"identifier\":\"Dot_LetsSandcastle,Dot_FillMold,Dot_MoldShape\",\"media_type\":\"audio\",\"total_duration\":6758,\"event_count\":2,\"game_time\":29,\"event_code\":3010}</td>\n      <td>0006a69f</td>\n      <td>2</td>\n      <td>3010</td>\n      <td>29</td>\n      <td>Sandcastle Builder (Activity)</td>\n      <td>Activity</td>\n      <td>MAGMAPEAK</td>\n    </tr>\n    <tr>\n      <td>4</td>\n      <td>1325467d</td>\n      <td>2b9d5af79bcdb79f</td>\n      <td>2019-08-06T04:58:16.680Z</td>\n      <td>{\"coordinates\":{\"x\":273,\"y\":650,\"stage_width\":1015,\"stage_height\":762},\"event_count\":3,\"game_time\":2137,\"event_code\":4070}</td>\n      <td>0006a69f</td>\n      <td>3</td>\n      <td>4070</td>\n      <td>2137</td>\n      <td>Sandcastle Builder (Activity)</td>\n      <td>Activity</td>\n      <td>MAGMAPEAK</td>\n    </tr>\n  </tbody>\n</table>\n</div>",
      "text/plain": "   event_id      game_session                 timestamp  \\\n0  27253bdc  34ba1a28d02ba8ba  2019-08-06T04:57:18.904Z   \n1  27253bdc  4b57c9a59474a1b9  2019-08-06T04:57:45.301Z   \n2  77261ab5  2b9d5af79bcdb79f  2019-08-06T04:58:14.538Z   \n3  b2dba42b  2b9d5af79bcdb79f  2019-08-06T04:58:14.615Z   \n4  1325467d  2b9d5af79bcdb79f  2019-08-06T04:58:16.680Z   \n\n                                                                                                                                                                                                                                                                                                 event_data  \\\n0                                                                                                                                                                                                                                                                    {\"event_code\": 2000, \"event_count\": 1}   \n1                                                                                                                                                                                                                                                                    {\"event_code\": 2000, \"event_count\": 1}   \n2                                                                                                                                                                                                                                         {\"version\":\"1.0\",\"event_count\":1,\"game_time\":0,\"event_code\":2000}   \n3  {\"description\":\"Let's build a sandcastle! First, fill up your mold with sand! You can use the shovel here. The mold gives the sand its shape!\",\"identifier\":\"Dot_LetsSandcastle,Dot_FillMold,Dot_MoldShape\",\"media_type\":\"audio\",\"total_duration\":6758,\"event_count\":2,\"game_time\":29,\"event_code\":3010}   \n4                                                                                                                                                                                {\"coordinates\":{\"x\":273,\"y\":650,\"stage_width\":1015,\"stage_height\":762},\"event_count\":3,\"game_time\":2137,\"event_code\":4070}   \n\n  installation_id  event_count  event_code  game_time  \\\n0        0006a69f            1        2000          0   \n1        0006a69f            1        2000          0   \n2        0006a69f            1        2000          0   \n3        0006a69f            2        3010         29   \n4        0006a69f            3        4070       2137   \n\n                           title      type      world  \n0        Welcome to Lost Lagoon!      Clip       NONE  \n1           Magma Peak - Level 1      Clip  MAGMAPEAK  \n2  Sandcastle Builder (Activity)  Activity  MAGMAPEAK  \n3  Sandcastle Builder (Activity)  Activity  MAGMAPEAK  \n4  Sandcastle Builder (Activity)  Activity  MAGMAPEAK  "
     },
     "execution_count": 5,
     "metadata": {},
     "output_type": "execute_result"
    }
   ],
   "source": [
    "train.head()"
   ]
  },
  {
   "cell_type": "code",
   "execution_count": 6,
   "metadata": {},
   "outputs": [
    {
     "data": {
      "text/html": "<div>\n<style scoped>\n    .dataframe tbody tr th:only-of-type {\n        vertical-align: middle;\n    }\n\n    .dataframe tbody tr th {\n        vertical-align: top;\n    }\n\n    .dataframe thead th {\n        text-align: right;\n    }\n</style>\n<table border=\"1\" class=\"dataframe\">\n  <thead>\n    <tr style=\"text-align: right;\">\n      <th></th>\n      <th>event_id</th>\n      <th>game_session</th>\n      <th>timestamp</th>\n      <th>event_data</th>\n      <th>installation_id</th>\n      <th>event_count</th>\n      <th>event_code</th>\n      <th>game_time</th>\n      <th>title</th>\n      <th>type</th>\n      <th>world</th>\n    </tr>\n  </thead>\n  <tbody>\n    <tr>\n      <td>4</td>\n      <td>1325467d</td>\n      <td>2b9d5af79bcdb79f</td>\n      <td>2019-08-06T04:58:16.680Z</td>\n      <td>{\"coordinates\":{\"x\":273,\"y\":650,\"stage_width\":1015,\"stage_height\":762},\"event_count\":3,\"game_time\":2137,\"event_code\":4070}</td>\n      <td>0006a69f</td>\n      <td>3</td>\n      <td>4070</td>\n      <td>2137</td>\n      <td>Sandcastle Builder (Activity)</td>\n      <td>Activity</td>\n      <td>MAGMAPEAK</td>\n    </tr>\n    <tr>\n      <td>5</td>\n      <td>1325467d</td>\n      <td>2b9d5af79bcdb79f</td>\n      <td>2019-08-06T04:58:18.474Z</td>\n      <td>{\"coordinates\":{\"x\":863,\"y\":237,\"stage_width\":1015,\"stage_height\":762},\"event_count\":4,\"game_time\":3937,\"event_code\":4070}</td>\n      <td>0006a69f</td>\n      <td>4</td>\n      <td>4070</td>\n      <td>3937</td>\n      <td>Sandcastle Builder (Activity)</td>\n      <td>Activity</td>\n      <td>MAGMAPEAK</td>\n    </tr>\n    <tr>\n      <td>6</td>\n      <td>1325467d</td>\n      <td>2b9d5af79bcdb79f</td>\n      <td>2019-08-06T04:58:19.365Z</td>\n      <td>{\"coordinates\":{\"x\":817,\"y\":617,\"stage_width\":1015,\"stage_height\":762},\"event_count\":5,\"game_time\":4820,\"event_code\":4070}</td>\n      <td>0006a69f</td>\n      <td>5</td>\n      <td>4070</td>\n      <td>4820</td>\n      <td>Sandcastle Builder (Activity)</td>\n      <td>Activity</td>\n      <td>MAGMAPEAK</td>\n    </tr>\n    <tr>\n      <td>8</td>\n      <td>1325467d</td>\n      <td>2b9d5af79bcdb79f</td>\n      <td>2019-08-06T04:58:22.732Z</td>\n      <td>{\"coordinates\":{\"x\":809,\"y\":180,\"stage_width\":1015,\"stage_height\":762},\"event_count\":7,\"game_time\":8187,\"event_code\":4070}</td>\n      <td>0006a69f</td>\n      <td>7</td>\n      <td>4070</td>\n      <td>8187</td>\n      <td>Sandcastle Builder (Activity)</td>\n      <td>Activity</td>\n      <td>MAGMAPEAK</td>\n    </tr>\n    <tr>\n      <td>12</td>\n      <td>1325467d</td>\n      <td>2b9d5af79bcdb79f</td>\n      <td>2019-08-06T04:58:24.051Z</td>\n      <td>{\"coordinates\":{\"x\":841,\"y\":406,\"stage_width\":1015,\"stage_height\":762},\"event_count\":11,\"game_time\":9516,\"event_code\":4070}</td>\n      <td>0006a69f</td>\n      <td>11</td>\n      <td>4070</td>\n      <td>9516</td>\n      <td>Sandcastle Builder (Activity)</td>\n      <td>Activity</td>\n      <td>MAGMAPEAK</td>\n    </tr>\n    <tr>\n      <td>...</td>\n      <td>...</td>\n      <td>...</td>\n      <td>...</td>\n      <td>...</td>\n      <td>...</td>\n      <td>...</td>\n      <td>...</td>\n      <td>...</td>\n      <td>...</td>\n      <td>...</td>\n      <td>...</td>\n    </tr>\n    <tr>\n      <td>7734485</td>\n      <td>1325467d</td>\n      <td>e96910064986ea78</td>\n      <td>2019-09-22T02:04:23.227Z</td>\n      <td>{\"coordinates\":{\"x\":252,\"y\":651,\"stage_width\":1015,\"stage_height\":762},\"event_count\":65,\"game_time\":161686,\"event_code\":4070}</td>\n      <td>ffeb0b1b</td>\n      <td>65</td>\n      <td>4070</td>\n      <td>161686</td>\n      <td>Sandcastle Builder (Activity)</td>\n      <td>Activity</td>\n      <td>MAGMAPEAK</td>\n    </tr>\n    <tr>\n      <td>7734501</td>\n      <td>3ee399c3</td>\n      <td>5448d652309a6324</td>\n      <td>2019-09-22T02:06:26.357Z</td>\n      <td>{\"coordinates\":{\"x\":721,\"y\":218,\"stage_width\":1015,\"stage_height\":762},\"event_count\":5,\"game_time\":5896,\"event_code\":4070}</td>\n      <td>ffeb0b1b</td>\n      <td>5</td>\n      <td>4070</td>\n      <td>5896</td>\n      <td>Cauldron Filler (Assessment)</td>\n      <td>Assessment</td>\n      <td>MAGMAPEAK</td>\n    </tr>\n    <tr>\n      <td>7734502</td>\n      <td>3ee399c3</td>\n      <td>5448d652309a6324</td>\n      <td>2019-09-22T02:06:27.183Z</td>\n      <td>{\"coordinates\":{\"x\":712,\"y\":128,\"stage_width\":1015,\"stage_height\":762},\"event_count\":6,\"game_time\":6723,\"event_code\":4070}</td>\n      <td>ffeb0b1b</td>\n      <td>6</td>\n      <td>4070</td>\n      <td>6723</td>\n      <td>Cauldron Filler (Assessment)</td>\n      <td>Assessment</td>\n      <td>MAGMAPEAK</td>\n    </tr>\n    <tr>\n      <td>7734528</td>\n      <td>3ee399c3</td>\n      <td>5448d652309a6324</td>\n      <td>2019-09-22T02:07:02.625Z</td>\n      <td>{\"coordinates\":{\"x\":755,\"y\":378,\"stage_width\":1015,\"stage_height\":762},\"event_count\":32,\"game_time\":42159,\"event_code\":4070}</td>\n      <td>ffeb0b1b</td>\n      <td>32</td>\n      <td>4070</td>\n      <td>42159</td>\n      <td>Cauldron Filler (Assessment)</td>\n      <td>Assessment</td>\n      <td>MAGMAPEAK</td>\n    </tr>\n    <tr>\n      <td>7734552</td>\n      <td>3ee399c3</td>\n      <td>5448d652309a6324</td>\n      <td>2019-09-22T02:07:25.737Z</td>\n      <td>{\"coordinates\":{\"x\":482,\"y\":365,\"stage_width\":1015,\"stage_height\":762},\"event_count\":56,\"game_time\":65281,\"event_code\":4070}</td>\n      <td>ffeb0b1b</td>\n      <td>56</td>\n      <td>4070</td>\n      <td>65281</td>\n      <td>Cauldron Filler (Assessment)</td>\n      <td>Assessment</td>\n      <td>MAGMAPEAK</td>\n    </tr>\n  </tbody>\n</table>\n<p>1521039 rows × 11 columns</p>\n</div>",
      "text/plain": "         event_id      game_session                 timestamp  \\\n4        1325467d  2b9d5af79bcdb79f  2019-08-06T04:58:16.680Z   \n5        1325467d  2b9d5af79bcdb79f  2019-08-06T04:58:18.474Z   \n6        1325467d  2b9d5af79bcdb79f  2019-08-06T04:58:19.365Z   \n8        1325467d  2b9d5af79bcdb79f  2019-08-06T04:58:22.732Z   \n12       1325467d  2b9d5af79bcdb79f  2019-08-06T04:58:24.051Z   \n...           ...               ...                       ...   \n7734485  1325467d  e96910064986ea78  2019-09-22T02:04:23.227Z   \n7734501  3ee399c3  5448d652309a6324  2019-09-22T02:06:26.357Z   \n7734502  3ee399c3  5448d652309a6324  2019-09-22T02:06:27.183Z   \n7734528  3ee399c3  5448d652309a6324  2019-09-22T02:07:02.625Z   \n7734552  3ee399c3  5448d652309a6324  2019-09-22T02:07:25.737Z   \n\n                                                                                                                            event_data  \\\n4           {\"coordinates\":{\"x\":273,\"y\":650,\"stage_width\":1015,\"stage_height\":762},\"event_count\":3,\"game_time\":2137,\"event_code\":4070}   \n5           {\"coordinates\":{\"x\":863,\"y\":237,\"stage_width\":1015,\"stage_height\":762},\"event_count\":4,\"game_time\":3937,\"event_code\":4070}   \n6           {\"coordinates\":{\"x\":817,\"y\":617,\"stage_width\":1015,\"stage_height\":762},\"event_count\":5,\"game_time\":4820,\"event_code\":4070}   \n8           {\"coordinates\":{\"x\":809,\"y\":180,\"stage_width\":1015,\"stage_height\":762},\"event_count\":7,\"game_time\":8187,\"event_code\":4070}   \n12         {\"coordinates\":{\"x\":841,\"y\":406,\"stage_width\":1015,\"stage_height\":762},\"event_count\":11,\"game_time\":9516,\"event_code\":4070}   \n...                                                                                                                                ...   \n7734485  {\"coordinates\":{\"x\":252,\"y\":651,\"stage_width\":1015,\"stage_height\":762},\"event_count\":65,\"game_time\":161686,\"event_code\":4070}   \n7734501     {\"coordinates\":{\"x\":721,\"y\":218,\"stage_width\":1015,\"stage_height\":762},\"event_count\":5,\"game_time\":5896,\"event_code\":4070}   \n7734502     {\"coordinates\":{\"x\":712,\"y\":128,\"stage_width\":1015,\"stage_height\":762},\"event_count\":6,\"game_time\":6723,\"event_code\":4070}   \n7734528   {\"coordinates\":{\"x\":755,\"y\":378,\"stage_width\":1015,\"stage_height\":762},\"event_count\":32,\"game_time\":42159,\"event_code\":4070}   \n7734552   {\"coordinates\":{\"x\":482,\"y\":365,\"stage_width\":1015,\"stage_height\":762},\"event_count\":56,\"game_time\":65281,\"event_code\":4070}   \n\n        installation_id  event_count  event_code  game_time  \\\n4              0006a69f            3        4070       2137   \n5              0006a69f            4        4070       3937   \n6              0006a69f            5        4070       4820   \n8              0006a69f            7        4070       8187   \n12             0006a69f           11        4070       9516   \n...                 ...          ...         ...        ...   \n7734485        ffeb0b1b           65        4070     161686   \n7734501        ffeb0b1b            5        4070       5896   \n7734502        ffeb0b1b            6        4070       6723   \n7734528        ffeb0b1b           32        4070      42159   \n7734552        ffeb0b1b           56        4070      65281   \n\n                                 title        type      world  \n4        Sandcastle Builder (Activity)    Activity  MAGMAPEAK  \n5        Sandcastle Builder (Activity)    Activity  MAGMAPEAK  \n6        Sandcastle Builder (Activity)    Activity  MAGMAPEAK  \n8        Sandcastle Builder (Activity)    Activity  MAGMAPEAK  \n12       Sandcastle Builder (Activity)    Activity  MAGMAPEAK  \n...                                ...         ...        ...  \n7734485  Sandcastle Builder (Activity)    Activity  MAGMAPEAK  \n7734501   Cauldron Filler (Assessment)  Assessment  MAGMAPEAK  \n7734502   Cauldron Filler (Assessment)  Assessment  MAGMAPEAK  \n7734528   Cauldron Filler (Assessment)  Assessment  MAGMAPEAK  \n7734552   Cauldron Filler (Assessment)  Assessment  MAGMAPEAK  \n\n[1521039 rows x 11 columns]"
     },
     "execution_count": 6,
     "metadata": {},
     "output_type": "execute_result"
    }
   ],
   "source": [
    "train[train['event_code'] == 4070]"
   ]
  },
  {
   "cell_type": "code",
   "execution_count": 7,
   "metadata": {},
   "outputs": [
    {
     "data": {
      "text/plain": "cf82af56    134843\n76babcde    127663\n1325467d    125493\n884228c8    110076\n7dfe6d8a     98369\n6c517a88     95938\n5e3ea25a     86249\nbcceccc6     74798\na0faea5d     71567\n7372e1a5     63173\nf3cd5473     63149\n587b5989     61245\n15a43e5b     51250\n4bb2f698     46378\n7da34a02     44586\nc952eb01     43363\na44b10dc     38345\na16a373e     38041\n565a3990     34368\n3ee399c3     29297\nbd612267     26557\nacf5c23f     22292\na7640a16     19262\n9e34ea74     14737\nName: event_id, dtype: int64"
     },
     "execution_count": 7,
     "metadata": {},
     "output_type": "execute_result"
    }
   ],
   "source": [
    "train[train['event_code'] == 4070]['event_id'].value_counts()"
   ]
  },
  {
   "cell_type": "code",
   "execution_count": null,
   "metadata": {},
   "outputs": [],
   "source": []
  }
 ],
 "metadata": {
  "kernelspec": {
   "display_name": "Python [conda env:machine-learning] *",
   "language": "python",
   "name": "conda-env-machine-learning-py"
  },
  "language_info": {
   "codemirror_mode": {
    "name": "ipython",
    "version": 3
   },
   "file_extension": ".py",
   "mimetype": "text/x-python",
   "name": "python",
   "nbconvert_exporter": "python",
   "pygments_lexer": "ipython3",
   "version": "3.7.4"
  }
 },
 "nbformat": 4,
 "nbformat_minor": 2
}